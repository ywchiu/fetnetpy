{
 "cells": [
  {
   "cell_type": "markdown",
   "metadata": {},
   "source": [
    "## Python Basic"
   ]
  },
  {
   "cell_type": "code",
   "execution_count": 1,
   "metadata": {},
   "outputs": [
    {
     "data": {
      "text/plain": [
       "5"
      ]
     },
     "execution_count": 1,
     "metadata": {},
     "output_type": "execute_result"
    }
   ],
   "source": [
    "a = 3\n",
    "b = 2\n",
    "a + b"
   ]
  },
  {
   "cell_type": "markdown",
   "metadata": {},
   "source": [
    "## GET"
   ]
  },
  {
   "cell_type": "code",
   "execution_count": 4,
   "metadata": {},
   "outputs": [
    {
     "data": {
      "text/plain": [
       "<Response [200]>"
      ]
     },
     "execution_count": 4,
     "metadata": {},
     "output_type": "execute_result"
    }
   ],
   "source": [
    "import requests\n",
    "res = requests.get('https://www.fetnet.net/estore/phone')\n",
    "res"
   ]
  },
  {
   "cell_type": "code",
   "execution_count": 6,
   "metadata": {},
   "outputs": [],
   "source": [
    "#res.text"
   ]
  },
  {
   "cell_type": "code",
   "execution_count": 7,
   "metadata": {},
   "outputs": [
    {
     "data": {
      "text/plain": [
       "200"
      ]
     },
     "execution_count": 7,
     "metadata": {},
     "output_type": "execute_result"
    }
   ],
   "source": [
    "dic = {'a': 100, 'b':200, 'c':300}\n",
    "dic['b']"
   ]
  },
  {
   "cell_type": "markdown",
   "metadata": {},
   "source": [
    "## POST"
   ]
  },
  {
   "cell_type": "code",
   "execution_count": 8,
   "metadata": {},
   "outputs": [
    {
     "data": {
      "text/plain": [
       "<Response [200]>"
      ]
     },
     "execution_count": 8,
     "metadata": {},
     "output_type": "execute_result"
    }
   ],
   "source": [
    "import requests\n",
    "url = 'https://www.fetnet.net/estore/phone'\n",
    "payload = {\n",
    "'keyword4Handset': 'iphone', \n",
    "'pageNo4Whole': '1',\n",
    "'pageNo4Handset': '1',\n",
    "'pageNo4Tablet': '1',\n",
    "'pageNo4Accessory': '1',\n",
    "'tabType': 'searchTab2',\n",
    "'changeTab': 'handsetMain',\n",
    "'keywordWebTrendFlag': 'Y'    \n",
    "}\n",
    "\n",
    "\n",
    "res = requests.post(url, data = payload)\n",
    "res\n"
   ]
  },
  {
   "cell_type": "code",
   "execution_count": 17,
   "metadata": {},
   "outputs": [
    {
     "data": {
      "text/plain": [
       "requests.models.Response"
      ]
     },
     "execution_count": 17,
     "metadata": {},
     "output_type": "execute_result"
    }
   ],
   "source": [
    "type(res)"
   ]
  },
  {
   "cell_type": "code",
   "execution_count": 10,
   "metadata": {},
   "outputs": [],
   "source": [
    "#res.text"
   ]
  },
  {
   "cell_type": "markdown",
   "metadata": {},
   "source": [
    "## BeautifulSoup"
   ]
  },
  {
   "cell_type": "code",
   "execution_count": 11,
   "metadata": {},
   "outputs": [
    {
     "data": {
      "text/plain": [
       "15"
      ]
     },
     "execution_count": 11,
     "metadata": {},
     "output_type": "execute_result"
    }
   ],
   "source": [
    "a = [1,2,3,4,5]\n",
    "sum(a)"
   ]
  },
  {
   "cell_type": "code",
   "execution_count": 12,
   "metadata": {},
   "outputs": [
    {
     "ename": "TypeError",
     "evalue": "'int' object is not callable",
     "output_type": "error",
     "traceback": [
      "\u001b[0;31m---------------------------------------------------------------------------\u001b[0m",
      "\u001b[0;31mTypeError\u001b[0m                                 Traceback (most recent call last)",
      "\u001b[0;32m<ipython-input-12-ea9ccae5d9db>\u001b[0m in \u001b[0;36m<module>\u001b[0;34m()\u001b[0m\n\u001b[1;32m      1\u001b[0m \u001b[0msum\u001b[0m \u001b[0;34m=\u001b[0m \u001b[0;36m3\u001b[0m\u001b[0;34m\u001b[0m\u001b[0m\n\u001b[0;32m----> 2\u001b[0;31m \u001b[0msum\u001b[0m\u001b[0;34m(\u001b[0m\u001b[0ma\u001b[0m\u001b[0;34m)\u001b[0m\u001b[0;34m\u001b[0m\u001b[0m\n\u001b[0m",
      "\u001b[0;31mTypeError\u001b[0m: 'int' object is not callable"
     ]
    }
   ],
   "source": [
    "sum = 3\n",
    "sum(a)"
   ]
  },
  {
   "cell_type": "code",
   "execution_count": 13,
   "metadata": {},
   "outputs": [
    {
     "data": {
      "text/plain": [
       "bs4.BeautifulSoup"
      ]
     },
     "execution_count": 13,
     "metadata": {},
     "output_type": "execute_result"
    }
   ],
   "source": [
    "from bs4 import BeautifulSoup\n",
    "\n",
    "import bs4\n",
    "bs4.BeautifulSoup"
   ]
  },
  {
   "cell_type": "code",
   "execution_count": 14,
   "metadata": {},
   "outputs": [],
   "source": [
    "html_sample = '''\n",
    "<html> \n",
    " <body> \n",
    " <h1 id=\"title\">Hello World</h1> \n",
    " <a href=\"#\" class=\"link\">This is link1</a> \n",
    " <a href=\"# link2\" class=\"link\">This is link2</a> \n",
    " </body> \n",
    " </html>\n",
    "'''\n",
    "soup  =  BeautifulSoup(html_sample, 'lxml')"
   ]
  },
  {
   "cell_type": "code",
   "execution_count": 16,
   "metadata": {},
   "outputs": [
    {
     "data": {
      "text/plain": [
       "bs4.BeautifulSoup"
      ]
     },
     "execution_count": 16,
     "metadata": {},
     "output_type": "execute_result"
    }
   ],
   "source": [
    "type(soup)"
   ]
  },
  {
   "cell_type": "code",
   "execution_count": 15,
   "metadata": {},
   "outputs": [
    {
     "data": {
      "text/plain": [
       "'\\n\\nHello World\\nThis is link1\\nThis is link2\\n\\n\\n'"
      ]
     },
     "execution_count": 15,
     "metadata": {},
     "output_type": "execute_result"
    }
   ],
   "source": [
    "soup.text"
   ]
  },
  {
   "cell_type": "code",
   "execution_count": 18,
   "metadata": {},
   "outputs": [
    {
     "data": {
      "text/plain": [
       "<h1 id=\"title\">Hello World</h1>"
      ]
     },
     "execution_count": 18,
     "metadata": {},
     "output_type": "execute_result"
    }
   ],
   "source": [
    "soup.select_one('h1')"
   ]
  },
  {
   "cell_type": "code",
   "execution_count": 19,
   "metadata": {},
   "outputs": [
    {
     "data": {
      "text/plain": [
       "'Hello World'"
      ]
     },
     "execution_count": 19,
     "metadata": {},
     "output_type": "execute_result"
    }
   ],
   "source": [
    "soup.select_one('h1').text"
   ]
  },
  {
   "cell_type": "code",
   "execution_count": 20,
   "metadata": {},
   "outputs": [
    {
     "data": {
      "text/plain": [
       "[<h1 id=\"title\">Hello World</h1>]"
      ]
     },
     "execution_count": 20,
     "metadata": {},
     "output_type": "execute_result"
    }
   ],
   "source": [
    "soup.select('h1')"
   ]
  },
  {
   "cell_type": "code",
   "execution_count": 21,
   "metadata": {},
   "outputs": [
    {
     "data": {
      "text/plain": [
       "'Hello World'"
      ]
     },
     "execution_count": 21,
     "metadata": {},
     "output_type": "execute_result"
    }
   ],
   "source": [
    "soup.select('h1')[0].text"
   ]
  },
  {
   "cell_type": "code",
   "execution_count": 22,
   "metadata": {},
   "outputs": [
    {
     "data": {
      "text/plain": [
       "<a class=\"link\" href=\"#\">This is link1</a>"
      ]
     },
     "execution_count": 22,
     "metadata": {},
     "output_type": "execute_result"
    }
   ],
   "source": [
    "soup.select_one('a')"
   ]
  },
  {
   "cell_type": "code",
   "execution_count": 23,
   "metadata": {},
   "outputs": [
    {
     "data": {
      "text/plain": [
       "[<a class=\"link\" href=\"#\">This is link1</a>,\n",
       " <a class=\"link\" href=\"# link2\">This is link2</a>]"
      ]
     },
     "execution_count": 23,
     "metadata": {},
     "output_type": "execute_result"
    }
   ],
   "source": [
    "soup.select('a')"
   ]
  },
  {
   "cell_type": "code",
   "execution_count": 25,
   "metadata": {},
   "outputs": [
    {
     "name": "stdout",
     "output_type": "stream",
     "text": [
      "This is link1\n",
      "This is link2\n"
     ]
    }
   ],
   "source": [
    "for link in soup.select('a'):\n",
    "    print(link.text)"
   ]
  },
  {
   "cell_type": "code",
   "execution_count": 27,
   "metadata": {},
   "outputs": [
    {
     "data": {
      "text/plain": [
       "<h1 id=\"title\">Hello World</h1>"
      ]
     },
     "execution_count": 27,
     "metadata": {},
     "output_type": "execute_result"
    }
   ],
   "source": [
    "# id => #\n",
    "soup.select_one('#title')"
   ]
  },
  {
   "cell_type": "code",
   "execution_count": 28,
   "metadata": {},
   "outputs": [
    {
     "data": {
      "text/plain": [
       "[<a class=\"link\" href=\"#\">This is link1</a>,\n",
       " <a class=\"link\" href=\"# link2\">This is link2</a>]"
      ]
     },
     "execution_count": 28,
     "metadata": {},
     "output_type": "execute_result"
    }
   ],
   "source": [
    "# class = > .\n",
    "soup.select('.link')"
   ]
  },
  {
   "cell_type": "code",
   "execution_count": 29,
   "metadata": {},
   "outputs": [
    {
     "data": {
      "text/plain": [
       "<h1 id=\"title\">Hello World</h1>"
      ]
     },
     "execution_count": 29,
     "metadata": {},
     "output_type": "execute_result"
    }
   ],
   "source": [
    "soup.select_one('body h1#title')"
   ]
  },
  {
   "cell_type": "code",
   "execution_count": 34,
   "metadata": {},
   "outputs": [
    {
     "name": "stdout",
     "output_type": "stream",
     "text": [
      "#\n",
      "# link2\n"
     ]
    }
   ],
   "source": [
    "for link in soup.select('a.link'):\n",
    "    #print(link)\n",
    "    #print(link.text)\n",
    "    print(link.get('href'))"
   ]
  },
  {
   "cell_type": "markdown",
   "metadata": {},
   "source": [
    "## 抓取手機資訊"
   ]
  },
  {
   "cell_type": "code",
   "execution_count": 35,
   "metadata": {},
   "outputs": [
    {
     "data": {
      "text/plain": [
       "<Response [200]>"
      ]
     },
     "execution_count": 35,
     "metadata": {},
     "output_type": "execute_result"
    }
   ],
   "source": [
    "import requests\n",
    "res = requests.get('https://www.fetnet.net/estore/phone')\n",
    "res"
   ]
  },
  {
   "cell_type": "code",
   "execution_count": 37,
   "metadata": {},
   "outputs": [],
   "source": [
    "from bs4 import BeautifulSoup\n",
    "soup = BeautifulSoup(res.text, 'lxml')"
   ]
  },
  {
   "cell_type": "code",
   "execution_count": 54,
   "metadata": {},
   "outputs": [
    {
     "data": {
      "text/plain": [
       "'1$2$3'"
      ]
     },
     "execution_count": 54,
     "metadata": {},
     "output_type": "execute_result"
    }
   ],
   "source": [
    "a = '         1           2            3'\n",
    "b = a.split()\n",
    "'$'.join(b)"
   ]
  },
  {
   "cell_type": "code",
   "execution_count": 58,
   "metadata": {},
   "outputs": [],
   "source": [
    "# class = itemLink\n",
    "#soup.select('.itemLink')\n",
    "\n",
    "items = []\n",
    "for item in soup.select('#itemList01 a.itemLink'):\n",
    "    #print(item)\n",
    "    headings = item.select_one('h2').text\n",
    "    desc     = item.select_one('.des').text\n",
    "    #print(''.join(item.select_one('.price').text.split()) )\n",
    "    price    = item.select_one('.price').text.split()[1] \n",
    "    items.append({'headings':headings, 'desc':desc, 'price': price})\n",
    "    #print(headings, desc, price)"
   ]
  },
  {
   "cell_type": "code",
   "execution_count": 60,
   "metadata": {},
   "outputs": [
    {
     "data": {
      "text/html": [
       "<div>\n",
       "<style>\n",
       "    .dataframe thead tr:only-child th {\n",
       "        text-align: right;\n",
       "    }\n",
       "\n",
       "    .dataframe thead th {\n",
       "        text-align: left;\n",
       "    }\n",
       "\n",
       "    .dataframe tbody tr th {\n",
       "        vertical-align: top;\n",
       "    }\n",
       "</style>\n",
       "<table border=\"1\" class=\"dataframe\">\n",
       "  <thead>\n",
       "    <tr style=\"text-align: right;\">\n",
       "      <th></th>\n",
       "      <th>desc</th>\n",
       "      <th>headings</th>\n",
       "      <th>price</th>\n",
       "    </tr>\n",
       "  </thead>\n",
       "  <tbody>\n",
       "    <tr>\n",
       "      <th>0</th>\n",
       "      <td>4.7 吋對角線 LED 背光寬..</td>\n",
       "      <td>Apple iPhone 6 32GB 2018版</td>\n",
       "      <td>0</td>\n",
       "    </tr>\n",
       "    <tr>\n",
       "      <th>1</th>\n",
       "      <td>4G ＋ 3G 雙卡雙待</td>\n",
       "      <td>SONY Xperia XA2 Plus</td>\n",
       "      <td>0</td>\n",
       "    </tr>\n",
       "    <tr>\n",
       "      <th>2</th>\n",
       "      <td>4G ＋ 4G 雙卡雙待</td>\n",
       "      <td>小米 Max 3</td>\n",
       "      <td>0</td>\n",
       "    </tr>\n",
       "    <tr>\n",
       "      <th>3</th>\n",
       "      <td>4G ＋ 3G 雙卡雙待</td>\n",
       "      <td>OPPO AX5</td>\n",
       "      <td>0</td>\n",
       "    </tr>\n",
       "    <tr>\n",
       "      <th>4</th>\n",
       "      <td>4G ＋ 4G 雙卡雙待</td>\n",
       "      <td>Huawei nova 3</td>\n",
       "      <td>0</td>\n",
       "    </tr>\n",
       "    <tr>\n",
       "      <th>5</th>\n",
       "      <td>4G ＋ 4G 雙卡雙待</td>\n",
       "      <td>Sugar P1</td>\n",
       "      <td>0</td>\n",
       "    </tr>\n",
       "    <tr>\n",
       "      <th>6</th>\n",
       "      <td>雙卡雙待4G+4G,八核心處..</td>\n",
       "      <td>Samsung Galaxy Note 9 128GB</td>\n",
       "      <td>2990</td>\n",
       "    </tr>\n",
       "    <tr>\n",
       "      <th>7</th>\n",
       "      <td>6.4吋曲面全景螢幕 2340*..</td>\n",
       "      <td>OPPO Find X</td>\n",
       "      <td>990</td>\n",
       "    </tr>\n",
       "    <tr>\n",
       "      <th>8</th>\n",
       "      <td>5.5 吋 1,920 x 1,080pixels LE..</td>\n",
       "      <td>Apple iPhone 6S Plus 2018 128G..</td>\n",
       "      <td>0</td>\n",
       "    </tr>\n",
       "    <tr>\n",
       "      <th>9</th>\n",
       "      <td>2.4 吋 320 x 240pixels 解析..</td>\n",
       "      <td>Nokia 8110 4G</td>\n",
       "      <td>0</td>\n",
       "    </tr>\n",
       "    <tr>\n",
       "      <th>10</th>\n",
       "      <td>5.45 吋 1,440 x 720pixels 解..</td>\n",
       "      <td>MI 紅米 6 64GB</td>\n",
       "      <td>0</td>\n",
       "    </tr>\n",
       "    <tr>\n",
       "      <th>11</th>\n",
       "      <td>5.45 吋 1,440 x 720pixels 解..</td>\n",
       "      <td>MI 紅米 6 32GB</td>\n",
       "      <td>0</td>\n",
       "    </tr>\n",
       "  </tbody>\n",
       "</table>\n",
       "</div>"
      ],
      "text/plain": [
       "                              desc                          headings price\n",
       "0               4.7 吋對角線 LED 背光寬..         Apple iPhone 6 32GB 2018版     0\n",
       "1                     4G ＋ 3G 雙卡雙待              SONY Xperia XA2 Plus     0\n",
       "2                     4G ＋ 4G 雙卡雙待                          小米 Max 3     0\n",
       "3                     4G ＋ 3G 雙卡雙待                          OPPO AX5     0\n",
       "4                     4G ＋ 4G 雙卡雙待                     Huawei nova 3     0\n",
       "5                     4G ＋ 4G 雙卡雙待                          Sugar P1     0\n",
       "6                 雙卡雙待4G+4G,八核心處..       Samsung Galaxy Note 9 128GB  2990\n",
       "7               6.4吋曲面全景螢幕 2340*..                       OPPO Find X   990\n",
       "8   5.5 吋 1,920 x 1,080pixels LE..  Apple iPhone 6S Plus 2018 128G..     0\n",
       "9       2.4 吋 320 x 240pixels 解析..                     Nokia 8110 4G     0\n",
       "10    5.45 吋 1,440 x 720pixels 解..                      MI 紅米 6 64GB     0\n",
       "11    5.45 吋 1,440 x 720pixels 解..                      MI 紅米 6 32GB     0"
      ]
     },
     "execution_count": 60,
     "metadata": {},
     "output_type": "execute_result"
    }
   ],
   "source": [
    "import pandas\n",
    "phones = pandas.DataFrame(items)\n",
    "phones"
   ]
  },
  {
   "cell_type": "code",
   "execution_count": 61,
   "metadata": {},
   "outputs": [],
   "source": [
    "phones.to_excel('fetnetphones.xlsx')"
   ]
  },
  {
   "cell_type": "markdown",
   "metadata": {},
   "source": [
    "## 換頁"
   ]
  },
  {
   "cell_type": "code",
   "execution_count": 2,
   "metadata": {},
   "outputs": [
    {
     "name": "stdout",
     "output_type": "stream",
     "text": [
      "1\n",
      "2\n",
      "3\n",
      "4\n",
      "5\n",
      "6\n"
     ]
    }
   ],
   "source": [
    "for p in range(1,7):\n",
    "    print(p)"
   ]
  },
  {
   "cell_type": "code",
   "execution_count": 13,
   "metadata": {},
   "outputs": [
    {
     "data": {
      "text/plain": [
       "[1, 2, 3, 4, 5, 6]"
      ]
     },
     "execution_count": 13,
     "metadata": {},
     "output_type": "execute_result"
    }
   ],
   "source": [
    "a = [1,2,3]\n",
    "b = [4,5,6]\n",
    "a.extend(b)\n",
    "a"
   ]
  },
  {
   "cell_type": "code",
   "execution_count": 9,
   "metadata": {},
   "outputs": [],
   "source": [
    "from bs4 import BeautifulSoup\n",
    "def parseItems(res):\n",
    "    items = []\n",
    "    soup = BeautifulSoup(res.text, 'lxml')\n",
    "    for item in soup.select('#itemList01 a.itemLink'):\n",
    "        headings = item.select_one('h2').text\n",
    "        desc     = item.select_one('.des').text\n",
    "        price    = item.select_one('.price').text.split()[1] \n",
    "        items.append({'headings':headings, 'desc':desc, 'price': price})\n",
    "    return items"
   ]
  },
  {
   "cell_type": "code",
   "execution_count": 10,
   "metadata": {},
   "outputs": [
    {
     "name": "stdout",
     "output_type": "stream",
     "text": [
      "1\n",
      "2\n",
      "3\n",
      "4\n",
      "5\n",
      "6\n"
     ]
    }
   ],
   "source": [
    "import requests\n",
    "url     = 'https://www.fetnet.net/estore/phone/' \n",
    "payload = {\n",
    " 'pageNo': 2   \n",
    "}\n",
    "products = []\n",
    "for p in range(1,7):\n",
    "    payload['pageNo'] = p\n",
    "    #print(payload)\n",
    "    res = requests.post(url, data = payload)\n",
    "    products.extend(parseItems(res))\n",
    "    print(p)"
   ]
  },
  {
   "cell_type": "code",
   "execution_count": 11,
   "metadata": {},
   "outputs": [],
   "source": [
    "import pandas\n",
    "phones = pandas.DataFrame(products)"
   ]
  },
  {
   "cell_type": "code",
   "execution_count": 12,
   "metadata": {},
   "outputs": [
    {
     "data": {
      "text/html": [
       "<div>\n",
       "<style>\n",
       "    .dataframe thead tr:only-child th {\n",
       "        text-align: right;\n",
       "    }\n",
       "\n",
       "    .dataframe thead th {\n",
       "        text-align: left;\n",
       "    }\n",
       "\n",
       "    .dataframe tbody tr th {\n",
       "        vertical-align: top;\n",
       "    }\n",
       "</style>\n",
       "<table border=\"1\" class=\"dataframe\">\n",
       "  <thead>\n",
       "    <tr style=\"text-align: right;\">\n",
       "      <th></th>\n",
       "      <th>desc</th>\n",
       "      <th>headings</th>\n",
       "      <th>price</th>\n",
       "    </tr>\n",
       "  </thead>\n",
       "  <tbody>\n",
       "    <tr>\n",
       "      <th>0</th>\n",
       "      <td>4.7 吋對角線 LED 背光寬..</td>\n",
       "      <td>Apple iPhone 6 32GB 2018版</td>\n",
       "      <td>0</td>\n",
       "    </tr>\n",
       "    <tr>\n",
       "      <th>1</th>\n",
       "      <td>4G ＋ 3G 雙卡雙待</td>\n",
       "      <td>SONY Xperia XA2 Plus</td>\n",
       "      <td>0</td>\n",
       "    </tr>\n",
       "    <tr>\n",
       "      <th>2</th>\n",
       "      <td>4G ＋ 4G 雙卡雙待</td>\n",
       "      <td>小米 Max 3</td>\n",
       "      <td>0</td>\n",
       "    </tr>\n",
       "    <tr>\n",
       "      <th>3</th>\n",
       "      <td>4G ＋ 3G 雙卡雙待</td>\n",
       "      <td>OPPO AX5</td>\n",
       "      <td>0</td>\n",
       "    </tr>\n",
       "    <tr>\n",
       "      <th>4</th>\n",
       "      <td>4G ＋ 4G 雙卡雙待</td>\n",
       "      <td>Huawei nova 3</td>\n",
       "      <td>0</td>\n",
       "    </tr>\n",
       "    <tr>\n",
       "      <th>5</th>\n",
       "      <td>4G ＋ 4G 雙卡雙待</td>\n",
       "      <td>Sugar P1</td>\n",
       "      <td>0</td>\n",
       "    </tr>\n",
       "    <tr>\n",
       "      <th>6</th>\n",
       "      <td>雙卡雙待4G+4G,八核心處..</td>\n",
       "      <td>Samsung Galaxy Note 9 128GB</td>\n",
       "      <td>2990</td>\n",
       "    </tr>\n",
       "    <tr>\n",
       "      <th>7</th>\n",
       "      <td>6.4吋曲面全景螢幕 2340*..</td>\n",
       "      <td>OPPO Find X</td>\n",
       "      <td>990</td>\n",
       "    </tr>\n",
       "    <tr>\n",
       "      <th>8</th>\n",
       "      <td>5.5 吋 1,920 x 1,080pixels LE..</td>\n",
       "      <td>Apple iPhone 6S Plus 2018 128G..</td>\n",
       "      <td>0</td>\n",
       "    </tr>\n",
       "    <tr>\n",
       "      <th>9</th>\n",
       "      <td>2.4 吋 320 x 240pixels 解析..</td>\n",
       "      <td>Nokia 8110 4G</td>\n",
       "      <td>0</td>\n",
       "    </tr>\n",
       "    <tr>\n",
       "      <th>10</th>\n",
       "      <td>5.45 吋 1,440 x 720pixels 解..</td>\n",
       "      <td>MI 紅米 6 64GB</td>\n",
       "      <td>0</td>\n",
       "    </tr>\n",
       "    <tr>\n",
       "      <th>11</th>\n",
       "      <td>5.45 吋 1,440 x 720pixels 解..</td>\n",
       "      <td>MI 紅米 6 32GB</td>\n",
       "      <td>0</td>\n",
       "    </tr>\n",
       "    <tr>\n",
       "      <th>12</th>\n",
       "      <td>5.5 吋 1,920 x 1,080pixels LE..</td>\n",
       "      <td>Apple iPhone 6S Plus 2018 32GB</td>\n",
       "      <td>0</td>\n",
       "    </tr>\n",
       "    <tr>\n",
       "      <th>13</th>\n",
       "      <td>6 吋 2,160 x 1,080pixels 解..</td>\n",
       "      <td>Asus ZenFone Max Pro 64GB</td>\n",
       "      <td>0</td>\n",
       "    </tr>\n",
       "    <tr>\n",
       "      <th>14</th>\n",
       "      <td>6 吋 2,160 x 1,080pixels 解..</td>\n",
       "      <td>Asus ZenFone Max Pro 32GB</td>\n",
       "      <td>0</td>\n",
       "    </tr>\n",
       "    <tr>\n",
       "      <th>15</th>\n",
       "      <td>4G ＋ 4G 雙卡雙待</td>\n",
       "      <td>Nokia 6.1 Plus</td>\n",
       "      <td>0</td>\n",
       "    </tr>\n",
       "    <tr>\n",
       "      <th>16</th>\n",
       "      <td>6.2 吋 2,280x 1,080pixels 解..</td>\n",
       "      <td>OPPO A3</td>\n",
       "      <td>0</td>\n",
       "    </tr>\n",
       "    <tr>\n",
       "      <th>17</th>\n",
       "      <td>5.2 吋 1,440 x 720pixels 解..</td>\n",
       "      <td>Nokia 3.1</td>\n",
       "      <td>0</td>\n",
       "    </tr>\n",
       "    <tr>\n",
       "      <th>18</th>\n",
       "      <td>6.3 吋 2,220 x 1080pixels 解..</td>\n",
       "      <td>Samsung Galaxy A8 Star</td>\n",
       "      <td>0</td>\n",
       "    </tr>\n",
       "    <tr>\n",
       "      <th>19</th>\n",
       "      <td>5.5 吋 1,440x 720pixels 解..</td>\n",
       "      <td>Asus ZenFone Max (M1) ZB555KL</td>\n",
       "      <td>0</td>\n",
       "    </tr>\n",
       "    <tr>\n",
       "      <th>20</th>\n",
       "      <td>6 吋 2,880 x 1,440pixels 解..</td>\n",
       "      <td>HTC U12+ 64GB</td>\n",
       "      <td>0</td>\n",
       "    </tr>\n",
       "    <tr>\n",
       "      <th>21</th>\n",
       "      <td>5.7 吋 1,440 x 720pixels 解..</td>\n",
       "      <td>Koobee S12</td>\n",
       "      <td>0</td>\n",
       "    </tr>\n",
       "    <tr>\n",
       "      <th>22</th>\n",
       "      <td>6 吋 1,440 x 720pixels 解析..</td>\n",
       "      <td>HTC Desire 12+</td>\n",
       "      <td>0</td>\n",
       "    </tr>\n",
       "    <tr>\n",
       "      <th>23</th>\n",
       "      <td>5.84 吋 2,280 x 1,080pixels ..</td>\n",
       "      <td>Huawei nova 3e</td>\n",
       "      <td>0</td>\n",
       "    </tr>\n",
       "    <tr>\n",
       "      <th>24</th>\n",
       "      <td>5.6 吋 1,480 x 720pixels 解..</td>\n",
       "      <td>Samsung Galaxy J6</td>\n",
       "      <td>0</td>\n",
       "    </tr>\n",
       "    <tr>\n",
       "      <th>25</th>\n",
       "      <td>5.5 吋 1,280 x 720pixels 解..</td>\n",
       "      <td>Samsung Galaxy J4</td>\n",
       "      <td>0</td>\n",
       "    </tr>\n",
       "    <tr>\n",
       "      <th>26</th>\n",
       "      <td>6 吋 2,220 x 1,080pixels 解..</td>\n",
       "      <td>Samsung Galaxy A6+</td>\n",
       "      <td>0</td>\n",
       "    </tr>\n",
       "    <tr>\n",
       "      <th>27</th>\n",
       "      <td>5.99 吋 2,160 x 1,080pixels ..</td>\n",
       "      <td>MI 紅米 Note 5 32GB</td>\n",
       "      <td>0</td>\n",
       "    </tr>\n",
       "    <tr>\n",
       "      <th>28</th>\n",
       "      <td>6.28 吋 2,280 x 1,080pixels ..</td>\n",
       "      <td>OPPO R15</td>\n",
       "      <td>0</td>\n",
       "    </tr>\n",
       "    <tr>\n",
       "      <th>29</th>\n",
       "      <td>5.99 吋 2,160 x 1,080pixels ..</td>\n",
       "      <td>小米 MIX 2S</td>\n",
       "      <td>0</td>\n",
       "    </tr>\n",
       "    <tr>\n",
       "      <th>...</th>\n",
       "      <td>...</td>\n",
       "      <td>...</td>\n",
       "      <td>...</td>\n",
       "    </tr>\n",
       "    <tr>\n",
       "      <th>37</th>\n",
       "      <td>5.8 吋 2,244 x 1,080pixels ..</td>\n",
       "      <td>Huawei P20</td>\n",
       "      <td>0</td>\n",
       "    </tr>\n",
       "    <tr>\n",
       "      <th>38</th>\n",
       "      <td>6 吋 2,160 x 1,080pixels 解..</td>\n",
       "      <td>Nokia 7 Plus</td>\n",
       "      <td>0</td>\n",
       "    </tr>\n",
       "    <tr>\n",
       "      <th>39</th>\n",
       "      <td>5.5 吋 1,920 x 1,080pixels ..</td>\n",
       "      <td>Nokia 6.1</td>\n",
       "      <td>0</td>\n",
       "    </tr>\n",
       "    <tr>\n",
       "      <th>40</th>\n",
       "      <td>6 吋 2,160 x 1,080pixels 解..</td>\n",
       "      <td>Asus ZenFone 5Q</td>\n",
       "      <td>0</td>\n",
       "    </tr>\n",
       "    <tr>\n",
       "      <th>41</th>\n",
       "      <td>5.7 吋 2,160 x 1,080pixels ..</td>\n",
       "      <td>SONY Xperia XZ2</td>\n",
       "      <td>0</td>\n",
       "    </tr>\n",
       "    <tr>\n",
       "      <th>42</th>\n",
       "      <td>4G ＋ 3G 雙卡雙待</td>\n",
       "      <td>Samsung Galaxy J7 Pro</td>\n",
       "      <td>0</td>\n",
       "    </tr>\n",
       "    <tr>\n",
       "      <th>43</th>\n",
       "      <td>6 吋 2,160 x 1,080pixels 解..</td>\n",
       "      <td>OPPO A75</td>\n",
       "      <td>0</td>\n",
       "    </tr>\n",
       "    <tr>\n",
       "      <th>44</th>\n",
       "      <td>5 吋 960 x 540pixels 解析..</td>\n",
       "      <td>Samsung Galaxy J2 Pro</td>\n",
       "      <td>0</td>\n",
       "    </tr>\n",
       "    <tr>\n",
       "      <th>45</th>\n",
       "      <td>【貼心提醒】除符合鑑..</td>\n",
       "      <td>Apple iPhone X 64GB福利品</td>\n",
       "      <td>14500</td>\n",
       "    </tr>\n",
       "    <tr>\n",
       "      <th>46</th>\n",
       "      <td>【貼心提醒】除符合鑑..</td>\n",
       "      <td>Apple iPhone X 256GB福利品</td>\n",
       "      <td>19000</td>\n",
       "    </tr>\n",
       "    <tr>\n",
       "      <th>47</th>\n",
       "      <td>【貼心提醒】除符合鑑..</td>\n",
       "      <td>Apple iPhone 8 Plus 64GB福利..</td>\n",
       "      <td>10900</td>\n",
       "    </tr>\n",
       "    <tr>\n",
       "      <th>48</th>\n",
       "      <td>【貼心提醒】除符合鑑..</td>\n",
       "      <td>Apple iPhone 8 Plus 256GB福..</td>\n",
       "      <td>14900</td>\n",
       "    </tr>\n",
       "    <tr>\n",
       "      <th>49</th>\n",
       "      <td>【貼心提醒】除符合鑑..</td>\n",
       "      <td>Apple iPhone 8 64GB福利品</td>\n",
       "      <td>7500</td>\n",
       "    </tr>\n",
       "    <tr>\n",
       "      <th>50</th>\n",
       "      <td>【貼心提醒】除符合鑑..</td>\n",
       "      <td>Apple iPhone 8 256GB福利品</td>\n",
       "      <td>11500</td>\n",
       "    </tr>\n",
       "    <tr>\n",
       "      <th>51</th>\n",
       "      <td>4G+3G 雙卡雙待</td>\n",
       "      <td>Samsung Galaxy S9+ 128GB</td>\n",
       "      <td>990</td>\n",
       "    </tr>\n",
       "    <tr>\n",
       "      <th>52</th>\n",
       "      <td>4G+3G 雙卡雙待</td>\n",
       "      <td>Samsung Galaxy S9 64GB</td>\n",
       "      <td>0</td>\n",
       "    </tr>\n",
       "    <tr>\n",
       "      <th>53</th>\n",
       "      <td>6 吋 1,920 x 1,080pixels 解..</td>\n",
       "      <td>SONY Xperia XA2 Ultra</td>\n",
       "      <td>0</td>\n",
       "    </tr>\n",
       "    <tr>\n",
       "      <th>54</th>\n",
       "      <td>5.5 吋 1,280 x 720pixels 解..</td>\n",
       "      <td>SONY Xperia L2</td>\n",
       "      <td>0</td>\n",
       "    </tr>\n",
       "    <tr>\n",
       "      <th>55</th>\n",
       "      <td>5 吋 1,280 x 720pixels 解析..</td>\n",
       "      <td>FarEastone Smart 509</td>\n",
       "      <td>0</td>\n",
       "    </tr>\n",
       "    <tr>\n",
       "      <th>56</th>\n",
       "      <td>5.7 吋 1,440 x 720pixels 解..</td>\n",
       "      <td>Asus ZenFone Max Plus</td>\n",
       "      <td>0</td>\n",
       "    </tr>\n",
       "    <tr>\n",
       "      <th>57</th>\n",
       "      <td>5.6 吋 2,220 x 1,080pixels ..</td>\n",
       "      <td>Samsung Galaxy A8 2018版</td>\n",
       "      <td>0</td>\n",
       "    </tr>\n",
       "    <tr>\n",
       "      <th>58</th>\n",
       "      <td>2.4 吋 320 x 240pixels 解析..</td>\n",
       "      <td>Nokia 3310 2017 3G</td>\n",
       "      <td>0</td>\n",
       "    </tr>\n",
       "    <tr>\n",
       "      <th>59</th>\n",
       "      <td>5.8 吋 2,436 x 1,125pixels ..</td>\n",
       "      <td>Apple iPhone X 256GB</td>\n",
       "      <td>2400</td>\n",
       "    </tr>\n",
       "    <tr>\n",
       "      <th>60</th>\n",
       "      <td>5.8 吋 2,436 x 1,125pixels ..</td>\n",
       "      <td>Apple iPhone X 64GB</td>\n",
       "      <td>0</td>\n",
       "    </tr>\n",
       "    <tr>\n",
       "      <th>61</th>\n",
       "      <td>4G ＋ 3G 雙卡雙待</td>\n",
       "      <td>Samsung Galaxy Note 8</td>\n",
       "      <td>0</td>\n",
       "    </tr>\n",
       "    <tr>\n",
       "      <th>62</th>\n",
       "      <td>2.4 吋 320 x 240pixels 解析..</td>\n",
       "      <td>FarEastone Smart 109</td>\n",
       "      <td>1990</td>\n",
       "    </tr>\n",
       "    <tr>\n",
       "      <th>63</th>\n",
       "      <td>4G ＋ 3G 雙卡雙待</td>\n",
       "      <td>Samsung Galaxy S8+</td>\n",
       "      <td>0</td>\n",
       "    </tr>\n",
       "    <tr>\n",
       "      <th>64</th>\n",
       "      <td>5.5 吋 1,920 x 1,080pixels ..</td>\n",
       "      <td>Apple iPhone 7 Plus 128GB</td>\n",
       "      <td>0</td>\n",
       "    </tr>\n",
       "    <tr>\n",
       "      <th>65</th>\n",
       "      <td>2.4吋螢幕</td>\n",
       "      <td>iTree 211 3G 直立手機</td>\n",
       "      <td>2280</td>\n",
       "    </tr>\n",
       "    <tr>\n",
       "      <th>66</th>\n",
       "      <td>【貼心提醒】除符合鑑..</td>\n",
       "      <td>Apple iPhone 7 Plus 128GB 福..</td>\n",
       "      <td>8900</td>\n",
       "    </tr>\n",
       "  </tbody>\n",
       "</table>\n",
       "<p>67 rows × 3 columns</p>\n",
       "</div>"
      ],
      "text/plain": [
       "                              desc                          headings  price\n",
       "0               4.7 吋對角線 LED 背光寬..         Apple iPhone 6 32GB 2018版      0\n",
       "1                     4G ＋ 3G 雙卡雙待              SONY Xperia XA2 Plus      0\n",
       "2                     4G ＋ 4G 雙卡雙待                          小米 Max 3      0\n",
       "3                     4G ＋ 3G 雙卡雙待                          OPPO AX5      0\n",
       "4                     4G ＋ 4G 雙卡雙待                     Huawei nova 3      0\n",
       "5                     4G ＋ 4G 雙卡雙待                          Sugar P1      0\n",
       "6                 雙卡雙待4G+4G,八核心處..       Samsung Galaxy Note 9 128GB   2990\n",
       "7               6.4吋曲面全景螢幕 2340*..                       OPPO Find X    990\n",
       "8   5.5 吋 1,920 x 1,080pixels LE..  Apple iPhone 6S Plus 2018 128G..      0\n",
       "9       2.4 吋 320 x 240pixels 解析..                     Nokia 8110 4G      0\n",
       "10    5.45 吋 1,440 x 720pixels 解..                      MI 紅米 6 64GB      0\n",
       "11    5.45 吋 1,440 x 720pixels 解..                      MI 紅米 6 32GB      0\n",
       "12  5.5 吋 1,920 x 1,080pixels LE..    Apple iPhone 6S Plus 2018 32GB      0\n",
       "13     6 吋 2,160 x 1,080pixels 解..         Asus ZenFone Max Pro 64GB      0\n",
       "14     6 吋 2,160 x 1,080pixels 解..         Asus ZenFone Max Pro 32GB      0\n",
       "15                    4G ＋ 4G 雙卡雙待                    Nokia 6.1 Plus      0\n",
       "16    6.2 吋 2,280x 1,080pixels 解..                           OPPO A3      0\n",
       "17     5.2 吋 1,440 x 720pixels 解..                         Nokia 3.1      0\n",
       "18    6.3 吋 2,220 x 1080pixels 解..            Samsung Galaxy A8 Star      0\n",
       "19      5.5 吋 1,440x 720pixels 解..     Asus ZenFone Max (M1) ZB555KL      0\n",
       "20     6 吋 2,880 x 1,440pixels 解..                     HTC U12+ 64GB      0\n",
       "21     5.7 吋 1,440 x 720pixels 解..                        Koobee S12      0\n",
       "22      6 吋 1,440 x 720pixels 解析..                    HTC Desire 12+      0\n",
       "23   5.84 吋 2,280 x 1,080pixels ..                    Huawei nova 3e      0\n",
       "24     5.6 吋 1,480 x 720pixels 解..                 Samsung Galaxy J6      0\n",
       "25     5.5 吋 1,280 x 720pixels 解..                 Samsung Galaxy J4      0\n",
       "26     6 吋 2,220 x 1,080pixels 解..                Samsung Galaxy A6+      0\n",
       "27   5.99 吋 2,160 x 1,080pixels ..                 MI 紅米 Note 5 32GB      0\n",
       "28   6.28 吋 2,280 x 1,080pixels ..                          OPPO R15      0\n",
       "29   5.99 吋 2,160 x 1,080pixels ..                         小米 MIX 2S      0\n",
       "..                             ...                               ...    ...\n",
       "37    5.8 吋 2,244 x 1,080pixels ..                        Huawei P20      0\n",
       "38     6 吋 2,160 x 1,080pixels 解..                      Nokia 7 Plus      0\n",
       "39    5.5 吋 1,920 x 1,080pixels ..                         Nokia 6.1      0\n",
       "40     6 吋 2,160 x 1,080pixels 解..                   Asus ZenFone 5Q      0\n",
       "41    5.7 吋 2,160 x 1,080pixels ..                   SONY Xperia XZ2      0\n",
       "42                    4G ＋ 3G 雙卡雙待             Samsung Galaxy J7 Pro      0\n",
       "43     6 吋 2,160 x 1,080pixels 解..                          OPPO A75      0\n",
       "44        5 吋 960 x 540pixels 解析..             Samsung Galaxy J2 Pro      0\n",
       "45                    【貼心提醒】除符合鑑..            Apple iPhone X 64GB福利品  14500\n",
       "46                    【貼心提醒】除符合鑑..           Apple iPhone X 256GB福利品  19000\n",
       "47                    【貼心提醒】除符合鑑..      Apple iPhone 8 Plus 64GB福利..  10900\n",
       "48                    【貼心提醒】除符合鑑..      Apple iPhone 8 Plus 256GB福..  14900\n",
       "49                    【貼心提醒】除符合鑑..            Apple iPhone 8 64GB福利品   7500\n",
       "50                    【貼心提醒】除符合鑑..           Apple iPhone 8 256GB福利品  11500\n",
       "51                      4G+3G 雙卡雙待          Samsung Galaxy S9+ 128GB    990\n",
       "52                      4G+3G 雙卡雙待            Samsung Galaxy S9 64GB      0\n",
       "53     6 吋 1,920 x 1,080pixels 解..             SONY Xperia XA2 Ultra      0\n",
       "54     5.5 吋 1,280 x 720pixels 解..                    SONY Xperia L2      0\n",
       "55      5 吋 1,280 x 720pixels 解析..              FarEastone Smart 509      0\n",
       "56     5.7 吋 1,440 x 720pixels 解..             Asus ZenFone Max Plus      0\n",
       "57    5.6 吋 2,220 x 1,080pixels ..           Samsung Galaxy A8 2018版      0\n",
       "58      2.4 吋 320 x 240pixels 解析..                Nokia 3310 2017 3G      0\n",
       "59    5.8 吋 2,436 x 1,125pixels ..              Apple iPhone X 256GB   2400\n",
       "60    5.8 吋 2,436 x 1,125pixels ..               Apple iPhone X 64GB      0\n",
       "61                    4G ＋ 3G 雙卡雙待             Samsung Galaxy Note 8      0\n",
       "62      2.4 吋 320 x 240pixels 解析..              FarEastone Smart 109   1990\n",
       "63                    4G ＋ 3G 雙卡雙待                Samsung Galaxy S8+      0\n",
       "64    5.5 吋 1,920 x 1,080pixels ..         Apple iPhone 7 Plus 128GB      0\n",
       "65                          2.4吋螢幕                 iTree 211 3G 直立手機   2280\n",
       "66                    【貼心提醒】除符合鑑..     Apple iPhone 7 Plus 128GB 福..   8900\n",
       "\n",
       "[67 rows x 3 columns]"
      ]
     },
     "execution_count": 12,
     "metadata": {},
     "output_type": "execute_result"
    }
   ],
   "source": [
    "phones"
   ]
  },
  {
   "cell_type": "code",
   "execution_count": null,
   "metadata": {},
   "outputs": [],
   "source": []
  }
 ],
 "metadata": {
  "kernelspec": {
   "display_name": "Python 3",
   "language": "python",
   "name": "python3"
  },
  "language_info": {
   "codemirror_mode": {
    "name": "ipython",
    "version": 3
   },
   "file_extension": ".py",
   "mimetype": "text/x-python",
   "name": "python",
   "nbconvert_exporter": "python",
   "pygments_lexer": "ipython3",
   "version": "3.6.2"
  }
 },
 "nbformat": 4,
 "nbformat_minor": 2
}
