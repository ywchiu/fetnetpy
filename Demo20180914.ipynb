{
 "cells": [
  {
   "cell_type": "markdown",
   "metadata": {},
   "source": [
    "## Python Basic"
   ]
  },
  {
   "cell_type": "code",
   "execution_count": 1,
   "metadata": {},
   "outputs": [
    {
     "data": {
      "text/plain": [
       "5"
      ]
     },
     "execution_count": 1,
     "metadata": {},
     "output_type": "execute_result"
    }
   ],
   "source": [
    "a = 3\n",
    "b = 2\n",
    "a + b"
   ]
  },
  {
   "cell_type": "markdown",
   "metadata": {},
   "source": [
    "## GET"
   ]
  },
  {
   "cell_type": "code",
   "execution_count": 4,
   "metadata": {},
   "outputs": [
    {
     "data": {
      "text/plain": [
       "<Response [200]>"
      ]
     },
     "execution_count": 4,
     "metadata": {},
     "output_type": "execute_result"
    }
   ],
   "source": [
    "import requests\n",
    "res = requests.get('https://www.fetnet.net/estore/phone')\n",
    "res"
   ]
  },
  {
   "cell_type": "code",
   "execution_count": 6,
   "metadata": {},
   "outputs": [],
   "source": [
    "#res.text"
   ]
  },
  {
   "cell_type": "code",
   "execution_count": 7,
   "metadata": {},
   "outputs": [
    {
     "data": {
      "text/plain": [
       "200"
      ]
     },
     "execution_count": 7,
     "metadata": {},
     "output_type": "execute_result"
    }
   ],
   "source": [
    "dic = {'a': 100, 'b':200, 'c':300}\n",
    "dic['b']"
   ]
  },
  {
   "cell_type": "markdown",
   "metadata": {},
   "source": [
    "## POST"
   ]
  },
  {
   "cell_type": "code",
   "execution_count": 8,
   "metadata": {},
   "outputs": [
    {
     "data": {
      "text/plain": [
       "<Response [200]>"
      ]
     },
     "execution_count": 8,
     "metadata": {},
     "output_type": "execute_result"
    }
   ],
   "source": [
    "import requests\n",
    "url = 'https://www.fetnet.net/estore/phone'\n",
    "payload = {\n",
    "'keyword4Handset': 'iphone', \n",
    "'pageNo4Whole': '1',\n",
    "'pageNo4Handset': '1',\n",
    "'pageNo4Tablet': '1',\n",
    "'pageNo4Accessory': '1',\n",
    "'tabType': 'searchTab2',\n",
    "'changeTab': 'handsetMain',\n",
    "'keywordWebTrendFlag': 'Y'    \n",
    "}\n",
    "\n",
    "\n",
    "res = requests.post(url, data = payload)\n",
    "res\n"
   ]
  },
  {
   "cell_type": "code",
   "execution_count": 17,
   "metadata": {},
   "outputs": [
    {
     "data": {
      "text/plain": [
       "requests.models.Response"
      ]
     },
     "execution_count": 17,
     "metadata": {},
     "output_type": "execute_result"
    }
   ],
   "source": [
    "type(res)"
   ]
  },
  {
   "cell_type": "code",
   "execution_count": 10,
   "metadata": {},
   "outputs": [],
   "source": [
    "#res.text"
   ]
  },
  {
   "cell_type": "markdown",
   "metadata": {},
   "source": [
    "## BeautifulSoup"
   ]
  },
  {
   "cell_type": "code",
   "execution_count": 11,
   "metadata": {},
   "outputs": [
    {
     "data": {
      "text/plain": [
       "15"
      ]
     },
     "execution_count": 11,
     "metadata": {},
     "output_type": "execute_result"
    }
   ],
   "source": [
    "a = [1,2,3,4,5]\n",
    "sum(a)"
   ]
  },
  {
   "cell_type": "code",
   "execution_count": 12,
   "metadata": {},
   "outputs": [
    {
     "ename": "TypeError",
     "evalue": "'int' object is not callable",
     "output_type": "error",
     "traceback": [
      "\u001b[0;31m---------------------------------------------------------------------------\u001b[0m",
      "\u001b[0;31mTypeError\u001b[0m                                 Traceback (most recent call last)",
      "\u001b[0;32m<ipython-input-12-ea9ccae5d9db>\u001b[0m in \u001b[0;36m<module>\u001b[0;34m()\u001b[0m\n\u001b[1;32m      1\u001b[0m \u001b[0msum\u001b[0m \u001b[0;34m=\u001b[0m \u001b[0;36m3\u001b[0m\u001b[0;34m\u001b[0m\u001b[0m\n\u001b[0;32m----> 2\u001b[0;31m \u001b[0msum\u001b[0m\u001b[0;34m(\u001b[0m\u001b[0ma\u001b[0m\u001b[0;34m)\u001b[0m\u001b[0;34m\u001b[0m\u001b[0m\n\u001b[0m",
      "\u001b[0;31mTypeError\u001b[0m: 'int' object is not callable"
     ]
    }
   ],
   "source": [
    "sum = 3\n",
    "sum(a)"
   ]
  },
  {
   "cell_type": "code",
   "execution_count": 13,
   "metadata": {},
   "outputs": [
    {
     "data": {
      "text/plain": [
       "bs4.BeautifulSoup"
      ]
     },
     "execution_count": 13,
     "metadata": {},
     "output_type": "execute_result"
    }
   ],
   "source": [
    "from bs4 import BeautifulSoup\n",
    "\n",
    "import bs4\n",
    "bs4.BeautifulSoup"
   ]
  },
  {
   "cell_type": "code",
   "execution_count": 14,
   "metadata": {},
   "outputs": [],
   "source": [
    "html_sample = '''\n",
    "<html> \n",
    " <body> \n",
    " <h1 id=\"title\">Hello World</h1> \n",
    " <a href=\"#\" class=\"link\">This is link1</a> \n",
    " <a href=\"# link2\" class=\"link\">This is link2</a> \n",
    " </body> \n",
    " </html>\n",
    "'''\n",
    "soup  =  BeautifulSoup(html_sample, 'lxml')"
   ]
  },
  {
   "cell_type": "code",
   "execution_count": 16,
   "metadata": {},
   "outputs": [
    {
     "data": {
      "text/plain": [
       "bs4.BeautifulSoup"
      ]
     },
     "execution_count": 16,
     "metadata": {},
     "output_type": "execute_result"
    }
   ],
   "source": [
    "type(soup)"
   ]
  },
  {
   "cell_type": "code",
   "execution_count": 15,
   "metadata": {},
   "outputs": [
    {
     "data": {
      "text/plain": [
       "'\\n\\nHello World\\nThis is link1\\nThis is link2\\n\\n\\n'"
      ]
     },
     "execution_count": 15,
     "metadata": {},
     "output_type": "execute_result"
    }
   ],
   "source": [
    "soup.text"
   ]
  },
  {
   "cell_type": "code",
   "execution_count": 18,
   "metadata": {},
   "outputs": [
    {
     "data": {
      "text/plain": [
       "<h1 id=\"title\">Hello World</h1>"
      ]
     },
     "execution_count": 18,
     "metadata": {},
     "output_type": "execute_result"
    }
   ],
   "source": [
    "soup.select_one('h1')"
   ]
  },
  {
   "cell_type": "code",
   "execution_count": 19,
   "metadata": {},
   "outputs": [
    {
     "data": {
      "text/plain": [
       "'Hello World'"
      ]
     },
     "execution_count": 19,
     "metadata": {},
     "output_type": "execute_result"
    }
   ],
   "source": [
    "soup.select_one('h1').text"
   ]
  },
  {
   "cell_type": "code",
   "execution_count": 20,
   "metadata": {},
   "outputs": [
    {
     "data": {
      "text/plain": [
       "[<h1 id=\"title\">Hello World</h1>]"
      ]
     },
     "execution_count": 20,
     "metadata": {},
     "output_type": "execute_result"
    }
   ],
   "source": [
    "soup.select('h1')"
   ]
  },
  {
   "cell_type": "code",
   "execution_count": 21,
   "metadata": {},
   "outputs": [
    {
     "data": {
      "text/plain": [
       "'Hello World'"
      ]
     },
     "execution_count": 21,
     "metadata": {},
     "output_type": "execute_result"
    }
   ],
   "source": [
    "soup.select('h1')[0].text"
   ]
  },
  {
   "cell_type": "code",
   "execution_count": 22,
   "metadata": {},
   "outputs": [
    {
     "data": {
      "text/plain": [
       "<a class=\"link\" href=\"#\">This is link1</a>"
      ]
     },
     "execution_count": 22,
     "metadata": {},
     "output_type": "execute_result"
    }
   ],
   "source": [
    "soup.select_one('a')"
   ]
  },
  {
   "cell_type": "code",
   "execution_count": 23,
   "metadata": {},
   "outputs": [
    {
     "data": {
      "text/plain": [
       "[<a class=\"link\" href=\"#\">This is link1</a>,\n",
       " <a class=\"link\" href=\"# link2\">This is link2</a>]"
      ]
     },
     "execution_count": 23,
     "metadata": {},
     "output_type": "execute_result"
    }
   ],
   "source": [
    "soup.select('a')"
   ]
  },
  {
   "cell_type": "code",
   "execution_count": 25,
   "metadata": {},
   "outputs": [
    {
     "name": "stdout",
     "output_type": "stream",
     "text": [
      "This is link1\n",
      "This is link2\n"
     ]
    }
   ],
   "source": [
    "for link in soup.select('a'):\n",
    "    print(link.text)"
   ]
  },
  {
   "cell_type": "code",
   "execution_count": 27,
   "metadata": {},
   "outputs": [
    {
     "data": {
      "text/plain": [
       "<h1 id=\"title\">Hello World</h1>"
      ]
     },
     "execution_count": 27,
     "metadata": {},
     "output_type": "execute_result"
    }
   ],
   "source": [
    "# id => #\n",
    "soup.select_one('#title')"
   ]
  },
  {
   "cell_type": "code",
   "execution_count": 28,
   "metadata": {},
   "outputs": [
    {
     "data": {
      "text/plain": [
       "[<a class=\"link\" href=\"#\">This is link1</a>,\n",
       " <a class=\"link\" href=\"# link2\">This is link2</a>]"
      ]
     },
     "execution_count": 28,
     "metadata": {},
     "output_type": "execute_result"
    }
   ],
   "source": [
    "# class = > .\n",
    "soup.select('.link')"
   ]
  },
  {
   "cell_type": "code",
   "execution_count": 29,
   "metadata": {},
   "outputs": [
    {
     "data": {
      "text/plain": [
       "<h1 id=\"title\">Hello World</h1>"
      ]
     },
     "execution_count": 29,
     "metadata": {},
     "output_type": "execute_result"
    }
   ],
   "source": [
    "soup.select_one('body h1#title')"
   ]
  },
  {
   "cell_type": "code",
   "execution_count": 34,
   "metadata": {},
   "outputs": [
    {
     "name": "stdout",
     "output_type": "stream",
     "text": [
      "#\n",
      "# link2\n"
     ]
    }
   ],
   "source": [
    "for link in soup.select('a.link'):\n",
    "    #print(link)\n",
    "    #print(link.text)\n",
    "    print(link.get('href'))"
   ]
  },
  {
   "cell_type": "markdown",
   "metadata": {},
   "source": [
    "## 抓取手機資訊"
   ]
  },
  {
   "cell_type": "code",
   "execution_count": 35,
   "metadata": {},
   "outputs": [
    {
     "data": {
      "text/plain": [
       "<Response [200]>"
      ]
     },
     "execution_count": 35,
     "metadata": {},
     "output_type": "execute_result"
    }
   ],
   "source": [
    "import requests\n",
    "res = requests.get('https://www.fetnet.net/estore/phone')\n",
    "res"
   ]
  },
  {
   "cell_type": "code",
   "execution_count": 37,
   "metadata": {},
   "outputs": [],
   "source": [
    "from bs4 import BeautifulSoup\n",
    "soup = BeautifulSoup(res.text, 'lxml')"
   ]
  },
  {
   "cell_type": "code",
   "execution_count": 54,
   "metadata": {},
   "outputs": [
    {
     "data": {
      "text/plain": [
       "'1$2$3'"
      ]
     },
     "execution_count": 54,
     "metadata": {},
     "output_type": "execute_result"
    }
   ],
   "source": [
    "a = '         1           2            3'\n",
    "b = a.split()\n",
    "'$'.join(b)"
   ]
  },
  {
   "cell_type": "code",
   "execution_count": 58,
   "metadata": {},
   "outputs": [],
   "source": [
    "# class = itemLink\n",
    "#soup.select('.itemLink')\n",
    "\n",
    "items = []\n",
    "for item in soup.select('#itemList01 a.itemLink'):\n",
    "    #print(item)\n",
    "    headings = item.select_one('h2').text\n",
    "    desc     = item.select_one('.des').text\n",
    "    #print(''.join(item.select_one('.price').text.split()) )\n",
    "    price    = item.select_one('.price').text.split()[1] \n",
    "    items.append({'headings':headings, 'desc':desc, 'price': price})\n",
    "    #print(headings, desc, price)"
   ]
  },
  {
   "cell_type": "code",
   "execution_count": 60,
   "metadata": {},
   "outputs": [
    {
     "data": {
      "text/html": [
       "<div>\n",
       "<style>\n",
       "    .dataframe thead tr:only-child th {\n",
       "        text-align: right;\n",
       "    }\n",
       "\n",
       "    .dataframe thead th {\n",
       "        text-align: left;\n",
       "    }\n",
       "\n",
       "    .dataframe tbody tr th {\n",
       "        vertical-align: top;\n",
       "    }\n",
       "</style>\n",
       "<table border=\"1\" class=\"dataframe\">\n",
       "  <thead>\n",
       "    <tr style=\"text-align: right;\">\n",
       "      <th></th>\n",
       "      <th>desc</th>\n",
       "      <th>headings</th>\n",
       "      <th>price</th>\n",
       "    </tr>\n",
       "  </thead>\n",
       "  <tbody>\n",
       "    <tr>\n",
       "      <th>0</th>\n",
       "      <td>4.7 吋對角線 LED 背光寬..</td>\n",
       "      <td>Apple iPhone 6 32GB 2018版</td>\n",
       "      <td>0</td>\n",
       "    </tr>\n",
       "    <tr>\n",
       "      <th>1</th>\n",
       "      <td>4G ＋ 3G 雙卡雙待</td>\n",
       "      <td>SONY Xperia XA2 Plus</td>\n",
       "      <td>0</td>\n",
       "    </tr>\n",
       "    <tr>\n",
       "      <th>2</th>\n",
       "      <td>4G ＋ 4G 雙卡雙待</td>\n",
       "      <td>小米 Max 3</td>\n",
       "      <td>0</td>\n",
       "    </tr>\n",
       "    <tr>\n",
       "      <th>3</th>\n",
       "      <td>4G ＋ 3G 雙卡雙待</td>\n",
       "      <td>OPPO AX5</td>\n",
       "      <td>0</td>\n",
       "    </tr>\n",
       "    <tr>\n",
       "      <th>4</th>\n",
       "      <td>4G ＋ 4G 雙卡雙待</td>\n",
       "      <td>Huawei nova 3</td>\n",
       "      <td>0</td>\n",
       "    </tr>\n",
       "    <tr>\n",
       "      <th>5</th>\n",
       "      <td>4G ＋ 4G 雙卡雙待</td>\n",
       "      <td>Sugar P1</td>\n",
       "      <td>0</td>\n",
       "    </tr>\n",
       "    <tr>\n",
       "      <th>6</th>\n",
       "      <td>雙卡雙待4G+4G,八核心處..</td>\n",
       "      <td>Samsung Galaxy Note 9 128GB</td>\n",
       "      <td>2990</td>\n",
       "    </tr>\n",
       "    <tr>\n",
       "      <th>7</th>\n",
       "      <td>6.4吋曲面全景螢幕 2340*..</td>\n",
       "      <td>OPPO Find X</td>\n",
       "      <td>990</td>\n",
       "    </tr>\n",
       "    <tr>\n",
       "      <th>8</th>\n",
       "      <td>5.5 吋 1,920 x 1,080pixels LE..</td>\n",
       "      <td>Apple iPhone 6S Plus 2018 128G..</td>\n",
       "      <td>0</td>\n",
       "    </tr>\n",
       "    <tr>\n",
       "      <th>9</th>\n",
       "      <td>2.4 吋 320 x 240pixels 解析..</td>\n",
       "      <td>Nokia 8110 4G</td>\n",
       "      <td>0</td>\n",
       "    </tr>\n",
       "    <tr>\n",
       "      <th>10</th>\n",
       "      <td>5.45 吋 1,440 x 720pixels 解..</td>\n",
       "      <td>MI 紅米 6 64GB</td>\n",
       "      <td>0</td>\n",
       "    </tr>\n",
       "    <tr>\n",
       "      <th>11</th>\n",
       "      <td>5.45 吋 1,440 x 720pixels 解..</td>\n",
       "      <td>MI 紅米 6 32GB</td>\n",
       "      <td>0</td>\n",
       "    </tr>\n",
       "  </tbody>\n",
       "</table>\n",
       "</div>"
      ],
      "text/plain": [
       "                              desc                          headings price\n",
       "0               4.7 吋對角線 LED 背光寬..         Apple iPhone 6 32GB 2018版     0\n",
       "1                     4G ＋ 3G 雙卡雙待              SONY Xperia XA2 Plus     0\n",
       "2                     4G ＋ 4G 雙卡雙待                          小米 Max 3     0\n",
       "3                     4G ＋ 3G 雙卡雙待                          OPPO AX5     0\n",
       "4                     4G ＋ 4G 雙卡雙待                     Huawei nova 3     0\n",
       "5                     4G ＋ 4G 雙卡雙待                          Sugar P1     0\n",
       "6                 雙卡雙待4G+4G,八核心處..       Samsung Galaxy Note 9 128GB  2990\n",
       "7               6.4吋曲面全景螢幕 2340*..                       OPPO Find X   990\n",
       "8   5.5 吋 1,920 x 1,080pixels LE..  Apple iPhone 6S Plus 2018 128G..     0\n",
       "9       2.4 吋 320 x 240pixels 解析..                     Nokia 8110 4G     0\n",
       "10    5.45 吋 1,440 x 720pixels 解..                      MI 紅米 6 64GB     0\n",
       "11    5.45 吋 1,440 x 720pixels 解..                      MI 紅米 6 32GB     0"
      ]
     },
     "execution_count": 60,
     "metadata": {},
     "output_type": "execute_result"
    }
   ],
   "source": [
    "import pandas\n",
    "phones = pandas.DataFrame(items)\n",
    "phones"
   ]
  },
  {
   "cell_type": "code",
   "execution_count": 61,
   "metadata": {},
   "outputs": [],
   "source": [
    "phones.to_excel('fetnetphones.xlsx')"
   ]
  },
  {
   "cell_type": "markdown",
   "metadata": {},
   "source": [
    "## 換頁"
   ]
  },
  {
   "cell_type": "code",
   "execution_count": 2,
   "metadata": {},
   "outputs": [
    {
     "name": "stdout",
     "output_type": "stream",
     "text": [
      "1\n",
      "2\n",
      "3\n",
      "4\n",
      "5\n",
      "6\n"
     ]
    }
   ],
   "source": [
    "for p in range(1,7):\n",
    "    print(p)"
   ]
  },
  {
   "cell_type": "code",
   "execution_count": 13,
   "metadata": {},
   "outputs": [
    {
     "data": {
      "text/plain": [
       "[1, 2, 3, 4, 5, 6]"
      ]
     },
     "execution_count": 13,
     "metadata": {},
     "output_type": "execute_result"
    }
   ],
   "source": [
    "a = [1,2,3]\n",
    "b = [4,5,6]\n",
    "a.extend(b)\n",
    "a"
   ]
  },
  {
   "cell_type": "code",
   "execution_count": 9,
   "metadata": {},
   "outputs": [],
   "source": [
    "from bs4 import BeautifulSoup\n",
    "def parseItems(res):\n",
    "    items = []\n",
    "    soup = BeautifulSoup(res.text, 'lxml')\n",
    "    for item in soup.select('#itemList01 a.itemLink'):\n",
    "        headings = item.select_one('h2').text\n",
    "        desc     = item.select_one('.des').text\n",
    "        price    = item.select_one('.price').text.split()[1] \n",
    "        items.append({'headings':headings, 'desc':desc, 'price': price})\n",
    "    return items"
   ]
  },
  {
   "cell_type": "code",
   "execution_count": 10,
   "metadata": {},
   "outputs": [
    {
     "name": "stdout",
     "output_type": "stream",
     "text": [
      "1\n",
      "2\n",
      "3\n",
      "4\n",
      "5\n",
      "6\n"
     ]
    }
   ],
   "source": [
    "import requests\n",
    "url     = 'https://www.fetnet.net/estore/phone/' \n",
    "payload = {\n",
    " 'pageNo': 2   \n",
    "}\n",
    "products = []\n",
    "for p in range(1,7):\n",
    "    payload['pageNo'] = p\n",
    "    #print(payload)\n",
    "    res = requests.post(url, data = payload)\n",
    "    products.extend(parseItems(res))\n",
    "    print(p)"
   ]
  },
  {
   "cell_type": "code",
   "execution_count": 11,
   "metadata": {},
   "outputs": [],
   "source": [
    "import pandas\n",
    "phones = pandas.DataFrame(products)"
   ]
  },
  {
   "cell_type": "code",
   "execution_count": 12,
   "metadata": {},
   "outputs": [
    {
     "data": {
      "text/html": [
       "<div>\n",
       "<style>\n",
       "    .dataframe thead tr:only-child th {\n",
       "        text-align: right;\n",
       "    }\n",
       "\n",
       "    .dataframe thead th {\n",
       "        text-align: left;\n",
       "    }\n",
       "\n",
       "    .dataframe tbody tr th {\n",
       "        vertical-align: top;\n",
       "    }\n",
       "</style>\n",
       "<table border=\"1\" class=\"dataframe\">\n",
       "  <thead>\n",
       "    <tr style=\"text-align: right;\">\n",
       "      <th></th>\n",
       "      <th>desc</th>\n",
       "      <th>headings</th>\n",
       "      <th>price</th>\n",
       "    </tr>\n",
       "  </thead>\n",
       "  <tbody>\n",
       "    <tr>\n",
       "      <th>0</th>\n",
       "      <td>4.7 吋對角線 LED 背光寬..</td>\n",
       "      <td>Apple iPhone 6 32GB 2018版</td>\n",
       "      <td>0</td>\n",
       "    </tr>\n",
       "    <tr>\n",
       "      <th>1</th>\n",
       "      <td>4G ＋ 3G 雙卡雙待</td>\n",
       "      <td>SONY Xperia XA2 Plus</td>\n",
       "      <td>0</td>\n",
       "    </tr>\n",
       "    <tr>\n",
       "      <th>2</th>\n",
       "      <td>4G ＋ 4G 雙卡雙待</td>\n",
       "      <td>小米 Max 3</td>\n",
       "      <td>0</td>\n",
       "    </tr>\n",
       "    <tr>\n",
       "      <th>3</th>\n",
       "      <td>4G ＋ 3G 雙卡雙待</td>\n",
       "      <td>OPPO AX5</td>\n",
       "      <td>0</td>\n",
       "    </tr>\n",
       "    <tr>\n",
       "      <th>4</th>\n",
       "      <td>4G ＋ 4G 雙卡雙待</td>\n",
       "      <td>Huawei nova 3</td>\n",
       "      <td>0</td>\n",
       "    </tr>\n",
       "    <tr>\n",
       "      <th>5</th>\n",
       "      <td>4G ＋ 4G 雙卡雙待</td>\n",
       "      <td>Sugar P1</td>\n",
       "      <td>0</td>\n",
       "    </tr>\n",
       "    <tr>\n",
       "      <th>6</th>\n",
       "      <td>雙卡雙待4G+4G,八核心處..</td>\n",
       "      <td>Samsung Galaxy Note 9 128GB</td>\n",
       "      <td>2990</td>\n",
       "    </tr>\n",
       "    <tr>\n",
       "      <th>7</th>\n",
       "      <td>6.4吋曲面全景螢幕 2340*..</td>\n",
       "      <td>OPPO Find X</td>\n",
       "      <td>990</td>\n",
       "    </tr>\n",
       "    <tr>\n",
       "      <th>8</th>\n",
       "      <td>5.5 吋 1,920 x 1,080pixels LE..</td>\n",
       "      <td>Apple iPhone 6S Plus 2018 128G..</td>\n",
       "      <td>0</td>\n",
       "    </tr>\n",
       "    <tr>\n",
       "      <th>9</th>\n",
       "      <td>2.4 吋 320 x 240pixels 解析..</td>\n",
       "      <td>Nokia 8110 4G</td>\n",
       "      <td>0</td>\n",
       "    </tr>\n",
       "    <tr>\n",
       "      <th>10</th>\n",
       "      <td>5.45 吋 1,440 x 720pixels 解..</td>\n",
       "      <td>MI 紅米 6 64GB</td>\n",
       "      <td>0</td>\n",
       "    </tr>\n",
       "    <tr>\n",
       "      <th>11</th>\n",
       "      <td>5.45 吋 1,440 x 720pixels 解..</td>\n",
       "      <td>MI 紅米 6 32GB</td>\n",
       "      <td>0</td>\n",
       "    </tr>\n",
       "    <tr>\n",
       "      <th>12</th>\n",
       "      <td>5.5 吋 1,920 x 1,080pixels LE..</td>\n",
       "      <td>Apple iPhone 6S Plus 2018 32GB</td>\n",
       "      <td>0</td>\n",
       "    </tr>\n",
       "    <tr>\n",
       "      <th>13</th>\n",
       "      <td>6 吋 2,160 x 1,080pixels 解..</td>\n",
       "      <td>Asus ZenFone Max Pro 64GB</td>\n",
       "      <td>0</td>\n",
       "    </tr>\n",
       "    <tr>\n",
       "      <th>14</th>\n",
       "      <td>6 吋 2,160 x 1,080pixels 解..</td>\n",
       "      <td>Asus ZenFone Max Pro 32GB</td>\n",
       "      <td>0</td>\n",
       "    </tr>\n",
       "    <tr>\n",
       "      <th>15</th>\n",
       "      <td>4G ＋ 4G 雙卡雙待</td>\n",
       "      <td>Nokia 6.1 Plus</td>\n",
       "      <td>0</td>\n",
       "    </tr>\n",
       "    <tr>\n",
       "      <th>16</th>\n",
       "      <td>6.2 吋 2,280x 1,080pixels 解..</td>\n",
       "      <td>OPPO A3</td>\n",
       "      <td>0</td>\n",
       "    </tr>\n",
       "    <tr>\n",
       "      <th>17</th>\n",
       "      <td>5.2 吋 1,440 x 720pixels 解..</td>\n",
       "      <td>Nokia 3.1</td>\n",
       "      <td>0</td>\n",
       "    </tr>\n",
       "    <tr>\n",
       "      <th>18</th>\n",
       "      <td>6.3 吋 2,220 x 1080pixels 解..</td>\n",
       "      <td>Samsung Galaxy A8 Star</td>\n",
       "      <td>0</td>\n",
       "    </tr>\n",
       "    <tr>\n",
       "      <th>19</th>\n",
       "      <td>5.5 吋 1,440x 720pixels 解..</td>\n",
       "      <td>Asus ZenFone Max (M1) ZB555KL</td>\n",
       "      <td>0</td>\n",
       "    </tr>\n",
       "    <tr>\n",
       "      <th>20</th>\n",
       "      <td>6 吋 2,880 x 1,440pixels 解..</td>\n",
       "      <td>HTC U12+ 64GB</td>\n",
       "      <td>0</td>\n",
       "    </tr>\n",
       "    <tr>\n",
       "      <th>21</th>\n",
       "      <td>5.7 吋 1,440 x 720pixels 解..</td>\n",
       "      <td>Koobee S12</td>\n",
       "      <td>0</td>\n",
       "    </tr>\n",
       "    <tr>\n",
       "      <th>22</th>\n",
       "      <td>6 吋 1,440 x 720pixels 解析..</td>\n",
       "      <td>HTC Desire 12+</td>\n",
       "      <td>0</td>\n",
       "    </tr>\n",
       "    <tr>\n",
       "      <th>23</th>\n",
       "      <td>5.84 吋 2,280 x 1,080pixels ..</td>\n",
       "      <td>Huawei nova 3e</td>\n",
       "      <td>0</td>\n",
       "    </tr>\n",
       "    <tr>\n",
       "      <th>24</th>\n",
       "      <td>5.6 吋 1,480 x 720pixels 解..</td>\n",
       "      <td>Samsung Galaxy J6</td>\n",
       "      <td>0</td>\n",
       "    </tr>\n",
       "    <tr>\n",
       "      <th>25</th>\n",
       "      <td>5.5 吋 1,280 x 720pixels 解..</td>\n",
       "      <td>Samsung Galaxy J4</td>\n",
       "      <td>0</td>\n",
       "    </tr>\n",
       "    <tr>\n",
       "      <th>26</th>\n",
       "      <td>6 吋 2,220 x 1,080pixels 解..</td>\n",
       "      <td>Samsung Galaxy A6+</td>\n",
       "      <td>0</td>\n",
       "    </tr>\n",
       "    <tr>\n",
       "      <th>27</th>\n",
       "      <td>5.99 吋 2,160 x 1,080pixels ..</td>\n",
       "      <td>MI 紅米 Note 5 32GB</td>\n",
       "      <td>0</td>\n",
       "    </tr>\n",
       "    <tr>\n",
       "      <th>28</th>\n",
       "      <td>6.28 吋 2,280 x 1,080pixels ..</td>\n",
       "      <td>OPPO R15</td>\n",
       "      <td>0</td>\n",
       "    </tr>\n",
       "    <tr>\n",
       "      <th>29</th>\n",
       "      <td>5.99 吋 2,160 x 1,080pixels ..</td>\n",
       "      <td>小米 MIX 2S</td>\n",
       "      <td>0</td>\n",
       "    </tr>\n",
       "    <tr>\n",
       "      <th>...</th>\n",
       "      <td>...</td>\n",
       "      <td>...</td>\n",
       "      <td>...</td>\n",
       "    </tr>\n",
       "    <tr>\n",
       "      <th>37</th>\n",
       "      <td>5.8 吋 2,244 x 1,080pixels ..</td>\n",
       "      <td>Huawei P20</td>\n",
       "      <td>0</td>\n",
       "    </tr>\n",
       "    <tr>\n",
       "      <th>38</th>\n",
       "      <td>6 吋 2,160 x 1,080pixels 解..</td>\n",
       "      <td>Nokia 7 Plus</td>\n",
       "      <td>0</td>\n",
       "    </tr>\n",
       "    <tr>\n",
       "      <th>39</th>\n",
       "      <td>5.5 吋 1,920 x 1,080pixels ..</td>\n",
       "      <td>Nokia 6.1</td>\n",
       "      <td>0</td>\n",
       "    </tr>\n",
       "    <tr>\n",
       "      <th>40</th>\n",
       "      <td>6 吋 2,160 x 1,080pixels 解..</td>\n",
       "      <td>Asus ZenFone 5Q</td>\n",
       "      <td>0</td>\n",
       "    </tr>\n",
       "    <tr>\n",
       "      <th>41</th>\n",
       "      <td>5.7 吋 2,160 x 1,080pixels ..</td>\n",
       "      <td>SONY Xperia XZ2</td>\n",
       "      <td>0</td>\n",
       "    </tr>\n",
       "    <tr>\n",
       "      <th>42</th>\n",
       "      <td>4G ＋ 3G 雙卡雙待</td>\n",
       "      <td>Samsung Galaxy J7 Pro</td>\n",
       "      <td>0</td>\n",
       "    </tr>\n",
       "    <tr>\n",
       "      <th>43</th>\n",
       "      <td>6 吋 2,160 x 1,080pixels 解..</td>\n",
       "      <td>OPPO A75</td>\n",
       "      <td>0</td>\n",
       "    </tr>\n",
       "    <tr>\n",
       "      <th>44</th>\n",
       "      <td>5 吋 960 x 540pixels 解析..</td>\n",
       "      <td>Samsung Galaxy J2 Pro</td>\n",
       "      <td>0</td>\n",
       "    </tr>\n",
       "    <tr>\n",
       "      <th>45</th>\n",
       "      <td>【貼心提醒】除符合鑑..</td>\n",
       "      <td>Apple iPhone X 64GB福利品</td>\n",
       "      <td>14500</td>\n",
       "    </tr>\n",
       "    <tr>\n",
       "      <th>46</th>\n",
       "      <td>【貼心提醒】除符合鑑..</td>\n",
       "      <td>Apple iPhone X 256GB福利品</td>\n",
       "      <td>19000</td>\n",
       "    </tr>\n",
       "    <tr>\n",
       "      <th>47</th>\n",
       "      <td>【貼心提醒】除符合鑑..</td>\n",
       "      <td>Apple iPhone 8 Plus 64GB福利..</td>\n",
       "      <td>10900</td>\n",
       "    </tr>\n",
       "    <tr>\n",
       "      <th>48</th>\n",
       "      <td>【貼心提醒】除符合鑑..</td>\n",
       "      <td>Apple iPhone 8 Plus 256GB福..</td>\n",
       "      <td>14900</td>\n",
       "    </tr>\n",
       "    <tr>\n",
       "      <th>49</th>\n",
       "      <td>【貼心提醒】除符合鑑..</td>\n",
       "      <td>Apple iPhone 8 64GB福利品</td>\n",
       "      <td>7500</td>\n",
       "    </tr>\n",
       "    <tr>\n",
       "      <th>50</th>\n",
       "      <td>【貼心提醒】除符合鑑..</td>\n",
       "      <td>Apple iPhone 8 256GB福利品</td>\n",
       "      <td>11500</td>\n",
       "    </tr>\n",
       "    <tr>\n",
       "      <th>51</th>\n",
       "      <td>4G+3G 雙卡雙待</td>\n",
       "      <td>Samsung Galaxy S9+ 128GB</td>\n",
       "      <td>990</td>\n",
       "    </tr>\n",
       "    <tr>\n",
       "      <th>52</th>\n",
       "      <td>4G+3G 雙卡雙待</td>\n",
       "      <td>Samsung Galaxy S9 64GB</td>\n",
       "      <td>0</td>\n",
       "    </tr>\n",
       "    <tr>\n",
       "      <th>53</th>\n",
       "      <td>6 吋 1,920 x 1,080pixels 解..</td>\n",
       "      <td>SONY Xperia XA2 Ultra</td>\n",
       "      <td>0</td>\n",
       "    </tr>\n",
       "    <tr>\n",
       "      <th>54</th>\n",
       "      <td>5.5 吋 1,280 x 720pixels 解..</td>\n",
       "      <td>SONY Xperia L2</td>\n",
       "      <td>0</td>\n",
       "    </tr>\n",
       "    <tr>\n",
       "      <th>55</th>\n",
       "      <td>5 吋 1,280 x 720pixels 解析..</td>\n",
       "      <td>FarEastone Smart 509</td>\n",
       "      <td>0</td>\n",
       "    </tr>\n",
       "    <tr>\n",
       "      <th>56</th>\n",
       "      <td>5.7 吋 1,440 x 720pixels 解..</td>\n",
       "      <td>Asus ZenFone Max Plus</td>\n",
       "      <td>0</td>\n",
       "    </tr>\n",
       "    <tr>\n",
       "      <th>57</th>\n",
       "      <td>5.6 吋 2,220 x 1,080pixels ..</td>\n",
       "      <td>Samsung Galaxy A8 2018版</td>\n",
       "      <td>0</td>\n",
       "    </tr>\n",
       "    <tr>\n",
       "      <th>58</th>\n",
       "      <td>2.4 吋 320 x 240pixels 解析..</td>\n",
       "      <td>Nokia 3310 2017 3G</td>\n",
       "      <td>0</td>\n",
       "    </tr>\n",
       "    <tr>\n",
       "      <th>59</th>\n",
       "      <td>5.8 吋 2,436 x 1,125pixels ..</td>\n",
       "      <td>Apple iPhone X 256GB</td>\n",
       "      <td>2400</td>\n",
       "    </tr>\n",
       "    <tr>\n",
       "      <th>60</th>\n",
       "      <td>5.8 吋 2,436 x 1,125pixels ..</td>\n",
       "      <td>Apple iPhone X 64GB</td>\n",
       "      <td>0</td>\n",
       "    </tr>\n",
       "    <tr>\n",
       "      <th>61</th>\n",
       "      <td>4G ＋ 3G 雙卡雙待</td>\n",
       "      <td>Samsung Galaxy Note 8</td>\n",
       "      <td>0</td>\n",
       "    </tr>\n",
       "    <tr>\n",
       "      <th>62</th>\n",
       "      <td>2.4 吋 320 x 240pixels 解析..</td>\n",
       "      <td>FarEastone Smart 109</td>\n",
       "      <td>1990</td>\n",
       "    </tr>\n",
       "    <tr>\n",
       "      <th>63</th>\n",
       "      <td>4G ＋ 3G 雙卡雙待</td>\n",
       "      <td>Samsung Galaxy S8+</td>\n",
       "      <td>0</td>\n",
       "    </tr>\n",
       "    <tr>\n",
       "      <th>64</th>\n",
       "      <td>5.5 吋 1,920 x 1,080pixels ..</td>\n",
       "      <td>Apple iPhone 7 Plus 128GB</td>\n",
       "      <td>0</td>\n",
       "    </tr>\n",
       "    <tr>\n",
       "      <th>65</th>\n",
       "      <td>2.4吋螢幕</td>\n",
       "      <td>iTree 211 3G 直立手機</td>\n",
       "      <td>2280</td>\n",
       "    </tr>\n",
       "    <tr>\n",
       "      <th>66</th>\n",
       "      <td>【貼心提醒】除符合鑑..</td>\n",
       "      <td>Apple iPhone 7 Plus 128GB 福..</td>\n",
       "      <td>8900</td>\n",
       "    </tr>\n",
       "  </tbody>\n",
       "</table>\n",
       "<p>67 rows × 3 columns</p>\n",
       "</div>"
      ],
      "text/plain": [
       "                              desc                          headings  price\n",
       "0               4.7 吋對角線 LED 背光寬..         Apple iPhone 6 32GB 2018版      0\n",
       "1                     4G ＋ 3G 雙卡雙待              SONY Xperia XA2 Plus      0\n",
       "2                     4G ＋ 4G 雙卡雙待                          小米 Max 3      0\n",
       "3                     4G ＋ 3G 雙卡雙待                          OPPO AX5      0\n",
       "4                     4G ＋ 4G 雙卡雙待                     Huawei nova 3      0\n",
       "5                     4G ＋ 4G 雙卡雙待                          Sugar P1      0\n",
       "6                 雙卡雙待4G+4G,八核心處..       Samsung Galaxy Note 9 128GB   2990\n",
       "7               6.4吋曲面全景螢幕 2340*..                       OPPO Find X    990\n",
       "8   5.5 吋 1,920 x 1,080pixels LE..  Apple iPhone 6S Plus 2018 128G..      0\n",
       "9       2.4 吋 320 x 240pixels 解析..                     Nokia 8110 4G      0\n",
       "10    5.45 吋 1,440 x 720pixels 解..                      MI 紅米 6 64GB      0\n",
       "11    5.45 吋 1,440 x 720pixels 解..                      MI 紅米 6 32GB      0\n",
       "12  5.5 吋 1,920 x 1,080pixels LE..    Apple iPhone 6S Plus 2018 32GB      0\n",
       "13     6 吋 2,160 x 1,080pixels 解..         Asus ZenFone Max Pro 64GB      0\n",
       "14     6 吋 2,160 x 1,080pixels 解..         Asus ZenFone Max Pro 32GB      0\n",
       "15                    4G ＋ 4G 雙卡雙待                    Nokia 6.1 Plus      0\n",
       "16    6.2 吋 2,280x 1,080pixels 解..                           OPPO A3      0\n",
       "17     5.2 吋 1,440 x 720pixels 解..                         Nokia 3.1      0\n",
       "18    6.3 吋 2,220 x 1080pixels 解..            Samsung Galaxy A8 Star      0\n",
       "19      5.5 吋 1,440x 720pixels 解..     Asus ZenFone Max (M1) ZB555KL      0\n",
       "20     6 吋 2,880 x 1,440pixels 解..                     HTC U12+ 64GB      0\n",
       "21     5.7 吋 1,440 x 720pixels 解..                        Koobee S12      0\n",
       "22      6 吋 1,440 x 720pixels 解析..                    HTC Desire 12+      0\n",
       "23   5.84 吋 2,280 x 1,080pixels ..                    Huawei nova 3e      0\n",
       "24     5.6 吋 1,480 x 720pixels 解..                 Samsung Galaxy J6      0\n",
       "25     5.5 吋 1,280 x 720pixels 解..                 Samsung Galaxy J4      0\n",
       "26     6 吋 2,220 x 1,080pixels 解..                Samsung Galaxy A6+      0\n",
       "27   5.99 吋 2,160 x 1,080pixels ..                 MI 紅米 Note 5 32GB      0\n",
       "28   6.28 吋 2,280 x 1,080pixels ..                          OPPO R15      0\n",
       "29   5.99 吋 2,160 x 1,080pixels ..                         小米 MIX 2S      0\n",
       "..                             ...                               ...    ...\n",
       "37    5.8 吋 2,244 x 1,080pixels ..                        Huawei P20      0\n",
       "38     6 吋 2,160 x 1,080pixels 解..                      Nokia 7 Plus      0\n",
       "39    5.5 吋 1,920 x 1,080pixels ..                         Nokia 6.1      0\n",
       "40     6 吋 2,160 x 1,080pixels 解..                   Asus ZenFone 5Q      0\n",
       "41    5.7 吋 2,160 x 1,080pixels ..                   SONY Xperia XZ2      0\n",
       "42                    4G ＋ 3G 雙卡雙待             Samsung Galaxy J7 Pro      0\n",
       "43     6 吋 2,160 x 1,080pixels 解..                          OPPO A75      0\n",
       "44        5 吋 960 x 540pixels 解析..             Samsung Galaxy J2 Pro      0\n",
       "45                    【貼心提醒】除符合鑑..            Apple iPhone X 64GB福利品  14500\n",
       "46                    【貼心提醒】除符合鑑..           Apple iPhone X 256GB福利品  19000\n",
       "47                    【貼心提醒】除符合鑑..      Apple iPhone 8 Plus 64GB福利..  10900\n",
       "48                    【貼心提醒】除符合鑑..      Apple iPhone 8 Plus 256GB福..  14900\n",
       "49                    【貼心提醒】除符合鑑..            Apple iPhone 8 64GB福利品   7500\n",
       "50                    【貼心提醒】除符合鑑..           Apple iPhone 8 256GB福利品  11500\n",
       "51                      4G+3G 雙卡雙待          Samsung Galaxy S9+ 128GB    990\n",
       "52                      4G+3G 雙卡雙待            Samsung Galaxy S9 64GB      0\n",
       "53     6 吋 1,920 x 1,080pixels 解..             SONY Xperia XA2 Ultra      0\n",
       "54     5.5 吋 1,280 x 720pixels 解..                    SONY Xperia L2      0\n",
       "55      5 吋 1,280 x 720pixels 解析..              FarEastone Smart 509      0\n",
       "56     5.7 吋 1,440 x 720pixels 解..             Asus ZenFone Max Plus      0\n",
       "57    5.6 吋 2,220 x 1,080pixels ..           Samsung Galaxy A8 2018版      0\n",
       "58      2.4 吋 320 x 240pixels 解析..                Nokia 3310 2017 3G      0\n",
       "59    5.8 吋 2,436 x 1,125pixels ..              Apple iPhone X 256GB   2400\n",
       "60    5.8 吋 2,436 x 1,125pixels ..               Apple iPhone X 64GB      0\n",
       "61                    4G ＋ 3G 雙卡雙待             Samsung Galaxy Note 8      0\n",
       "62      2.4 吋 320 x 240pixels 解析..              FarEastone Smart 109   1990\n",
       "63                    4G ＋ 3G 雙卡雙待                Samsung Galaxy S8+      0\n",
       "64    5.5 吋 1,920 x 1,080pixels ..         Apple iPhone 7 Plus 128GB      0\n",
       "65                          2.4吋螢幕                 iTree 211 3G 直立手機   2280\n",
       "66                    【貼心提醒】除符合鑑..     Apple iPhone 7 Plus 128GB 福..   8900\n",
       "\n",
       "[67 rows x 3 columns]"
      ]
     },
     "execution_count": 12,
     "metadata": {},
     "output_type": "execute_result"
    }
   ],
   "source": [
    "phones"
   ]
  },
  {
   "cell_type": "markdown",
   "metadata": {},
   "source": [
    "## 抓取商品細節頁面"
   ]
  },
  {
   "cell_type": "code",
   "execution_count": 72,
   "metadata": {},
   "outputs": [],
   "source": [
    "import requests\n",
    "res = requests.post('https://www.fetnet.net/estore/phone/apple-iphone-6-32gb')"
   ]
  },
  {
   "cell_type": "code",
   "execution_count": 16,
   "metadata": {},
   "outputs": [],
   "source": [
    "from bs4 import BeautifulSoup\n",
    "soup = BeautifulSoup(res.text, 'lxml')"
   ]
  },
  {
   "cell_type": "code",
   "execution_count": 18,
   "metadata": {},
   "outputs": [
    {
     "data": {
      "text/plain": [
       "'Apple iPhone 6 32GB 2018版'"
      ]
     },
     "execution_count": 18,
     "metadata": {},
     "output_type": "execute_result"
    }
   ],
   "source": [
    "soup.select_one('.heading').text"
   ]
  },
  {
   "cell_type": "code",
   "execution_count": 23,
   "metadata": {},
   "outputs": [
    {
     "name": "stdout",
     "output_type": "stream",
     "text": [
      "<div class=\"radioBox first active\" name=\"shoppingRadio\" onclick=\"shoppingDetail('NH'); fet.ev('es-ga');\" value=\"NH\">\n",
      "<div class=\"title\">\n",
      "<span class=\"radio\" fetkey=\"es-ga\"></span>\r\n",
      "\t                                                   新辦門號\r\n",
      "\t                                               </div>\n",
      "<div class=\"content\">\n",
      "<div class=\"price\">\n",
      "<span id=\"gaLowestPrice_label\"></span>\n",
      "</div>\n",
      "</div>\n",
      "</div>\n",
      "<div class=\"radioBox\" name=\"shoppingRadio\" onclick=\"shoppingDetail('PH'); fet.ev('es-np');\" value=\"PH\">\n",
      "<div class=\"title\">\n",
      "<span class=\"radio\" fetkey=\"es-np\"></span>\r\n",
      "\t                                                   門號可攜\r\n",
      "\t                                               </div>\n",
      "<div class=\"content\">\n",
      "<div class=\"price\">\n",
      "<span id=\"gaNPLowestPrice_label\"></span>\n",
      "</div>\n",
      "</div>\n",
      "</div>\n",
      "<div class=\"radioBox\" name=\"shoppingRadio\" onclick=\"shoppingDetail('LH'); fet.ev('es-ly');\" value=\"LH\">\n",
      "<div class=\"title\">\n",
      "<span class=\"radio\" fetkey=\"es-ly\"></span>\r\n",
      "\t                                                   我要續約\r\n",
      "\t                                               </div>\n",
      "<div class=\"content\">\n",
      "<div class=\"price\">\n",
      "<span id=\"lyLowestPrice_label\"></span>\n",
      "</div>\n",
      "</div>\n",
      "</div>\n",
      "<div class=\"radioBox\" name=\"shoppingRadio\" onclick=\"shoppingDetail('DA'); fet.ev('es-da');\" style=\"display: none\" value=\"DA\">\n",
      "<div class=\"title\">\n",
      "<span class=\"radio\" fetkey=\"es-da\"></span>\r\n",
      "\t                                                   單買商品\r\n",
      "\t                                               </div>\n",
      "<div class=\"content\">\n",
      "<div class=\"price\" id=\"erpPrice_label\">\n",
      "</div>\n",
      "</div>\n",
      "</div>\n"
     ]
    }
   ],
   "source": [
    "for item in soup.select('.radioBox'):\n",
    "    print(item)\n",
    "    #print(item.select_one('.title'))\n",
    "    #print(item.select_one('.price'))"
   ]
  },
  {
   "cell_type": "markdown",
   "metadata": {},
   "source": [
    "## 正規表達法"
   ]
  },
  {
   "cell_type": "code",
   "execution_count": 24,
   "metadata": {},
   "outputs": [
    {
     "data": {
      "text/plain": [
       "True"
      ]
     },
     "execution_count": 24,
     "metadata": {},
     "output_type": "execute_result"
    }
   ],
   "source": [
    "a = '0912345678'\n",
    "a == '0912345678'"
   ]
  },
  {
   "cell_type": "code",
   "execution_count": 25,
   "metadata": {},
   "outputs": [
    {
     "data": {
      "text/plain": [
       "<_sre.SRE_Match object; span=(0, 1), match='3'>"
      ]
     },
     "execution_count": 25,
     "metadata": {},
     "output_type": "execute_result"
    }
   ],
   "source": [
    "import re\n",
    "s = '3'\n",
    "re.search('3', s)"
   ]
  },
  {
   "cell_type": "code",
   "execution_count": 26,
   "metadata": {},
   "outputs": [],
   "source": [
    "re.search('5', s)"
   ]
  },
  {
   "cell_type": "code",
   "execution_count": 27,
   "metadata": {},
   "outputs": [
    {
     "data": {
      "text/plain": [
       "<_sre.SRE_Match object; span=(0, 1), match='3'>"
      ]
     },
     "execution_count": 27,
     "metadata": {},
     "output_type": "execute_result"
    }
   ],
   "source": [
    "# [0123456789] => 0 or 1 or 2 ... or 9\n",
    "re.search('[0123456789]', s)"
   ]
  },
  {
   "cell_type": "code",
   "execution_count": 28,
   "metadata": {},
   "outputs": [
    {
     "data": {
      "text/plain": [
       "<_sre.SRE_Match object; span=(0, 1), match='3'>"
      ]
     },
     "execution_count": 28,
     "metadata": {},
     "output_type": "execute_result"
    }
   ],
   "source": [
    "# [0123456789] => [0-9]\n",
    "re.search('[0-9]', s)"
   ]
  },
  {
   "cell_type": "code",
   "execution_count": 29,
   "metadata": {},
   "outputs": [
    {
     "data": {
      "text/plain": [
       "<_sre.SRE_Match object; span=(0, 1), match='3'>"
      ]
     },
     "execution_count": 29,
     "metadata": {},
     "output_type": "execute_result"
    }
   ],
   "source": [
    "# [0-9] -> \\d\n",
    "re.search('\\d', s)"
   ]
  },
  {
   "cell_type": "code",
   "execution_count": 30,
   "metadata": {},
   "outputs": [
    {
     "data": {
      "text/plain": [
       "<_sre.SRE_Match object; span=(0, 1), match='w'>"
      ]
     },
     "execution_count": 30,
     "metadata": {},
     "output_type": "execute_result"
    }
   ],
   "source": [
    "s = 'w'\n",
    "re.search('[abcdefghijklmnopqrstuvwzyz]', s)"
   ]
  },
  {
   "cell_type": "code",
   "execution_count": 31,
   "metadata": {},
   "outputs": [
    {
     "data": {
      "text/plain": [
       "<_sre.SRE_Match object; span=(0, 1), match='w'>"
      ]
     },
     "execution_count": 31,
     "metadata": {},
     "output_type": "execute_result"
    }
   ],
   "source": [
    "re.search('[a-z]', s)"
   ]
  },
  {
   "cell_type": "code",
   "execution_count": 32,
   "metadata": {},
   "outputs": [
    {
     "data": {
      "text/plain": [
       "<_sre.SRE_Match object; span=(0, 1), match='W'>"
      ]
     },
     "execution_count": 32,
     "metadata": {},
     "output_type": "execute_result"
    }
   ],
   "source": [
    "s = 'W'\n",
    "re.search('[a-zA-Z]', s)"
   ]
  },
  {
   "cell_type": "code",
   "execution_count": 33,
   "metadata": {},
   "outputs": [
    {
     "data": {
      "text/plain": [
       "<_sre.SRE_Match object; span=(0, 1), match='W'>"
      ]
     },
     "execution_count": 33,
     "metadata": {},
     "output_type": "execute_result"
    }
   ],
   "source": [
    "re.search('[a-zA-Z0-9]', s)"
   ]
  },
  {
   "cell_type": "code",
   "execution_count": 34,
   "metadata": {},
   "outputs": [
    {
     "data": {
      "text/plain": [
       "<_sre.SRE_Match object; span=(0, 1), match='W'>"
      ]
     },
     "execution_count": 34,
     "metadata": {},
     "output_type": "execute_result"
    }
   ],
   "source": [
    "# \\w => [a-zA-Z0-9]\n",
    "re.search('\\w', s)"
   ]
  },
  {
   "cell_type": "code",
   "execution_count": 35,
   "metadata": {},
   "outputs": [
    {
     "data": {
      "text/plain": [
       "<_sre.SRE_Match object; span=(0, 2), match='19'>"
      ]
     },
     "execution_count": 35,
     "metadata": {},
     "output_type": "execute_result"
    }
   ],
   "source": [
    "s = '19'\n",
    "re.search('\\d\\d', s)"
   ]
  },
  {
   "cell_type": "code",
   "execution_count": 36,
   "metadata": {},
   "outputs": [
    {
     "data": {
      "text/plain": [
       "<_sre.SRE_Match object; span=(0, 2), match='19'>"
      ]
     },
     "execution_count": 36,
     "metadata": {},
     "output_type": "execute_result"
    }
   ],
   "source": [
    "# {m} => match m pattern\n",
    "s = '19'\n",
    "re.search('\\d{2}', s)"
   ]
  },
  {
   "cell_type": "code",
   "execution_count": 37,
   "metadata": {},
   "outputs": [
    {
     "data": {
      "text/plain": [
       "<_sre.SRE_Match object; span=(0, 2), match='19'>"
      ]
     },
     "execution_count": 37,
     "metadata": {},
     "output_type": "execute_result"
    }
   ],
   "source": [
    "# {m, n } => match at least m pattern, at most n pattern\n",
    "s = '19'\n",
    "re.search('\\d{1,3}', s)"
   ]
  },
  {
   "cell_type": "code",
   "execution_count": 38,
   "metadata": {},
   "outputs": [
    {
     "data": {
      "text/plain": [
       "<_sre.SRE_Match object; span=(0, 2), match='19'>"
      ]
     },
     "execution_count": 38,
     "metadata": {},
     "output_type": "execute_result"
    }
   ],
   "source": [
    "s = '19'\n",
    "re.search('\\d{1,}', s)"
   ]
  },
  {
   "cell_type": "code",
   "execution_count": 39,
   "metadata": {},
   "outputs": [
    {
     "data": {
      "text/plain": [
       "<_sre.SRE_Match object; span=(0, 2), match='19'>"
      ]
     },
     "execution_count": 39,
     "metadata": {},
     "output_type": "execute_result"
    }
   ],
   "source": [
    "# + => {1,}\n",
    "re.search('\\d+', s)"
   ]
  },
  {
   "cell_type": "code",
   "execution_count": 40,
   "metadata": {},
   "outputs": [
    {
     "data": {
      "text/plain": [
       "<_sre.SRE_Match object; span=(0, 2), match='19'>"
      ]
     },
     "execution_count": 40,
     "metadata": {},
     "output_type": "execute_result"
    }
   ],
   "source": [
    "# * => {0,}\n",
    "re.search('\\d*', s)"
   ]
  },
  {
   "cell_type": "code",
   "execution_count": 44,
   "metadata": {},
   "outputs": [
    {
     "name": "stdout",
     "output_type": "stream",
     "text": [
      "<_sre.SRE_Match object; span=(0, 10), match='0912345678'>\n",
      "<_sre.SRE_Match object; span=(0, 12), match='0912-345-678'>\n",
      "<_sre.SRE_Match object; span=(0, 11), match='0912-345678'>\n",
      "None\n"
     ]
    }
   ],
   "source": [
    "phones = ['0912345678', '0912-345-678','0912-345678','09812038148278475897493472934923']\n",
    "for p in phones:\n",
    "    #m = re.search('09\\d{8}', p)\n",
    "    #m = re.search('09\\d{2}-{0,1}\\d{3}-{0,1}\\d{3}', p)\n",
    "    # ? => {0,1}\n",
    "    #m = re.search('09\\d{2}-?\\d{3}-?\\d{3}', p)\n",
    "    # ^ match begin, $ match end\n",
    "    m = re.search('^09\\d{2}-?\\d{3}-?\\d{3}$', p)\n",
    "    print(m)"
   ]
  },
  {
   "cell_type": "code",
   "execution_count": 47,
   "metadata": {},
   "outputs": [],
   "source": [
    "# () => group \n",
    "m = re.search(\"'erpPrice':'([\\d,]+)'\",res.text)"
   ]
  },
  {
   "cell_type": "code",
   "execution_count": 48,
   "metadata": {},
   "outputs": [
    {
     "data": {
      "text/plain": [
       "'13500'"
      ]
     },
     "execution_count": 48,
     "metadata": {},
     "output_type": "execute_result"
    }
   ],
   "source": [
    "m.group(1)"
   ]
  },
  {
   "cell_type": "code",
   "execution_count": 49,
   "metadata": {},
   "outputs": [
    {
     "data": {
      "text/plain": [
       "'11475'"
      ]
     },
     "execution_count": 49,
     "metadata": {},
     "output_type": "execute_result"
    }
   ],
   "source": [
    "m = re.search(\"'discPrice': '([\\d,]+)'\", res.text)\n",
    "m.group(1)"
   ]
  },
  {
   "cell_type": "code",
   "execution_count": 73,
   "metadata": {},
   "outputs": [],
   "source": [
    "import re\n",
    "def getPriceInfo(doc):\n",
    "    ret = {}\n",
    "    m = re.search(\"'discPrice': '([\\d,]+)'\", doc)\n",
    "    ret['discPrice'] = m.group(1)\n",
    "    \n",
    "    m = re.search(\"'erpPrice' ?:'([\\d,]+)'\",doc)\n",
    "    ret['erpPrice']  = m.group(1)\n",
    "    \n",
    "    m = re.search(\"'gaPrice' ?:'([\\d,]+)'\",doc)\n",
    "    ret['gaPrice']  = m.group(1) \n",
    "    \n",
    "    m = re.search(\"'lyPrice' ?:'([\\d,]+)'\",doc)\n",
    "    ret['lyPrice']  = m.group(1) \n",
    "\n",
    "    m = re.search(\"'npPrice' ?:'([\\d,]+)'\",doc)\n",
    "    ret['npPrice']  = m.group(1)\n",
    "\n",
    "    m = re.search(\"'inventory' ?:'([\\d,]+)'\",doc)\n",
    "    ret['inventory']  = m.group(1) \n",
    "    \n",
    "    m = re.search(\"var prodId = '(\\w+)'\", doc)\n",
    "    ret['prodId'] = m.group(1)\n",
    "    \n",
    "    m = re.search(\"'fetNo': '(\\d+)'\", doc)\n",
    "    ret['fetNo'] = m.group(1)\n",
    "    return ret\n",
    "\n",
    "    "
   ]
  },
  {
   "cell_type": "code",
   "execution_count": 74,
   "metadata": {},
   "outputs": [
    {
     "data": {
      "text/plain": [
       "{'discPrice': '11475',\n",
       " 'erpPrice': '13500',\n",
       " 'fetNo': '177200352',\n",
       " 'gaPrice': '0',\n",
       " 'inventory': '21',\n",
       " 'lyPrice': '0',\n",
       " 'npPrice': '0',\n",
       " 'prodId': 'ff808081616749de016173da3ed426dc'}"
      ]
     },
     "execution_count": 74,
     "metadata": {},
     "output_type": "execute_result"
    }
   ],
   "source": [
    "info = getPriceInfo(res.text)\n",
    "info"
   ]
  },
  {
   "cell_type": "code",
   "execution_count": 76,
   "metadata": {},
   "outputs": [],
   "source": [
    "res2 = requests.get('https://www.fetnet.net/estore/shopping/common.do?cmd=queryPromotionsFromDetail&orderType=NH&entryPoint=HANDSET&productId={}&fetNo={}&promoType=&promotion=&installment=&productPrice=&totalPrice='.format(info['prodId'], info['fetNo']))"
   ]
  },
  {
   "cell_type": "code",
   "execution_count": 107,
   "metadata": {},
   "outputs": [],
   "source": [
    "soup2 = BeautifulSoup(res2.text, 'lxml')\n",
    "\n",
    "plans = [] \n",
    "for thumbnail in soup2.select('.thumbnail'):\n",
    "    projectdic = {}\n",
    "    heading = thumbnail.select_one('h4.heading').contents\n",
    "    title = heading[1].text\n",
    "    desc = heading[3].strip()\n",
    "    #print(title, desc)\n",
    "    for plan in thumbnail.select('.planList'):\n",
    "        plandic = {}\n",
    "        for item in plan.select('.list-item'):\n",
    "            if item.select_one('.list-title').text.strip() in ['語音及上網資費', '商品價', '專案價']:\n",
    "                plantitle = item.select_one('.list-title').text.strip() \n",
    "                planprice = ' '.join(item.select_one('.list-price').text.strip().split())\n",
    "                plans.append({'title':title, 'desc':desc, 'plantitle':plantitle, 'planprice': planprice})\n",
    "    "
   ]
  },
  {
   "cell_type": "code",
   "execution_count": 109,
   "metadata": {},
   "outputs": [
    {
     "data": {
      "text/html": [
       "<div>\n",
       "<style>\n",
       "    .dataframe thead tr:only-child th {\n",
       "        text-align: right;\n",
       "    }\n",
       "\n",
       "    .dataframe thead th {\n",
       "        text-align: left;\n",
       "    }\n",
       "\n",
       "    .dataframe tbody tr th {\n",
       "        vertical-align: top;\n",
       "    }\n",
       "</style>\n",
       "<table border=\"1\" class=\"dataframe\">\n",
       "  <thead>\n",
       "    <tr style=\"text-align: right;\">\n",
       "      <th></th>\n",
       "      <th>desc</th>\n",
       "      <th>planprice</th>\n",
       "      <th>plantitle</th>\n",
       "      <th>title</th>\n",
       "    </tr>\n",
       "  </thead>\n",
       "  <tbody>\n",
       "    <tr>\n",
       "      <th>0</th>\n",
       "      <td>月付398，合約期間享網內語音免費，網外送20分鐘不含市話</td>\n",
       "      <td>$399</td>\n",
       "      <td>語音及上網資費</td>\n",
       "      <td>[網路限定]前3個月上網吃到飽</td>\n",
       "    </tr>\n",
       "    <tr>\n",
       "      <th>1</th>\n",
       "      <td>月付398，合約期間享網內語音免費，網外送20分鐘不含市話</td>\n",
       "      <td>$9500</td>\n",
       "      <td>商品價</td>\n",
       "      <td>[網路限定]前3個月上網吃到飽</td>\n",
       "    </tr>\n",
       "    <tr>\n",
       "      <th>2</th>\n",
       "      <td>月付398，合約期間享網內語音免費，網外送20分鐘不含市話</td>\n",
       "      <td>$9500 $791x12期</td>\n",
       "      <td>專案價</td>\n",
       "      <td>[網路限定]前3個月上網吃到飽</td>\n",
       "    </tr>\n",
       "    <tr>\n",
       "      <th>3</th>\n",
       "      <td>月付1399</td>\n",
       "      <td>$1399</td>\n",
       "      <td>語音及上網資費</td>\n",
       "      <td>上網吃到飽</td>\n",
       "    </tr>\n",
       "    <tr>\n",
       "      <th>4</th>\n",
       "      <td>月付1399</td>\n",
       "      <td>$0</td>\n",
       "      <td>商品價</td>\n",
       "      <td>上網吃到飽</td>\n",
       "    </tr>\n",
       "    <tr>\n",
       "      <th>5</th>\n",
       "      <td>月付1399</td>\n",
       "      <td>$0</td>\n",
       "      <td>專案價</td>\n",
       "      <td>上網吃到飽</td>\n",
       "    </tr>\n",
       "    <tr>\n",
       "      <th>6</th>\n",
       "      <td>月付1399</td>\n",
       "      <td>$1399</td>\n",
       "      <td>語音及上網資費</td>\n",
       "      <td>上網吃到飽</td>\n",
       "    </tr>\n",
       "    <tr>\n",
       "      <th>7</th>\n",
       "      <td>月付1399</td>\n",
       "      <td>$0</td>\n",
       "      <td>商品價</td>\n",
       "      <td>上網吃到飽</td>\n",
       "    </tr>\n",
       "    <tr>\n",
       "      <th>8</th>\n",
       "      <td>月付1399</td>\n",
       "      <td>$0</td>\n",
       "      <td>專案價</td>\n",
       "      <td>上網吃到飽</td>\n",
       "    </tr>\n",
       "    <tr>\n",
       "      <th>9</th>\n",
       "      <td>前半年上網吃到飽月付388內含5GB再送網內外各30分市話40分</td>\n",
       "      <td>$399</td>\n",
       "      <td>語音及上網資費</td>\n",
       "      <td>須持有效學生證或教職識別證</td>\n",
       "    </tr>\n",
       "    <tr>\n",
       "      <th>10</th>\n",
       "      <td>前半年上網吃到飽月付388內含5GB再送網內外各30分市話40分</td>\n",
       "      <td>$5500</td>\n",
       "      <td>商品價</td>\n",
       "      <td>須持有效學生證或教職識別證</td>\n",
       "    </tr>\n",
       "    <tr>\n",
       "      <th>11</th>\n",
       "      <td>前半年上網吃到飽月付388內含5GB再送網內外各30分市話40分</td>\n",
       "      <td>$5500 $458x12期</td>\n",
       "      <td>專案價</td>\n",
       "      <td>須持有效學生證或教職識別證</td>\n",
       "    </tr>\n",
       "    <tr>\n",
       "      <th>12</th>\n",
       "      <td>月付399(內含3.3GB傳輸量)</td>\n",
       "      <td>$399</td>\n",
       "      <td>語音及上網資費</td>\n",
       "      <td>前3個月上網吃到飽</td>\n",
       "    </tr>\n",
       "    <tr>\n",
       "      <th>13</th>\n",
       "      <td>月付399(內含3.3GB傳輸量)</td>\n",
       "      <td>$7900</td>\n",
       "      <td>商品價</td>\n",
       "      <td>前3個月上網吃到飽</td>\n",
       "    </tr>\n",
       "    <tr>\n",
       "      <th>14</th>\n",
       "      <td>月付399(內含3.3GB傳輸量)</td>\n",
       "      <td>$7900 $658x12期</td>\n",
       "      <td>專案價</td>\n",
       "      <td>前3個月上網吃到飽</td>\n",
       "    </tr>\n",
       "    <tr>\n",
       "      <th>15</th>\n",
       "      <td>上網全速吃到飽 月付588 每月送網內40分+網外40分+市話60分</td>\n",
       "      <td>$599</td>\n",
       "      <td>語音及上網資費</td>\n",
       "      <td>須持有效學生證或教職識別證</td>\n",
       "    </tr>\n",
       "    <tr>\n",
       "      <th>16</th>\n",
       "      <td>上網全速吃到飽 月付588 每月送網內40分+網外40分+市話60分</td>\n",
       "      <td>$3900</td>\n",
       "      <td>商品價</td>\n",
       "      <td>須持有效學生證或教職識別證</td>\n",
       "    </tr>\n",
       "    <tr>\n",
       "      <th>17</th>\n",
       "      <td>上網全速吃到飽 月付588 每月送網內40分+網外40分+市話60分</td>\n",
       "      <td>$3900 $325x12期</td>\n",
       "      <td>專案價</td>\n",
       "      <td>須持有效學生證或教職識別證</td>\n",
       "    </tr>\n",
       "    <tr>\n",
       "      <th>18</th>\n",
       "      <td>月付599(內含7GB傳輸量)</td>\n",
       "      <td>$599</td>\n",
       "      <td>語音及上網資費</td>\n",
       "      <td>首年上網吃到飽 提醒:須持有效學生證</td>\n",
       "    </tr>\n",
       "    <tr>\n",
       "      <th>19</th>\n",
       "      <td>月付599(內含7GB傳輸量)</td>\n",
       "      <td>$6900</td>\n",
       "      <td>商品價</td>\n",
       "      <td>首年上網吃到飽 提醒:須持有效學生證</td>\n",
       "    </tr>\n",
       "    <tr>\n",
       "      <th>20</th>\n",
       "      <td>月付599(內含7GB傳輸量)</td>\n",
       "      <td>$6900 $575x12期</td>\n",
       "      <td>專案價</td>\n",
       "      <td>首年上網吃到飽 提醒:須持有效學生證</td>\n",
       "    </tr>\n",
       "    <tr>\n",
       "      <th>21</th>\n",
       "      <td>月付599(內含6GB傳輸量)</td>\n",
       "      <td>$599</td>\n",
       "      <td>語音及上網資費</td>\n",
       "      <td>首年上網吃到飽</td>\n",
       "    </tr>\n",
       "    <tr>\n",
       "      <th>22</th>\n",
       "      <td>月付599(內含6GB傳輸量)</td>\n",
       "      <td>$6900</td>\n",
       "      <td>商品價</td>\n",
       "      <td>首年上網吃到飽</td>\n",
       "    </tr>\n",
       "    <tr>\n",
       "      <th>23</th>\n",
       "      <td>月付599(內含6GB傳輸量)</td>\n",
       "      <td>$6900 $575x12期</td>\n",
       "      <td>專案價</td>\n",
       "      <td>首年上網吃到飽</td>\n",
       "    </tr>\n",
       "    <tr>\n",
       "      <th>24</th>\n",
       "      <td>上網全速吃到飽 月付688 網內免費 每月送網外80分+市話100分</td>\n",
       "      <td>$799</td>\n",
       "      <td>語音及上網資費</td>\n",
       "      <td>須持有效學生證或教職識別證</td>\n",
       "    </tr>\n",
       "    <tr>\n",
       "      <th>25</th>\n",
       "      <td>上網全速吃到飽 月付688 網內免費 每月送網外80分+市話100分</td>\n",
       "      <td>$1900</td>\n",
       "      <td>商品價</td>\n",
       "      <td>須持有效學生證或教職識別證</td>\n",
       "    </tr>\n",
       "    <tr>\n",
       "      <th>26</th>\n",
       "      <td>上網全速吃到飽 月付688 網內免費 每月送網外80分+市話100分</td>\n",
       "      <td>$1900 $158x12期</td>\n",
       "      <td>專案價</td>\n",
       "      <td>須持有效學生證或教職識別證</td>\n",
       "    </tr>\n",
       "    <tr>\n",
       "      <th>27</th>\n",
       "      <td>月付698</td>\n",
       "      <td>$799</td>\n",
       "      <td>語音及上網資費</td>\n",
       "      <td>上網吃到飽 提醒:須持有效學生證</td>\n",
       "    </tr>\n",
       "    <tr>\n",
       "      <th>28</th>\n",
       "      <td>月付698</td>\n",
       "      <td>$6400</td>\n",
       "      <td>商品價</td>\n",
       "      <td>上網吃到飽 提醒:須持有效學生證</td>\n",
       "    </tr>\n",
       "    <tr>\n",
       "      <th>29</th>\n",
       "      <td>月付698</td>\n",
       "      <td>$6400 $533x12期</td>\n",
       "      <td>專案價</td>\n",
       "      <td>上網吃到飽 提醒:須持有效學生證</td>\n",
       "    </tr>\n",
       "    <tr>\n",
       "      <th>30</th>\n",
       "      <td>月付799(內含9GB傳輸量)</td>\n",
       "      <td>$799</td>\n",
       "      <td>語音及上網資費</td>\n",
       "      <td>首年上網吃到飽</td>\n",
       "    </tr>\n",
       "    <tr>\n",
       "      <th>31</th>\n",
       "      <td>月付799(內含9GB傳輸量)</td>\n",
       "      <td>$5400</td>\n",
       "      <td>商品價</td>\n",
       "      <td>首年上網吃到飽</td>\n",
       "    </tr>\n",
       "    <tr>\n",
       "      <th>32</th>\n",
       "      <td>月付799(內含9GB傳輸量)</td>\n",
       "      <td>$5400 $450x12期</td>\n",
       "      <td>專案價</td>\n",
       "      <td>首年上網吃到飽</td>\n",
       "    </tr>\n",
       "    <tr>\n",
       "      <th>33</th>\n",
       "      <td>月付999</td>\n",
       "      <td>$999</td>\n",
       "      <td>語音及上網資費</td>\n",
       "      <td>上網吃到飽</td>\n",
       "    </tr>\n",
       "    <tr>\n",
       "      <th>34</th>\n",
       "      <td>月付999</td>\n",
       "      <td>$2900</td>\n",
       "      <td>商品價</td>\n",
       "      <td>上網吃到飽</td>\n",
       "    </tr>\n",
       "    <tr>\n",
       "      <th>35</th>\n",
       "      <td>月付999</td>\n",
       "      <td>$2900 $241x12期</td>\n",
       "      <td>專案價</td>\n",
       "      <td>上網吃到飽</td>\n",
       "    </tr>\n",
       "    <tr>\n",
       "      <th>36</th>\n",
       "      <td>月付999</td>\n",
       "      <td>$999</td>\n",
       "      <td>語音及上網資費</td>\n",
       "      <td>上網吃到飽</td>\n",
       "    </tr>\n",
       "    <tr>\n",
       "      <th>37</th>\n",
       "      <td>月付999</td>\n",
       "      <td>$900</td>\n",
       "      <td>商品價</td>\n",
       "      <td>上網吃到飽</td>\n",
       "    </tr>\n",
       "    <tr>\n",
       "      <th>38</th>\n",
       "      <td>月付999</td>\n",
       "      <td>$900</td>\n",
       "      <td>專案價</td>\n",
       "      <td>上網吃到飽</td>\n",
       "    </tr>\n",
       "    <tr>\n",
       "      <th>39</th>\n",
       "      <td>月付1199</td>\n",
       "      <td>$1199</td>\n",
       "      <td>語音及上網資費</td>\n",
       "      <td>上網吃到飽</td>\n",
       "    </tr>\n",
       "    <tr>\n",
       "      <th>40</th>\n",
       "      <td>月付1199</td>\n",
       "      <td>$1900</td>\n",
       "      <td>商品價</td>\n",
       "      <td>上網吃到飽</td>\n",
       "    </tr>\n",
       "    <tr>\n",
       "      <th>41</th>\n",
       "      <td>月付1199</td>\n",
       "      <td>$1900 $158x12期</td>\n",
       "      <td>專案價</td>\n",
       "      <td>上網吃到飽</td>\n",
       "    </tr>\n",
       "    <tr>\n",
       "      <th>42</th>\n",
       "      <td>月付1199</td>\n",
       "      <td>$1199</td>\n",
       "      <td>語音及上網資費</td>\n",
       "      <td>上網吃到飽</td>\n",
       "    </tr>\n",
       "    <tr>\n",
       "      <th>43</th>\n",
       "      <td>月付1199</td>\n",
       "      <td>$0</td>\n",
       "      <td>商品價</td>\n",
       "      <td>上網吃到飽</td>\n",
       "    </tr>\n",
       "    <tr>\n",
       "      <th>44</th>\n",
       "      <td>月付1199</td>\n",
       "      <td>$0</td>\n",
       "      <td>專案價</td>\n",
       "      <td>上網吃到飽</td>\n",
       "    </tr>\n",
       "    <tr>\n",
       "      <th>45</th>\n",
       "      <td>月付1799</td>\n",
       "      <td>$1799</td>\n",
       "      <td>語音及上網資費</td>\n",
       "      <td>上網吃到飽</td>\n",
       "    </tr>\n",
       "    <tr>\n",
       "      <th>46</th>\n",
       "      <td>月付1799</td>\n",
       "      <td>$0</td>\n",
       "      <td>商品價</td>\n",
       "      <td>上網吃到飽</td>\n",
       "    </tr>\n",
       "    <tr>\n",
       "      <th>47</th>\n",
       "      <td>月付1799</td>\n",
       "      <td>$0</td>\n",
       "      <td>專案價</td>\n",
       "      <td>上網吃到飽</td>\n",
       "    </tr>\n",
       "    <tr>\n",
       "      <th>48</th>\n",
       "      <td>月付1799</td>\n",
       "      <td>$1799</td>\n",
       "      <td>語音及上網資費</td>\n",
       "      <td>上網吃到飽</td>\n",
       "    </tr>\n",
       "    <tr>\n",
       "      <th>49</th>\n",
       "      <td>月付1799</td>\n",
       "      <td>$0</td>\n",
       "      <td>商品價</td>\n",
       "      <td>上網吃到飽</td>\n",
       "    </tr>\n",
       "    <tr>\n",
       "      <th>50</th>\n",
       "      <td>月付1799</td>\n",
       "      <td>$0</td>\n",
       "      <td>專案價</td>\n",
       "      <td>上網吃到飽</td>\n",
       "    </tr>\n",
       "    <tr>\n",
       "      <th>51</th>\n",
       "      <td>月付2699</td>\n",
       "      <td>$2699</td>\n",
       "      <td>語音及上網資費</td>\n",
       "      <td>上網吃到飽</td>\n",
       "    </tr>\n",
       "    <tr>\n",
       "      <th>52</th>\n",
       "      <td>月付2699</td>\n",
       "      <td>$0</td>\n",
       "      <td>商品價</td>\n",
       "      <td>上網吃到飽</td>\n",
       "    </tr>\n",
       "    <tr>\n",
       "      <th>53</th>\n",
       "      <td>月付2699</td>\n",
       "      <td>$0</td>\n",
       "      <td>專案價</td>\n",
       "      <td>上網吃到飽</td>\n",
       "    </tr>\n",
       "    <tr>\n",
       "      <th>54</th>\n",
       "      <td>月付2699</td>\n",
       "      <td>$2699</td>\n",
       "      <td>語音及上網資費</td>\n",
       "      <td>上網吃到飽</td>\n",
       "    </tr>\n",
       "    <tr>\n",
       "      <th>55</th>\n",
       "      <td>月付2699</td>\n",
       "      <td>$0</td>\n",
       "      <td>商品價</td>\n",
       "      <td>上網吃到飽</td>\n",
       "    </tr>\n",
       "    <tr>\n",
       "      <th>56</th>\n",
       "      <td>月付2699</td>\n",
       "      <td>$0</td>\n",
       "      <td>專案價</td>\n",
       "      <td>上網吃到飽</td>\n",
       "    </tr>\n",
       "  </tbody>\n",
       "</table>\n",
       "</div>"
      ],
      "text/plain": [
       "                                  desc       planprice plantitle  \\\n",
       "0        月付398，合約期間享網內語音免費，網外送20分鐘不含市話            $399   語音及上網資費   \n",
       "1        月付398，合約期間享網內語音免費，網外送20分鐘不含市話           $9500       商品價   \n",
       "2        月付398，合約期間享網內語音免費，網外送20分鐘不含市話  $9500 $791x12期       專案價   \n",
       "3                               月付1399           $1399   語音及上網資費   \n",
       "4                               月付1399              $0       商品價   \n",
       "5                               月付1399              $0       專案價   \n",
       "6                               月付1399           $1399   語音及上網資費   \n",
       "7                               月付1399              $0       商品價   \n",
       "8                               月付1399              $0       專案價   \n",
       "9     前半年上網吃到飽月付388內含5GB再送網內外各30分市話40分            $399   語音及上網資費   \n",
       "10    前半年上網吃到飽月付388內含5GB再送網內外各30分市話40分           $5500       商品價   \n",
       "11    前半年上網吃到飽月付388內含5GB再送網內外各30分市話40分  $5500 $458x12期       專案價   \n",
       "12                   月付399(內含3.3GB傳輸量)            $399   語音及上網資費   \n",
       "13                   月付399(內含3.3GB傳輸量)           $7900       商品價   \n",
       "14                   月付399(內含3.3GB傳輸量)  $7900 $658x12期       專案價   \n",
       "15  上網全速吃到飽 月付588 每月送網內40分+網外40分+市話60分            $599   語音及上網資費   \n",
       "16  上網全速吃到飽 月付588 每月送網內40分+網外40分+市話60分           $3900       商品價   \n",
       "17  上網全速吃到飽 月付588 每月送網內40分+網外40分+市話60分  $3900 $325x12期       專案價   \n",
       "18                     月付599(內含7GB傳輸量)            $599   語音及上網資費   \n",
       "19                     月付599(內含7GB傳輸量)           $6900       商品價   \n",
       "20                     月付599(內含7GB傳輸量)  $6900 $575x12期       專案價   \n",
       "21                     月付599(內含6GB傳輸量)            $599   語音及上網資費   \n",
       "22                     月付599(內含6GB傳輸量)           $6900       商品價   \n",
       "23                     月付599(內含6GB傳輸量)  $6900 $575x12期       專案價   \n",
       "24  上網全速吃到飽 月付688 網內免費 每月送網外80分+市話100分            $799   語音及上網資費   \n",
       "25  上網全速吃到飽 月付688 網內免費 每月送網外80分+市話100分           $1900       商品價   \n",
       "26  上網全速吃到飽 月付688 網內免費 每月送網外80分+市話100分  $1900 $158x12期       專案價   \n",
       "27                               月付698            $799   語音及上網資費   \n",
       "28                               月付698           $6400       商品價   \n",
       "29                               月付698  $6400 $533x12期       專案價   \n",
       "30                     月付799(內含9GB傳輸量)            $799   語音及上網資費   \n",
       "31                     月付799(內含9GB傳輸量)           $5400       商品價   \n",
       "32                     月付799(內含9GB傳輸量)  $5400 $450x12期       專案價   \n",
       "33                               月付999            $999   語音及上網資費   \n",
       "34                               月付999           $2900       商品價   \n",
       "35                               月付999  $2900 $241x12期       專案價   \n",
       "36                               月付999            $999   語音及上網資費   \n",
       "37                               月付999            $900       商品價   \n",
       "38                               月付999            $900       專案價   \n",
       "39                              月付1199           $1199   語音及上網資費   \n",
       "40                              月付1199           $1900       商品價   \n",
       "41                              月付1199  $1900 $158x12期       專案價   \n",
       "42                              月付1199           $1199   語音及上網資費   \n",
       "43                              月付1199              $0       商品價   \n",
       "44                              月付1199              $0       專案價   \n",
       "45                              月付1799           $1799   語音及上網資費   \n",
       "46                              月付1799              $0       商品價   \n",
       "47                              月付1799              $0       專案價   \n",
       "48                              月付1799           $1799   語音及上網資費   \n",
       "49                              月付1799              $0       商品價   \n",
       "50                              月付1799              $0       專案價   \n",
       "51                              月付2699           $2699   語音及上網資費   \n",
       "52                              月付2699              $0       商品價   \n",
       "53                              月付2699              $0       專案價   \n",
       "54                              月付2699           $2699   語音及上網資費   \n",
       "55                              月付2699              $0       商品價   \n",
       "56                              月付2699              $0       專案價   \n",
       "\n",
       "                 title  \n",
       "0      [網路限定]前3個月上網吃到飽  \n",
       "1      [網路限定]前3個月上網吃到飽  \n",
       "2      [網路限定]前3個月上網吃到飽  \n",
       "3                上網吃到飽  \n",
       "4                上網吃到飽  \n",
       "5                上網吃到飽  \n",
       "6                上網吃到飽  \n",
       "7                上網吃到飽  \n",
       "8                上網吃到飽  \n",
       "9        須持有效學生證或教職識別證  \n",
       "10       須持有效學生證或教職識別證  \n",
       "11       須持有效學生證或教職識別證  \n",
       "12           前3個月上網吃到飽  \n",
       "13           前3個月上網吃到飽  \n",
       "14           前3個月上網吃到飽  \n",
       "15       須持有效學生證或教職識別證  \n",
       "16       須持有效學生證或教職識別證  \n",
       "17       須持有效學生證或教職識別證  \n",
       "18  首年上網吃到飽 提醒:須持有效學生證  \n",
       "19  首年上網吃到飽 提醒:須持有效學生證  \n",
       "20  首年上網吃到飽 提醒:須持有效學生證  \n",
       "21             首年上網吃到飽  \n",
       "22             首年上網吃到飽  \n",
       "23             首年上網吃到飽  \n",
       "24       須持有效學生證或教職識別證  \n",
       "25       須持有效學生證或教職識別證  \n",
       "26       須持有效學生證或教職識別證  \n",
       "27    上網吃到飽 提醒:須持有效學生證  \n",
       "28    上網吃到飽 提醒:須持有效學生證  \n",
       "29    上網吃到飽 提醒:須持有效學生證  \n",
       "30             首年上網吃到飽  \n",
       "31             首年上網吃到飽  \n",
       "32             首年上網吃到飽  \n",
       "33               上網吃到飽  \n",
       "34               上網吃到飽  \n",
       "35               上網吃到飽  \n",
       "36               上網吃到飽  \n",
       "37               上網吃到飽  \n",
       "38               上網吃到飽  \n",
       "39               上網吃到飽  \n",
       "40               上網吃到飽  \n",
       "41               上網吃到飽  \n",
       "42               上網吃到飽  \n",
       "43               上網吃到飽  \n",
       "44               上網吃到飽  \n",
       "45               上網吃到飽  \n",
       "46               上網吃到飽  \n",
       "47               上網吃到飽  \n",
       "48               上網吃到飽  \n",
       "49               上網吃到飽  \n",
       "50               上網吃到飽  \n",
       "51               上網吃到飽  \n",
       "52               上網吃到飽  \n",
       "53               上網吃到飽  \n",
       "54               上網吃到飽  \n",
       "55               上網吃到飽  \n",
       "56               上網吃到飽  "
      ]
     },
     "execution_count": 109,
     "metadata": {},
     "output_type": "execute_result"
    }
   ],
   "source": [
    "import pandas\n",
    "plandf = pandas.DataFrame(plans)\n",
    "plandf"
   ]
  },
  {
   "cell_type": "markdown",
   "metadata": {},
   "source": [
    "## 完整爬蟲範例"
   ]
  },
  {
   "cell_type": "markdown",
   "metadata": {},
   "source": [
    "### 引用套件"
   ]
  },
  {
   "cell_type": "code",
   "execution_count": null,
   "metadata": {},
   "outputs": [],
   "source": [
    "import requests\n",
    "import re\n",
    "from bs4 import BeautifulSoup"
   ]
  },
  {
   "cell_type": "markdown",
   "metadata": {},
   "source": [
    "### 取得價格資料"
   ]
  },
  {
   "cell_type": "code",
   "execution_count": 132,
   "metadata": {},
   "outputs": [],
   "source": [
    "def getPriceInfo(doc):\n",
    "    ret = {}\n",
    "    m = re.search(\"'discPrice': '([\\d,]+)'\", doc)\n",
    "    if m:\n",
    "        ret['discPrice'] = m.group(1)\n",
    "    \n",
    "    m = re.search(\"'erpPrice' ?:'([\\d,]+)'\",doc)\n",
    "    if m:\n",
    "        ret['erpPrice']  = m.group(1)\n",
    "    \n",
    "    m = re.search(\"'gaPrice' ?:'([\\d,]+)'\",doc)\n",
    "    if m:\n",
    "        ret['gaPrice']  = m.group(1) \n",
    "    \n",
    "    m = re.search(\"'lyPrice' ?:'([\\d,]+)'\",doc)\n",
    "    if m:\n",
    "        ret['lyPrice']  = m.group(1) \n",
    "\n",
    "    m = re.search(\"'npPrice' ?:'([\\d,]+)'\",doc)\n",
    "    if m:\n",
    "        ret['npPrice']  = m.group(1)\n",
    "\n",
    "    m = re.search(\"'inventory' ?:'([\\d,]+)'\",doc)\n",
    "    if m:\n",
    "        ret['inventory']  = m.group(1) \n",
    "    \n",
    "    m = re.search(\"var prodId = '(\\w+)'\", doc)\n",
    "    if m:\n",
    "        ret['prodId'] = m.group(1)\n",
    "    \n",
    "    m = re.search(\"'fetNo': '(\\d+)'\", doc)\n",
    "    if m:\n",
    "        ret['fetNo'] = m.group(1)\n",
    "    return ret"
   ]
  },
  {
   "cell_type": "markdown",
   "metadata": {},
   "source": [
    "### 抓取商品價格資訊"
   ]
  },
  {
   "cell_type": "code",
   "execution_count": 133,
   "metadata": {},
   "outputs": [
    {
     "data": {
      "text/plain": [
       "{'discPrice': '11475',\n",
       " 'erpPrice': '13500',\n",
       " 'fetNo': '177200352',\n",
       " 'gaPrice': '0',\n",
       " 'inventory': '21',\n",
       " 'lyPrice': '0',\n",
       " 'npPrice': '0',\n",
       " 'prodId': 'ff808081616749de016173da3ed426dc',\n",
       " 'title': 'Apple iPhone 6 32GB 2018版'}"
      ]
     },
     "execution_count": 133,
     "metadata": {},
     "output_type": "execute_result"
    }
   ],
   "source": [
    "def parseDetail(url):\n",
    "    ret = {}\n",
    "    res = requests.post(url)\n",
    "    soup = BeautifulSoup(res.text, 'lxml')\n",
    "    ret['title'] = soup.select_one('.heading').text\n",
    "    ret.update(getPriceInfo(res.text))\n",
    "    return ret\n",
    "\n",
    "url = 'https://www.fetnet.net/estore/phone/apple-iphone-6-32gb'\n",
    "parseDetail(url)"
   ]
  },
  {
   "cell_type": "markdown",
   "metadata": {},
   "source": [
    "### 解析清單頁面 "
   ]
  },
  {
   "cell_type": "code",
   "execution_count": 137,
   "metadata": {},
   "outputs": [],
   "source": [
    "phoneurl = 'https://www.fetnet.net/estore/phone/'\n",
    "\n",
    "def parseItems(res):\n",
    "    ret = []\n",
    "    soup = BeautifulSoup(res.text, 'lxml')\n",
    "    for item in soup.select('#itemList01 a.itemLink'):\n",
    "        href = item.get('onclick')\n",
    "        m = re.search(\"handsetDetail\\('(.+)'\\)\",href)\n",
    "        link = phoneurl + m.group(1)\n",
    "        #print(link)\n",
    "        try:\n",
    "            ret.append(parseDetail(link))\n",
    "        except:\n",
    "            print(link)\n",
    "    return ret"
   ]
  },
  {
   "cell_type": "code",
   "execution_count": 138,
   "metadata": {},
   "outputs": [
    {
     "name": "stdout",
     "output_type": "stream",
     "text": [
      "1\n",
      "2\n",
      "3\n",
      "4\n",
      "5\n",
      "6\n"
     ]
    }
   ],
   "source": [
    "import requests\n",
    "url     = 'https://www.fetnet.net/estore/phone/' \n",
    "payload = {\n",
    " 'pageNo': 2   \n",
    "}\n",
    "products = []\n",
    "for p in range(1,7):\n",
    "    payload['pageNo'] = p\n",
    "    res = requests.post(url, data = payload)\n",
    "    products.extend(parseItems(res))\n",
    "    print(p)"
   ]
  },
  {
   "cell_type": "code",
   "execution_count": 140,
   "metadata": {},
   "outputs": [],
   "source": [
    "import pandas\n",
    "productdf = pandas.DataFrame(products)"
   ]
  },
  {
   "cell_type": "code",
   "execution_count": 142,
   "metadata": {},
   "outputs": [
    {
     "name": "stdout",
     "output_type": "stream",
     "text": [
      "<class 'pandas.core.frame.DataFrame'>\n",
      "RangeIndex: 67 entries, 0 to 66\n",
      "Data columns (total 9 columns):\n",
      "discPrice    18 non-null object\n",
      "erpPrice     67 non-null object\n",
      "fetNo        67 non-null object\n",
      "gaPrice      67 non-null object\n",
      "inventory    67 non-null object\n",
      "lyPrice      67 non-null object\n",
      "npPrice      67 non-null object\n",
      "prodId       67 non-null object\n",
      "title        67 non-null object\n",
      "dtypes: object(9)\n",
      "memory usage: 4.8+ KB\n"
     ]
    }
   ],
   "source": [
    "productdf.info()"
   ]
  },
  {
   "cell_type": "code",
   "execution_count": 146,
   "metadata": {},
   "outputs": [],
   "source": [
    "productdf['npPrice'] = productdf['npPrice'].astype(int)\n",
    "\n",
    "productdf['lyPrice'] = productdf['lyPrice'].astype(int)\n",
    "productdf['inventory'] = productdf['inventory'].astype(int)\n",
    "productdf['gaPrice'] = productdf['gaPrice'].astype(int)\n",
    "productdf['discPrice'] = productdf['discPrice'].astype(float)\n",
    "productdf['erpPrice'] = productdf['erpPrice'].astype(int)"
   ]
  },
  {
   "cell_type": "code",
   "execution_count": 151,
   "metadata": {},
   "outputs": [
    {
     "data": {
      "text/html": [
       "<div>\n",
       "<style>\n",
       "    .dataframe thead tr:only-child th {\n",
       "        text-align: right;\n",
       "    }\n",
       "\n",
       "    .dataframe thead th {\n",
       "        text-align: left;\n",
       "    }\n",
       "\n",
       "    .dataframe tbody tr th {\n",
       "        vertical-align: top;\n",
       "    }\n",
       "</style>\n",
       "<table border=\"1\" class=\"dataframe\">\n",
       "  <thead>\n",
       "    <tr style=\"text-align: right;\">\n",
       "      <th></th>\n",
       "      <th>discPrice</th>\n",
       "      <th>erpPrice</th>\n",
       "      <th>fetNo</th>\n",
       "      <th>gaPrice</th>\n",
       "      <th>inventory</th>\n",
       "      <th>lyPrice</th>\n",
       "      <th>npPrice</th>\n",
       "      <th>prodId</th>\n",
       "      <th>title</th>\n",
       "    </tr>\n",
       "  </thead>\n",
       "  <tbody>\n",
       "    <tr>\n",
       "      <th>59</th>\n",
       "      <td>NaN</td>\n",
       "      <td>41500</td>\n",
       "      <td>177200315</td>\n",
       "      <td>7400</td>\n",
       "      <td>16</td>\n",
       "      <td>2400</td>\n",
       "      <td>7400</td>\n",
       "      <td>ff8080815f52399a015f6c543bf43e53</td>\n",
       "      <td>Apple iPhone X 256GB</td>\n",
       "    </tr>\n",
       "    <tr>\n",
       "      <th>60</th>\n",
       "      <td>NaN</td>\n",
       "      <td>35900</td>\n",
       "      <td>177200312</td>\n",
       "      <td>1800</td>\n",
       "      <td>24</td>\n",
       "      <td>0</td>\n",
       "      <td>1800</td>\n",
       "      <td>ff8080815f52399a015f6c25f3763c9d</td>\n",
       "      <td>Apple iPhone X 64GB</td>\n",
       "    </tr>\n",
       "    <tr>\n",
       "      <th>32</th>\n",
       "      <td>31395.0</td>\n",
       "      <td>34500</td>\n",
       "      <td>177200358</td>\n",
       "      <td>400</td>\n",
       "      <td>4</td>\n",
       "      <td>0</td>\n",
       "      <td>400</td>\n",
       "      <td>ff8080815e7942ed015e995955f043a4</td>\n",
       "      <td>Apple iPhone 8 Plus 256GB</td>\n",
       "    </tr>\n",
       "    <tr>\n",
       "      <th>46</th>\n",
       "      <td>NaN</td>\n",
       "      <td>31000</td>\n",
       "      <td>181002091</td>\n",
       "      <td>19000</td>\n",
       "      <td>5</td>\n",
       "      <td>19000</td>\n",
       "      <td>19000</td>\n",
       "      <td>ff80808161ffa93f016205420d9422dc</td>\n",
       "      <td>Apple iPhone X 256GB福利品</td>\n",
       "    </tr>\n",
       "    <tr>\n",
       "      <th>6</th>\n",
       "      <td>NaN</td>\n",
       "      <td>30900</td>\n",
       "      <td>171800576</td>\n",
       "      <td>3990</td>\n",
       "      <td>11</td>\n",
       "      <td>2990</td>\n",
       "      <td>3990</td>\n",
       "      <td>ff808081651089270165310648533d94</td>\n",
       "      <td>Samsung Galaxy Note 9 128GB</td>\n",
       "    </tr>\n",
       "  </tbody>\n",
       "</table>\n",
       "</div>"
      ],
      "text/plain": [
       "    discPrice  erpPrice      fetNo  gaPrice  inventory  lyPrice  npPrice  \\\n",
       "59        NaN     41500  177200315     7400         16     2400     7400   \n",
       "60        NaN     35900  177200312     1800         24        0     1800   \n",
       "32    31395.0     34500  177200358      400          4        0      400   \n",
       "46        NaN     31000  181002091    19000          5    19000    19000   \n",
       "6         NaN     30900  171800576     3990         11     2990     3990   \n",
       "\n",
       "                              prodId                        title  \n",
       "59  ff8080815f52399a015f6c543bf43e53         Apple iPhone X 256GB  \n",
       "60  ff8080815f52399a015f6c25f3763c9d          Apple iPhone X 64GB  \n",
       "32  ff8080815e7942ed015e995955f043a4    Apple iPhone 8 Plus 256GB  \n",
       "46  ff80808161ffa93f016205420d9422dc      Apple iPhone X 256GB福利品  \n",
       "6   ff808081651089270165310648533d94  Samsung Galaxy Note 9 128GB  "
      ]
     },
     "execution_count": 151,
     "metadata": {},
     "output_type": "execute_result"
    }
   ],
   "source": [
    "#productdf.sort_values('inventory', ascending=False)\n",
    "productdf.sort_values('erpPrice', ascending=False).head()"
   ]
  },
  {
   "cell_type": "code",
   "execution_count": 153,
   "metadata": {},
   "outputs": [],
   "source": [
    "productdf['discount'] = productdf['erpPrice'] - productdf['discPrice']"
   ]
  },
  {
   "cell_type": "code",
   "execution_count": 158,
   "metadata": {},
   "outputs": [
    {
     "data": {
      "text/html": [
       "<div>\n",
       "<style>\n",
       "    .dataframe thead tr:only-child th {\n",
       "        text-align: right;\n",
       "    }\n",
       "\n",
       "    .dataframe thead th {\n",
       "        text-align: left;\n",
       "    }\n",
       "\n",
       "    .dataframe tbody tr th {\n",
       "        vertical-align: top;\n",
       "    }\n",
       "</style>\n",
       "<table border=\"1\" class=\"dataframe\">\n",
       "  <thead>\n",
       "    <tr style=\"text-align: right;\">\n",
       "      <th></th>\n",
       "      <th>discPrice</th>\n",
       "      <th>erpPrice</th>\n",
       "      <th>fetNo</th>\n",
       "      <th>gaPrice</th>\n",
       "      <th>inventory</th>\n",
       "      <th>lyPrice</th>\n",
       "      <th>npPrice</th>\n",
       "      <th>prodId</th>\n",
       "      <th>title</th>\n",
       "      <th>discount</th>\n",
       "    </tr>\n",
       "  </thead>\n",
       "  <tbody>\n",
       "    <tr>\n",
       "      <th>63</th>\n",
       "      <td>20420.0</td>\n",
       "      <td>25900</td>\n",
       "      <td>171800436</td>\n",
       "      <td>0</td>\n",
       "      <td>3</td>\n",
       "      <td>0</td>\n",
       "      <td>0</td>\n",
       "      <td>ff8080815b8fa546015b8fee29f70178</td>\n",
       "      <td>Samsung Galaxy S8+</td>\n",
       "      <td>5480.0</td>\n",
       "    </tr>\n",
       "    <tr>\n",
       "      <th>51</th>\n",
       "      <td>26610.0</td>\n",
       "      <td>29900</td>\n",
       "      <td>171800512</td>\n",
       "      <td>4990</td>\n",
       "      <td>9</td>\n",
       "      <td>990</td>\n",
       "      <td>990</td>\n",
       "      <td>ff808081616749de0161d1294be372bd</td>\n",
       "      <td>Samsung Galaxy S9+ 128GB</td>\n",
       "      <td>3290.0</td>\n",
       "    </tr>\n",
       "    <tr>\n",
       "      <th>32</th>\n",
       "      <td>31395.0</td>\n",
       "      <td>34500</td>\n",
       "      <td>177200358</td>\n",
       "      <td>400</td>\n",
       "      <td>4</td>\n",
       "      <td>0</td>\n",
       "      <td>400</td>\n",
       "      <td>ff8080815e7942ed015e995955f043a4</td>\n",
       "      <td>Apple iPhone 8 Plus 256GB</td>\n",
       "      <td>3105.0</td>\n",
       "    </tr>\n",
       "    <tr>\n",
       "      <th>64</th>\n",
       "      <td>25290.0</td>\n",
       "      <td>28100</td>\n",
       "      <td>177200173</td>\n",
       "      <td>0</td>\n",
       "      <td>26</td>\n",
       "      <td>0</td>\n",
       "      <td>0</td>\n",
       "      <td>ff80808156fb906601572871eb091087</td>\n",
       "      <td>Apple iPhone 7 Plus 128GB</td>\n",
       "      <td>2810.0</td>\n",
       "    </tr>\n",
       "    <tr>\n",
       "      <th>33</th>\n",
       "      <td>28119.0</td>\n",
       "      <td>30900</td>\n",
       "      <td>177200303</td>\n",
       "      <td>0</td>\n",
       "      <td>19</td>\n",
       "      <td>0</td>\n",
       "      <td>0</td>\n",
       "      <td>ff8080815e7942ed015e994bc53a42d3</td>\n",
       "      <td>Apple iPhone 8 256GB</td>\n",
       "      <td>2781.0</td>\n",
       "    </tr>\n",
       "  </tbody>\n",
       "</table>\n",
       "</div>"
      ],
      "text/plain": [
       "    discPrice  erpPrice      fetNo  gaPrice  inventory  lyPrice  npPrice  \\\n",
       "63    20420.0     25900  171800436        0          3        0        0   \n",
       "51    26610.0     29900  171800512     4990          9      990      990   \n",
       "32    31395.0     34500  177200358      400          4        0      400   \n",
       "64    25290.0     28100  177200173        0         26        0        0   \n",
       "33    28119.0     30900  177200303        0         19        0        0   \n",
       "\n",
       "                              prodId                      title  discount  \n",
       "63  ff8080815b8fa546015b8fee29f70178         Samsung Galaxy S8+    5480.0  \n",
       "51  ff808081616749de0161d1294be372bd   Samsung Galaxy S9+ 128GB    3290.0  \n",
       "32  ff8080815e7942ed015e995955f043a4  Apple iPhone 8 Plus 256GB    3105.0  \n",
       "64  ff80808156fb906601572871eb091087  Apple iPhone 7 Plus 128GB    2810.0  \n",
       "33  ff8080815e7942ed015e994bc53a42d3       Apple iPhone 8 256GB    2781.0  "
      ]
     },
     "execution_count": 158,
     "metadata": {},
     "output_type": "execute_result"
    }
   ],
   "source": [
    "productdf.sort_values('discount', ascending=False).head()"
   ]
  },
  {
   "cell_type": "code",
   "execution_count": 157,
   "metadata": {},
   "outputs": [
    {
     "data": {
      "text/plain": [
       "15401.716417910447"
      ]
     },
     "execution_count": 157,
     "metadata": {},
     "output_type": "execute_result"
    }
   ],
   "source": [
    "productdf['erpPrice'].mean()"
   ]
  },
  {
   "cell_type": "code",
   "execution_count": 162,
   "metadata": {},
   "outputs": [],
   "source": [
    "productdf['brand'] = productdf['title'].map(lambda e : e.split()[0].strip()) "
   ]
  },
  {
   "cell_type": "code",
   "execution_count": 164,
   "metadata": {},
   "outputs": [
    {
     "data": {
      "text/plain": [
       "Apple         16\n",
       "Samsung       12\n",
       "Asus           6\n",
       "Nokia          6\n",
       "Huawei         5\n",
       "OPPO           5\n",
       "SONY           4\n",
       "MI             3\n",
       "HTC            3\n",
       "小米             2\n",
       "FarEastone     2\n",
       "Sugar          1\n",
       "Koobee         1\n",
       "iTree          1\n",
       "Name: brand, dtype: int64"
      ]
     },
     "execution_count": 164,
     "metadata": {},
     "output_type": "execute_result"
    }
   ],
   "source": [
    "productdf['brand'].value_counts()"
   ]
  },
  {
   "cell_type": "code",
   "execution_count": 167,
   "metadata": {},
   "outputs": [
    {
     "data": {
      "text/plain": [
       "brand\n",
       "Apple         26743.750000\n",
       "Samsung       17502.500000\n",
       "Huawei        15936.000000\n",
       "SONY          15490.000000\n",
       "OPPO          14390.000000\n",
       "小米            12499.000000\n",
       "HTC           12460.000000\n",
       "Asus           8156.666667\n",
       "Nokia          6356.666667\n",
       "Koobee         4990.000000\n",
       "MI             4832.333333\n",
       "Sugar          4490.000000\n",
       "FarEastone     2340.000000\n",
       "iTree          2280.000000\n",
       "Name: erpPrice, dtype: float64"
      ]
     },
     "execution_count": 167,
     "metadata": {},
     "output_type": "execute_result"
    }
   ],
   "source": [
    "# select brand, avg(erpPrice) from productdf group by brand\n",
    "productdf.groupby('brand')['erpPrice'].mean().sort_values(ascending=False)"
   ]
  },
  {
   "cell_type": "code",
   "execution_count": 169,
   "metadata": {},
   "outputs": [],
   "source": [
    "productdf.to_excel('fetnetphone.xlsx')"
   ]
  },
  {
   "cell_type": "markdown",
   "metadata": {},
   "source": [
    "## 資料庫"
   ]
  },
  {
   "cell_type": "code",
   "execution_count": 170,
   "metadata": {},
   "outputs": [
    {
     "name": "stdout",
     "output_type": "stream",
     "text": [
      "('3.19.3',)\n"
     ]
    }
   ],
   "source": [
    "import sqlite3 as lite\n",
    "con = lite.connect('ec.sqlite')\n",
    "cur = con.cursor()\n",
    "cur.execute('SELECT SQLITE_VERSION()')\n",
    "data = cur.fetchone()\n",
    "print(data)\n",
    "con.close()"
   ]
  },
  {
   "cell_type": "code",
   "execution_count": 171,
   "metadata": {},
   "outputs": [
    {
     "name": "stdout",
     "output_type": "stream",
     "text": [
      "('3.19.3',)\n"
     ]
    }
   ],
   "source": [
    "import sqlite3 as lite\n",
    "with lite.connect('ec.sqlite') as con:\n",
    "    cur = con.cursor()\n",
    "    cur.execute('SELECT SQLITE_VERSION()')\n",
    "    data = cur.fetchone()\n",
    "    print(data)"
   ]
  },
  {
   "cell_type": "code",
   "execution_count": 188,
   "metadata": {},
   "outputs": [
    {
     "data": {
      "text/html": [
       "<div>\n",
       "<style>\n",
       "    .dataframe thead tr:only-child th {\n",
       "        text-align: right;\n",
       "    }\n",
       "\n",
       "    .dataframe thead th {\n",
       "        text-align: left;\n",
       "    }\n",
       "\n",
       "    .dataframe tbody tr th {\n",
       "        vertical-align: top;\n",
       "    }\n",
       "</style>\n",
       "<table border=\"1\" class=\"dataframe\">\n",
       "  <thead>\n",
       "    <tr style=\"text-align: right;\">\n",
       "      <th></th>\n",
       "      <th>age</th>\n",
       "      <th>gender</th>\n",
       "      <th>name</th>\n",
       "    </tr>\n",
       "  </thead>\n",
       "  <tbody>\n",
       "    <tr>\n",
       "      <th>0</th>\n",
       "      <td>NaN</td>\n",
       "      <td>F</td>\n",
       "      <td>Mary</td>\n",
       "    </tr>\n",
       "    <tr>\n",
       "      <th>1</th>\n",
       "      <td>33.0</td>\n",
       "      <td>M</td>\n",
       "      <td>John</td>\n",
       "    </tr>\n",
       "  </tbody>\n",
       "</table>\n",
       "</div>"
      ],
      "text/plain": [
       "    age gender  name\n",
       "0   NaN      F  Mary\n",
       "1  33.0      M  John"
      ]
     },
     "execution_count": 188,
     "metadata": {},
     "output_type": "execute_result"
    }
   ],
   "source": [
    "import sqlite3 as lite\n",
    "import pandas\n",
    "employee = [{'name':'Mary' , 'gender': 'F'},{'name':'John', 'age':33 , 'gender': 'M'}]\n",
    "df = pandas.DataFrame(employee)\n",
    "df"
   ]
  },
  {
   "cell_type": "code",
   "execution_count": 173,
   "metadata": {},
   "outputs": [],
   "source": [
    "with lite.connect('test.sqlite') as con:\n",
    "    df.to_sql('employee', con = con)"
   ]
  },
  {
   "cell_type": "code",
   "execution_count": 174,
   "metadata": {},
   "outputs": [],
   "source": [
    "with lite.connect('test.sqlite') as con:\n",
    "    df2 = pandas.read_sql_query('select * from employee', con = con)"
   ]
  },
  {
   "cell_type": "code",
   "execution_count": 175,
   "metadata": {},
   "outputs": [
    {
     "data": {
      "text/html": [
       "<div>\n",
       "<style>\n",
       "    .dataframe thead tr:only-child th {\n",
       "        text-align: right;\n",
       "    }\n",
       "\n",
       "    .dataframe thead th {\n",
       "        text-align: left;\n",
       "    }\n",
       "\n",
       "    .dataframe tbody tr th {\n",
       "        vertical-align: top;\n",
       "    }\n",
       "</style>\n",
       "<table border=\"1\" class=\"dataframe\">\n",
       "  <thead>\n",
       "    <tr style=\"text-align: right;\">\n",
       "      <th></th>\n",
       "      <th>index</th>\n",
       "      <th>age</th>\n",
       "      <th>gender</th>\n",
       "      <th>name</th>\n",
       "    </tr>\n",
       "  </thead>\n",
       "  <tbody>\n",
       "    <tr>\n",
       "      <th>0</th>\n",
       "      <td>0</td>\n",
       "      <td>23</td>\n",
       "      <td>F</td>\n",
       "      <td>Mary</td>\n",
       "    </tr>\n",
       "    <tr>\n",
       "      <th>1</th>\n",
       "      <td>1</td>\n",
       "      <td>33</td>\n",
       "      <td>M</td>\n",
       "      <td>John</td>\n",
       "    </tr>\n",
       "  </tbody>\n",
       "</table>\n",
       "</div>"
      ],
      "text/plain": [
       "   index  age gender  name\n",
       "0      0   23      F  Mary\n",
       "1      1   33      M  John"
      ]
     },
     "execution_count": 175,
     "metadata": {},
     "output_type": "execute_result"
    }
   ],
   "source": [
    "df2"
   ]
  },
  {
   "cell_type": "code",
   "execution_count": 176,
   "metadata": {},
   "outputs": [],
   "source": [
    "with lite.connect('ec.sqlite') as con:\n",
    "    productdf.to_sql('phones', con = con)"
   ]
  },
  {
   "cell_type": "code",
   "execution_count": 183,
   "metadata": {},
   "outputs": [],
   "source": [
    "with lite.connect('ec.sqlite') as con:\n",
    "    #df2 = pandas.read_sql_query('select title, erpPrice from phones order by erpPrice desc limit 3', con = con)\n",
    "    df2 = pandas.read_sql_query('select brand, avg(erpPrice) as mean_price from phones group by brand order by avg(erpPrice) desc limit 10', con = con)"
   ]
  },
  {
   "cell_type": "code",
   "execution_count": 187,
   "metadata": {},
   "outputs": [
    {
     "name": "stdout",
     "output_type": "stream",
     "text": [
      "Populating the interactive namespace from numpy and matplotlib\n"
     ]
    },
    {
     "data": {
      "text/plain": [
       "<matplotlib.axes._subplots.AxesSubplot at 0x10d6a7518>"
      ]
     },
     "execution_count": 187,
     "metadata": {},
     "output_type": "execute_result"
    },
    {
     "data": {
      "image/png": "[encoded data removed]",
      "text/plain": [
       "<Figure size 432x288 with 1 Axes>"
      ]
     },
     "metadata": {},
     "output_type": "display_data"
    }
   ],
   "source": [
    "%pylab inline\n",
    "df2 = df2.set_index('brand')\n",
    "df2['mean_price'].plot(kind = 'bar')"
   ]
  },
  {
   "cell_type": "markdown",
   "metadata": {},
   "source": [
    "## 抓取圖片"
   ]
  },
  {
   "cell_type": "code",
   "execution_count": 189,
   "metadata": {},
   "outputs": [],
   "source": [
    "imgurl = 'https://www.fetnet.net/estore/upload_img/product/170200228/large/1.jpg'\n",
    "res = requests.get(imgurl)\n",
    "with open('1.jpg', 'wb') as f:\n",
    "    f.write(res.content)\n"
   ]
  },
  {
   "cell_type": "code",
   "execution_count": 190,
   "metadata": {},
   "outputs": [
    {
     "data": {
      "image/png": "[encoded data removed]",
      "text/plain": [
       "<PIL.JpegImagePlugin.JpegImageFile image mode=RGB size=396x476 at 0x109390DD8>"
      ]
     },
     "execution_count": 190,
     "metadata": {},
     "output_type": "execute_result"
    }
   ],
   "source": [
    "from PIL import Image\n",
    "Image.open('1.jpg')"
   ]
  },
  {
   "cell_type": "markdown",
   "metadata": {},
   "source": [
    "## 爬蟲應用"
   ]
  },
  {
   "cell_type": "markdown",
   "metadata": {},
   "source": [
    "### 加上user-agent 抓取卡提諾"
   ]
  },
  {
   "cell_type": "code",
   "execution_count": 194,
   "metadata": {},
   "outputs": [
    {
     "data": {
      "text/plain": [
       "<Response [200]>"
      ]
     },
     "execution_count": 194,
     "metadata": {},
     "output_type": "execute_result"
    }
   ],
   "source": [
    "import requests\n",
    "headers = {\n",
    "  'user-agent': 'Mozilla/5.0 (Macintosh; Intel Mac OS X 10_13_6) AppleWebKit/537.36 (KHTML, like Gecko) Chrome/68.0.3440.106 Safari/537.36'  \n",
    "}\n",
    "res  = requests.get('https://ck101.com/', headers = headers)\n",
    "res"
   ]
  },
  {
   "cell_type": "code",
   "execution_count": 192,
   "metadata": {},
   "outputs": [
    {
     "data": {
      "text/plain": [
       "'<html>\\r\\n<head><title>403 Forbidden</title></head>\\r\\n<body bgcolor=\"white\">\\r\\n<center><h1>403 Forbidden</h1></center>\\r\\n<hr><center>nginx</center>\\r\\n</body>\\r\\n</html>\\r\\n'"
      ]
     },
     "execution_count": 192,
     "metadata": {},
     "output_type": "execute_result"
    }
   ],
   "source": [
    "res.text"
   ]
  },
  {
   "cell_type": "code",
   "execution_count": 193,
   "metadata": {},
   "outputs": [
    {
     "data": {
      "text/plain": [
       "<Response [200]>"
      ]
     },
     "execution_count": 193,
     "metadata": {},
     "output_type": "execute_result"
    }
   ],
   "source": [
    "import requests\n",
    "res  = requests.get('https://www.largitdata.com/')\n",
    "res"
   ]
  },
  {
   "cell_type": "markdown",
   "metadata": {},
   "source": [
    "### 加上 cookie 抓取 ptt"
   ]
  },
  {
   "cell_type": "code",
   "execution_count": 198,
   "metadata": {},
   "outputs": [
    {
     "data": {
      "text/plain": [
       "<Response [200]>"
      ]
     },
     "execution_count": 198,
     "metadata": {},
     "output_type": "execute_result"
    }
   ],
   "source": [
    "import requests\n",
    "cookies = {\n",
    "  'over18': '1'  \n",
    "}\n",
    "res = requests.get('https://www.ptt.cc/bbs/Gossiping/M.1477049256.A.CEF.html', cookies=cookies)\n",
    "res"
   ]
  },
  {
   "cell_type": "markdown",
   "metadata": {},
   "source": [
    "### 抓取JSON"
   ]
  },
  {
   "cell_type": "code",
   "execution_count": 204,
   "metadata": {},
   "outputs": [],
   "source": [
    "import requests, time\n",
    "time.sleep(3)\n",
    "res  = requests.get('http://wwwc.twse.com.tw/exchangeReport/MI_INDEX?response=json&date=&type=&_=1536915454033')"
   ]
  },
  {
   "cell_type": "code",
   "execution_count": 206,
   "metadata": {},
   "outputs": [],
   "source": [
    "import pandas\n",
    "df = pandas.DataFrame(res.json()['data1'])\n",
    "#df"
   ]
  },
  {
   "cell_type": "markdown",
   "metadata": {},
   "source": [
    "## OCR"
   ]
  },
  {
   "cell_type": "code",
   "execution_count": 1,
   "metadata": {},
   "outputs": [],
   "source": [
    "import requests\n",
    "res = requests.get('https://statics.591.com.tw/tools/showPhone.php?info_data=%2FrEENbxKq%2BxhHOusi2PY9xxSOKE&type=rLEFMu4XrrpgEw')\n",
    "with open('2.jpg', 'wb') as f:\n",
    "    f.write(res.content)"
   ]
  },
  {
   "cell_type": "code",
   "execution_count": 2,
   "metadata": {},
   "outputs": [
    {
     "data": {
      "image/png": "[encoded data removed]",
      "text/plain": [
       "<PIL.PngImagePlugin.PngImageFile image mode=P size=180x30 at 0x108BBB4E0>"
      ]
     },
     "execution_count": 2,
     "metadata": {},
     "output_type": "execute_result"
    }
   ],
   "source": [
    "from PIL import Image\n",
    "Image.open('2.jpg')"
   ]
  },
  {
   "cell_type": "code",
   "execution_count": 3,
   "metadata": {},
   "outputs": [
    {
     "name": "stdout",
     "output_type": "stream",
     "text": [
      "Collecting pytesseract\n",
      "  Downloading https://files.pythonhosted.org/packages/13/56/befaafbabb36c03e4fdbb3fea854e0aea294039308a93daf6876bf7a8d6b/pytesseract-0.2.4.tar.gz (169kB)\n",
      "\u001b[K    100% |████████████████████████████████| 174kB 1.4MB/s ta 0:00:01\n",
      "\u001b[?25hRequirement already satisfied: Pillow in /Users/davidchiu/.pyenv/versions/3.6.2/lib/python3.6/site-packages (from pytesseract)\n",
      "Building wheels for collected packages: pytesseract\n",
      "  Running setup.py bdist_wheel for pytesseract ... \u001b[?25ldone\n",
      "\u001b[?25h  Stored in directory: /Users/davidchiu/Library/Caches/pip/wheels/a8/0c/00/32e4957a46128bea34fda60b8b01a8755986415cbab3ed8e38\n",
      "Successfully built pytesseract\n",
      "Installing collected packages: pytesseract\n",
      "Successfully installed pytesseract-0.2.4\n",
      "\u001b[33mYou are using pip version 9.0.1, however version 18.0 is available.\n",
      "You should consider upgrading via the 'pip install --upgrade pip' command.\u001b[0m\n"
     ]
    }
   ],
   "source": [
    "! pip install pytesseract"
   ]
  },
  {
   "cell_type": "code",
   "execution_count": 4,
   "metadata": {},
   "outputs": [],
   "source": [
    "import pytesseract"
   ]
  },
  {
   "cell_type": "code",
   "execution_count": 7,
   "metadata": {},
   "outputs": [
    {
     "name": "stdout",
     "output_type": "stream",
     "text": [
      "0912- 839- 326\n"
     ]
    }
   ],
   "source": [
    "print(pytesseract.image_to_string(Image.open('2.jpg')))"
   ]
  },
  {
   "cell_type": "code",
   "execution_count": null,
   "metadata": {},
   "outputs": [],
   "source": [
    "out4394296752316538838.wav"
   ]
  },
  {
   "cell_type": "code",
   "execution_count": 13,
   "metadata": {},
   "outputs": [
    {
     "data": {
      "text/plain": [
       "'q y CA'"
      ]
     },
     "execution_count": 13,
     "metadata": {},
     "output_type": "execute_result"
    }
   ],
   "source": [
    "import speech_recognition\n",
    "r = speech_recognition.Recognizer()\n",
    "\n",
    "harvard = speech_recognition.AudioFile('out611037618203166331.wav')\n",
    "with harvard as source:\n",
    "    audio = r.record(source)\n",
    "r.recognize_google(audio, language='en')"
   ]
  },
  {
   "cell_type": "code",
   "execution_count": null,
   "metadata": {},
   "outputs": [],
   "source": [
    "import requests\n",
    "rs = requests.session()\n",
    "rs.get"
   ]
  }
 ],
 "metadata": {
  "kernelspec": {
   "display_name": "Python 3",
   "language": "python",
   "name": "python3"
  },
  "language_info": {
   "codemirror_mode": {
    "name": "ipython",
    "version": 3
   },
   "file_extension": ".py",
   "mimetype": "text/x-python",
   "name": "python",
   "nbconvert_exporter": "python",
   "pygments_lexer": "ipython3",
   "version": "3.6.2"
  }
 },
 "nbformat": 4,
 "nbformat_minor": 2
}
