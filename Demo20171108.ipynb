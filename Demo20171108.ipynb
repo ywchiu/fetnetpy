{
 "cells": [
  {
   "cell_type": "markdown",
   "metadata": {},
   "source": [
    "## Python Basic"
   ]
  },
  {
   "cell_type": "code",
   "execution_count": 1,
   "metadata": {},
   "outputs": [
    {
     "data": {
      "text/plain": [
       "5"
      ]
     },
     "execution_count": 1,
     "metadata": {},
     "output_type": "execute_result"
    }
   ],
   "source": [
    "a = 3\n",
    "b = 2\n",
    "a + b"
   ]
  },
  {
   "cell_type": "markdown",
   "metadata": {},
   "source": [
    "## BTC Investment\n",
    "- https://www.coingecko.com/en/price_charts/bitcoin/usd#panel"
   ]
  },
  {
   "cell_type": "markdown",
   "metadata": {},
   "source": [
    "### 資料蒐集"
   ]
  },
  {
   "cell_type": "code",
   "execution_count": 2,
   "metadata": {},
   "outputs": [
    {
     "data": {
      "text/plain": [
       "<Response [200]>"
      ]
     },
     "execution_count": 2,
     "metadata": {},
     "output_type": "execute_result"
    }
   ],
   "source": [
    "import requests\n",
    "res = requests.get('https://www.coingecko.com/en/price_charts/bitcoin/usd/90_days.json')\n",
    "res"
   ]
  },
  {
   "cell_type": "markdown",
   "metadata": {},
   "source": [
    "### 資料整理"
   ]
  },
  {
   "cell_type": "code",
   "execution_count": 7,
   "metadata": {},
   "outputs": [
    {
     "data": {
      "text/html": [
       "<div>\n",
       "<style>\n",
       "    .dataframe thead tr:only-child th {\n",
       "        text-align: right;\n",
       "    }\n",
       "\n",
       "    .dataframe thead th {\n",
       "        text-align: left;\n",
       "    }\n",
       "\n",
       "    .dataframe tbody tr th {\n",
       "        vertical-align: top;\n",
       "    }\n",
       "</style>\n",
       "<table border=\"1\" class=\"dataframe\">\n",
       "  <thead>\n",
       "    <tr style=\"text-align: right;\">\n",
       "      <th></th>\n",
       "      <th>time</th>\n",
       "      <th>price</th>\n",
       "    </tr>\n",
       "    <tr>\n",
       "      <th>time</th>\n",
       "      <th></th>\n",
       "      <th></th>\n",
       "    </tr>\n",
       "  </thead>\n",
       "  <tbody>\n",
       "    <tr>\n",
       "      <th>1.502410e+12</th>\n",
       "      <td>1.502410e+12</td>\n",
       "      <td>3562.59</td>\n",
       "    </tr>\n",
       "    <tr>\n",
       "      <th>1.502496e+12</th>\n",
       "      <td>1.502496e+12</td>\n",
       "      <td>3800.14</td>\n",
       "    </tr>\n",
       "    <tr>\n",
       "      <th>1.502582e+12</th>\n",
       "      <td>1.502582e+12</td>\n",
       "      <td>4023.25</td>\n",
       "    </tr>\n",
       "    <tr>\n",
       "      <th>1.502669e+12</th>\n",
       "      <td>1.502669e+12</td>\n",
       "      <td>4175.70</td>\n",
       "    </tr>\n",
       "    <tr>\n",
       "      <th>1.502755e+12</th>\n",
       "      <td>1.502755e+12</td>\n",
       "      <td>4149.31</td>\n",
       "    </tr>\n",
       "  </tbody>\n",
       "</table>\n",
       "</div>"
      ],
      "text/plain": [
       "                      time    price\n",
       "time                               \n",
       "1.502410e+12  1.502410e+12  3562.59\n",
       "1.502496e+12  1.502496e+12  3800.14\n",
       "1.502582e+12  1.502582e+12  4023.25\n",
       "1.502669e+12  1.502669e+12  4175.70\n",
       "1.502755e+12  1.502755e+12  4149.31"
      ]
     },
     "execution_count": 7,
     "metadata": {},
     "output_type": "execute_result"
    }
   ],
   "source": [
    "import pandas\n",
    "df = pandas.DataFrame(res.json()['stats'])\n",
    "df.columns = ['time', 'price']\n",
    "df.index = df['time']\n",
    "df.head()\n"
   ]
  },
  {
   "cell_type": "markdown",
   "metadata": {},
   "source": [
    "### 資料視覺化"
   ]
  },
  {
   "cell_type": "code",
   "execution_count": 8,
   "metadata": {},
   "outputs": [
    {
     "name": "stdout",
     "output_type": "stream",
     "text": [
      "Populating the interactive namespace from numpy and matplotlib\n"
     ]
    },
    {
     "data": {
      "text/plain": [
       "<matplotlib.axes._subplots.AxesSubplot at 0x9f63a58>"
      ]
     },
     "execution_count": 8,
     "metadata": {},
     "output_type": "execute_result"
    },
    {
     "data": {
      "image/png": "[encoded data removed]",
      "text/plain": [
       "<matplotlib.figure.Figure at 0x9f27ef0>"
      ]
     },
     "metadata": {},
     "output_type": "display_data"
    }
   ],
   "source": [
    "%pylab inline\n",
    "df['price'].plot(kind = 'line')"
   ]
  },
  {
   "cell_type": "markdown",
   "metadata": {},
   "source": [
    "### 計算均價"
   ]
  },
  {
   "cell_type": "code",
   "execution_count": 13,
   "metadata": {
    "collapsed": true
   },
   "outputs": [],
   "source": [
    "df['mvg'] = df['price'].rolling(window = 30).mean()"
   ]
  },
  {
   "cell_type": "code",
   "execution_count": 11,
   "metadata": {},
   "outputs": [
    {
     "data": {
      "text/html": [
       "<div>\n",
       "<style>\n",
       "    .dataframe thead tr:only-child th {\n",
       "        text-align: right;\n",
       "    }\n",
       "\n",
       "    .dataframe thead th {\n",
       "        text-align: left;\n",
       "    }\n",
       "\n",
       "    .dataframe tbody tr th {\n",
       "        vertical-align: top;\n",
       "    }\n",
       "</style>\n",
       "<table border=\"1\" class=\"dataframe\">\n",
       "  <thead>\n",
       "    <tr style=\"text-align: right;\">\n",
       "      <th></th>\n",
       "      <th>time</th>\n",
       "      <th>price</th>\n",
       "      <th>mvg</th>\n",
       "    </tr>\n",
       "    <tr>\n",
       "      <th>time</th>\n",
       "      <th></th>\n",
       "      <th></th>\n",
       "      <th></th>\n",
       "    </tr>\n",
       "  </thead>\n",
       "  <tbody>\n",
       "    <tr>\n",
       "      <th>1.502410e+12</th>\n",
       "      <td>1.502410e+12</td>\n",
       "      <td>3562.59</td>\n",
       "      <td>NaN</td>\n",
       "    </tr>\n",
       "    <tr>\n",
       "      <th>1.502496e+12</th>\n",
       "      <td>1.502496e+12</td>\n",
       "      <td>3800.14</td>\n",
       "      <td>NaN</td>\n",
       "    </tr>\n",
       "    <tr>\n",
       "      <th>1.502582e+12</th>\n",
       "      <td>1.502582e+12</td>\n",
       "      <td>4023.25</td>\n",
       "      <td>NaN</td>\n",
       "    </tr>\n",
       "    <tr>\n",
       "      <th>1.502669e+12</th>\n",
       "      <td>1.502669e+12</td>\n",
       "      <td>4175.70</td>\n",
       "      <td>NaN</td>\n",
       "    </tr>\n",
       "    <tr>\n",
       "      <th>1.502755e+12</th>\n",
       "      <td>1.502755e+12</td>\n",
       "      <td>4149.31</td>\n",
       "      <td>NaN</td>\n",
       "    </tr>\n",
       "    <tr>\n",
       "      <th>1.502842e+12</th>\n",
       "      <td>1.502842e+12</td>\n",
       "      <td>4262.56</td>\n",
       "      <td>NaN</td>\n",
       "    </tr>\n",
       "    <tr>\n",
       "      <th>1.502928e+12</th>\n",
       "      <td>1.502928e+12</td>\n",
       "      <td>4286.92</td>\n",
       "      <td>4037.210000</td>\n",
       "    </tr>\n",
       "    <tr>\n",
       "      <th>1.503014e+12</th>\n",
       "      <td>1.503014e+12</td>\n",
       "      <td>4097.69</td>\n",
       "      <td>4113.652857</td>\n",
       "    </tr>\n",
       "    <tr>\n",
       "      <th>1.503101e+12</th>\n",
       "      <td>1.503101e+12</td>\n",
       "      <td>4115.21</td>\n",
       "      <td>4158.662857</td>\n",
       "    </tr>\n",
       "    <tr>\n",
       "      <th>1.503187e+12</th>\n",
       "      <td>1.503187e+12</td>\n",
       "      <td>4001.23</td>\n",
       "      <td>4155.517143</td>\n",
       "    </tr>\n",
       "  </tbody>\n",
       "</table>\n",
       "</div>"
      ],
      "text/plain": [
       "                      time    price          mvg\n",
       "time                                            \n",
       "1.502410e+12  1.502410e+12  3562.59          NaN\n",
       "1.502496e+12  1.502496e+12  3800.14          NaN\n",
       "1.502582e+12  1.502582e+12  4023.25          NaN\n",
       "1.502669e+12  1.502669e+12  4175.70          NaN\n",
       "1.502755e+12  1.502755e+12  4149.31          NaN\n",
       "1.502842e+12  1.502842e+12  4262.56          NaN\n",
       "1.502928e+12  1.502928e+12  4286.92  4037.210000\n",
       "1.503014e+12  1.503014e+12  4097.69  4113.652857\n",
       "1.503101e+12  1.503101e+12  4115.21  4158.662857\n",
       "1.503187e+12  1.503187e+12  4001.23  4155.517143"
      ]
     },
     "execution_count": 11,
     "metadata": {},
     "output_type": "execute_result"
    }
   ],
   "source": [
    "df.head(10)"
   ]
  },
  {
   "cell_type": "markdown",
   "metadata": {},
   "source": [
    "### 得到決策結果"
   ]
  },
  {
   "cell_type": "code",
   "execution_count": 14,
   "metadata": {},
   "outputs": [
    {
     "data": {
      "text/plain": [
       "<matplotlib.axes._subplots.AxesSubplot at 0xa22b4a8>"
      ]
     },
     "execution_count": 14,
     "metadata": {},
     "output_type": "execute_result"
    },
    {
     "data": {
      "image/png": "[encoded data removed]",
      "text/plain": [
       "<matplotlib.figure.Figure at 0xa1fd080>"
      ]
     },
     "metadata": {},
     "output_type": "display_data"
    }
   ],
   "source": [
    "df[['mvg', 'price']].plot(kind = 'line')"
   ]
  },
  {
   "cell_type": "code",
   "execution_count": null,
   "metadata": {
    "collapsed": true
   },
   "outputs": [],
   "source": []
  }
 ],
 "metadata": {
  "kernelspec": {
   "display_name": "Python 3",
   "language": "python",
   "name": "python3"
  },
  "language_info": {
   "codemirror_mode": {
    "name": "ipython",
    "version": 3
   },
   "file_extension": ".py",
   "mimetype": "text/x-python",
   "name": "python",
   "nbconvert_exporter": "python",
   "pygments_lexer": "ipython3",
   "version": "3.6.1"
  }
 },
 "nbformat": 4,
 "nbformat_minor": 2
}
