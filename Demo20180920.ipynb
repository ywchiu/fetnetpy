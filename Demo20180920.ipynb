{
 "cells": [
  {
   "cell_type": "code",
   "execution_count": 1,
   "metadata": {},
   "outputs": [
    {
     "data": {
      "text/plain": [
       "['this', 'is', 'a', 'book']"
      ]
     },
     "execution_count": 1,
     "metadata": {},
     "output_type": "execute_result"
    }
   ],
   "source": [
    "a = 'this is a book'\n",
    "a.split()"
   ]
  },
  {
   "cell_type": "code",
   "execution_count": 3,
   "metadata": {},
   "outputs": [],
   "source": [
    "a = '那酸民婉君也可以報名嗎?'"
   ]
  },
  {
   "cell_type": "code",
   "execution_count": 4,
   "metadata": {},
   "outputs": [
    {
     "name": "stdout",
     "output_type": "stream",
     "text": [
      "Requirement already satisfied: jieba in /Users/davidchiu/.pyenv/versions/3.6.2/lib/python3.6/site-packages\n",
      "\u001b[33mYou are using pip version 9.0.1, however version 18.0 is available.\n",
      "You should consider upgrading via the 'pip install --upgrade pip' command.\u001b[0m\n"
     ]
    }
   ],
   "source": [
    "! pip install jieba"
   ]
  },
  {
   "cell_type": "code",
   "execution_count": 6,
   "metadata": {},
   "outputs": [
    {
     "name": "stderr",
     "output_type": "stream",
     "text": [
      "Building prefix dict from the default dictionary ...\n",
      "Dumping model to file cache /var/folders/46/b7dzk4mn6g54qzptv608w7d00000gn/T/jieba.cache\n",
      "Loading model cost 0.966 seconds.\n",
      "Prefix dict has been built succesfully.\n"
     ]
    },
    {
     "data": {
      "text/plain": [
       "['那酸民婉君', '也', '可以', '報名', '嗎', '?']"
      ]
     },
     "execution_count": 6,
     "metadata": {},
     "output_type": "execute_result"
    }
   ],
   "source": [
    "import jieba\n",
    "list(jieba.cut(a))"
   ]
  },
  {
   "cell_type": "code",
   "execution_count": 8,
   "metadata": {},
   "outputs": [
    {
     "data": {
      "text/plain": [
       "['\\n貿易戰升溫對中國經濟的衝擊可能大於美國',\n",
       " '原因是出口對中國經濟的影響遠大於美國',\n",
       " '經濟學家預測',\n",
       " '如果美國祭出的關稅明年元旦升至25%',\n",
       " '2019年中國經濟成長率將下滑0.5%至0.6個百分點',\n",
       " '\\n']"
      ]
     },
     "execution_count": 8,
     "metadata": {},
     "output_type": "execute_result"
    }
   ],
   "source": [
    "article = '''\n",
    "貿易戰升溫對中國經濟的衝擊可能大於美國，原因是出口對中國經濟的影響遠大於美國。經濟學家預測，如果美國祭出的關稅明年元旦升至25%，2019年中國經濟成長率將下滑0.5%至0.6個百分點。\n",
    "'''\n",
    "\n",
    "import re\n",
    "re.split('，|。', article)"
   ]
  },
  {
   "cell_type": "code",
   "execution_count": 10,
   "metadata": {},
   "outputs": [
    {
     "data": {
      "text/plain": [
       "'大/巨蛋/案/對/市府/同仁/下/封口/封口令/口令////柯/P/否/認'"
      ]
     },
     "execution_count": 10,
     "metadata": {},
     "output_type": "execute_result"
    }
   ],
   "source": [
    "seg_list = jieba.cut(\"大巨蛋案對市府同仁下封口令？　柯P否認\", cut_all=True)\n",
    "#for w in seg_list:\n",
    "#    print(w)\n",
    "'/'.join(seg_list)"
   ]
  },
  {
   "cell_type": "code",
   "execution_count": 12,
   "metadata": {},
   "outputs": [
    {
     "data": {
      "text/plain": [
       "'大/巨蛋/案對/市府/同仁/下/封口令/？/\\u3000/柯/P/否認'"
      ]
     },
     "execution_count": 12,
     "metadata": {},
     "output_type": "execute_result"
    }
   ],
   "source": [
    "seg_list = jieba.cut(\"大巨蛋案對市府同仁下封口令？　柯P否認\")\n",
    "'/'.join(seg_list)"
   ]
  },
  {
   "cell_type": "code",
   "execution_count": 16,
   "metadata": {},
   "outputs": [
    {
     "data": {
      "text/plain": [
       "'大巨蛋/案對/市府/同仁/下/封口令/？/\\u3000/柯P/否認'"
      ]
     },
     "execution_count": 16,
     "metadata": {},
     "output_type": "execute_result"
    }
   ],
   "source": [
    "import jieba\n",
    "jieba.load_userdict('userdict.txt')\n",
    "seg_list = jieba.cut(\"大巨蛋案對市府同仁下封口令？　柯P否認\")\n",
    "'/'.join(seg_list)"
   ]
  },
  {
   "cell_type": "markdown",
   "metadata": {},
   "source": [
    "## Jieba Zh_TW\n",
    "- https://github.com/ldkrsi/jieba-zh_TW"
   ]
  },
  {
   "cell_type": "code",
   "execution_count": 17,
   "metadata": {},
   "outputs": [
    {
     "name": "stdout",
     "output_type": "stream",
     "text": [
      "大巨蛋 n\n",
      "案 ng\n",
      "對 p\n",
      "市府 n\n",
      "同仁 nr\n",
      "下 f\n",
      "封口令 n\n",
      "？ x\n",
      "　 x\n",
      "柯P n\n",
      "否認 v\n"
     ]
    }
   ],
   "source": [
    "import jieba.posseg as pseg\n",
    "words = pseg.cut(\"大巨蛋案對市府同仁下封口令？　柯P否認\")\n",
    "for w in words:\n",
    "    print(w.word, w.flag)"
   ]
  },
  {
   "cell_type": "markdown",
   "metadata": {},
   "source": [
    "## Download Jieba\n",
    "- https://pypi.org/project/jieba/#files\n",
    "- https://files.pythonhosted.org/packages/71/46/c6f9179f73b818d5827202ad1c4a94e371a29473b7f043b736b4dab6b8cd/jieba-0.39.zip\n",
    "- pip install ~/Downloads/jieba-0.39.zip"
   ]
  },
  {
   "cell_type": "code",
   "execution_count": 1,
   "metadata": {},
   "outputs": [
    {
     "name": "stdout",
     "output_type": "stream",
     "text": [
      "Processing /Users/davidchiu/Downloads/jieba-0.39.zip\n",
      "  Requirement already satisfied (use --upgrade to upgrade): jieba==0.39 from file:///Users/davidchiu/Downloads/jieba-0.39.zip in /Users/davidchiu/.pyenv/versions/3.6.2/lib/python3.6/site-packages\n",
      "Building wheels for collected packages: jieba\n",
      "  Running setup.py bdist_wheel for jieba ... \u001b[?25ldone\n",
      "\u001b[?25h  Stored in directory: /Users/davidchiu/Library/Caches/pip/wheels/95/48/ad/38e439c6d8ac8ff0a1a03a9ba7e9cb07d28cc408f4ff3eb20e\n",
      "Successfully built jieba\n",
      "\u001b[33mYou are using pip version 9.0.1, however version 18.0 is available.\n",
      "You should consider upgrading via the 'pip install --upgrade pip' command.\u001b[0m\n"
     ]
    }
   ],
   "source": [
    "! pip install /Users/davidchiu/Downloads/jieba-0.39.zip"
   ]
  },
  {
   "cell_type": "markdown",
   "metadata": {},
   "source": [
    "## 取得同義詞"
   ]
  },
  {
   "cell_type": "code",
   "execution_count": 6,
   "metadata": {},
   "outputs": [
    {
     "data": {
      "text/plain": [
       "[<b>賴清德</b>, <b>William Lai Ching-te</b>]"
      ]
     },
     "execution_count": 6,
     "metadata": {},
     "output_type": "execute_result"
    }
   ],
   "source": [
    "import requests\n",
    "from bs4 import BeautifulSoup\n",
    "res = requests.get('https://zh.wikipedia.org/wiki/{}'.format('賴清德'))\n",
    "soup = BeautifulSoup(res.text, 'lxml')\n",
    "soup.select_one('#bodyContent p').select('b')"
   ]
  },
  {
   "cell_type": "code",
   "execution_count": 12,
   "metadata": {},
   "outputs": [],
   "source": [
    "import requests\n",
    "res = requests.get('http://ec.ltn.com.tw/article/breakingnews/2556711')\n",
    "\n",
    "from bs4 import BeautifulSoup\n",
    "soup = BeautifulSoup(res.text, 'lxml')\n",
    "with open('userdict.txt', 'a') as f:\n",
    "    for w in soup.select('.keyword .boxText'):\n",
    "        f.write(w.text.strip()+'\\n')"
   ]
  },
  {
   "cell_type": "markdown",
   "metadata": {},
   "source": [
    "## 量化分析"
   ]
  },
  {
   "cell_type": "markdown",
   "metadata": {},
   "source": [
    "### 詞頻"
   ]
  },
  {
   "cell_type": "code",
   "execution_count": 24,
   "metadata": {},
   "outputs": [],
   "source": [
    "article = '''\n",
    "周遊與老公李朝永將在10月8日補辦婚禮，前天一同出席關懷演藝人員中秋節餐會，同場的「勇伯」陳松勇卻大酸這對愛侶，周遊夫婦氣得想提告。\n",
    "\n",
    "《聯合報》報導，陳松勇直批周遊「她厚臉皮的故事，可以寫成一本書，不是『厚黑學』，叫『厚臉皮』！」還語出驚人表示，「她現在要結婚的這個人是考古學家，每天抱著殭屍在考古。」\n",
    "\n",
    "《壹電親》報導，周遊夫婦氣得大罵陳松勇，周遊說，「怎麼會這麼沒有水平」，「白冰冰也很生氣，替我生氣」、「我的律師說可以告他」。周遊老公李朝永不滿，說我是「考古學家」、「我覺得他這是人身攻擊」、「怎麼可以這樣子講話」、「我覺得一個人要留有口德」。（即時新聞中心／綜合報導）\n",
    "'''"
   ]
  },
  {
   "cell_type": "code",
   "execution_count": 29,
   "metadata": {},
   "outputs": [],
   "source": [
    "import jieba\n",
    "jieba.load_userdict('userdict.txt')\n",
    "words = list(jieba.cut(article))"
   ]
  },
  {
   "cell_type": "code",
   "execution_count": 31,
   "metadata": {},
   "outputs": [],
   "source": [
    "dic = {}\n",
    "for w in words:\n",
    "    if w not in dic:\n",
    "        dic[w] = 1\n",
    "    else:\n",
    "        dic[w] = dic[w] + 1"
   ]
  },
  {
   "cell_type": "code",
   "execution_count": 38,
   "metadata": {},
   "outputs": [
    {
     "name": "stdout",
     "output_type": "stream",
     "text": [
      "周遊 6\n",
      "陳松勇 3\n",
      "報導 3\n",
      "可以 3\n",
      "考古 3\n",
      "老公 2\n",
      "李朝永 2\n",
      "夫婦 2\n",
      "氣得 2\n"
     ]
    }
   ],
   "source": [
    "import operator\n",
    "dic.items()\n",
    "swd=sorted(dic.items(), key = operator.itemgetter(1), reverse=True)\n",
    "for k, v in swd[0:20]:\n",
    "    if len(k) >=2:\n",
    "        print(k,v)"
   ]
  },
  {
   "cell_type": "code",
   "execution_count": 42,
   "metadata": {},
   "outputs": [
    {
     "name": "stdout",
     "output_type": "stream",
     "text": [
      "周遊 6\n",
      "陳松勇 3\n",
      "報導 3\n",
      "可以 3\n",
      "考古 3\n",
      "老公 2\n",
      "李朝永 2\n",
      "夫婦 2\n",
      "氣得 2\n",
      "厚臉皮 2\n",
      "學家 2\n",
      "怎麼 2\n",
      "生氣 2\n",
      "我覺 2\n",
      "將在 1\n",
      "10 1\n",
      "補辦 1\n",
      "婚禮 1\n",
      "前天 1\n",
      "一同 1\n",
      "出席 1\n",
      "關懷 1\n",
      "演藝 1\n",
      "人員 1\n",
      "中秋節 1\n",
      "餐會 1\n",
      "同場 1\n",
      "勇伯 1\n",
      "卻大酸 1\n",
      "這對 1\n",
      "愛侶 1\n",
      "提告 1\n",
      "聯合報 1\n",
      "直批 1\n",
      "故事 1\n",
      "寫成 1\n",
      "一本 1\n",
      "不是 1\n",
      "黑學 1\n",
      "還語 1\n",
      "出驚人 1\n",
      "表示 1\n",
      "她現 1\n",
      "結婚 1\n",
      "這個 1\n",
      "每天 1\n",
      "抱著 1\n",
      "殭屍 1\n",
      "壹電親 1\n",
      "這麼 1\n",
      "沒有 1\n",
      "水平 1\n",
      "白冰冰 1\n",
      "律師 1\n",
      "不滿 1\n",
      "這是 1\n",
      "人身 1\n",
      "攻擊 1\n",
      "這樣子 1\n",
      "講話 1\n",
      "一個 1\n",
      "人要 1\n",
      "留有 1\n"
     ]
    }
   ],
   "source": [
    "import jieba\n",
    "from collections import Counter\n",
    "jieba.load_userdict('userdict.txt')\n",
    "words = list(jieba.cut(article))\n",
    "c = Counter(words)\n",
    "for k,v in c.most_common(100):\n",
    "    if len(k) >=2:\n",
    "        print(k,v)"
   ]
  },
  {
   "cell_type": "code",
   "execution_count": 45,
   "metadata": {},
   "outputs": [],
   "source": [
    "article = '''中秋佳節烤肉幾乎已成「全民運動」，但醫界多項研究證實，食物在高溫長時間燒烤下會產生致癌物質有害健康，醫生表示，中秋過後門診常出現，大吃大喝導致血糖升高、膽固醇失控就診病人，尤其患有糖尿病、高膽固醇、腎臟病、痛風、甲狀腺亢進族群居多。\n",
    "\n",
    "烏日林新醫院營養科姜秋月主任建議，中秋佳節烤肉、食用月餅需淺嚐即可，更別忘了要搭配高纖蔬果，吃完大餐後可與家人一起運動散步，不僅能顧到健康更能增進家人間的感情。如果在過完中秋節後，以上族群若發現身體出現不適，建議可盡快至新陳代謝科門診，以免延誤病情。（王煌忠／台中報導）\n",
    "\n",
    "烤肉應注意五大族群\n",
    "●《糖尿病族群》\n",
    "中秋月餅與烤肉時搭配的吐司、白飯，充滿高糖精緻澱粉，如果沒有注意攝取份量，恐怕會造成血糖飆高！另外，糖尿病患者容易有眼睛和腎臟方面的問題，有時在戶外烤肉天色昏暗，容易吃到沒有烤熟的肉，尤其有糖尿病足的患者更要小心，烤肉時要注意不要被燙到，恐會造成傷口潰瘍惡化。\n",
    "\n",
    "●《高膽固醇族群》\n",
    "由於烤肉時會搭配烤蝦子、花枝或其他海鮮，或是油脂含量高的三層肉，甚至是食品加工物如：培根、貢丸等等，無形中都會讓膽固醇爆表！建議在食材上可均衡選擇新鮮低脂食材，如：雞胸肉、去皮的雞腿或豬里肌肉片等瘦肉。\n",
    "\n",
    "●《腎臟病患者》\n",
    "烤肉時為了讓鮮肉食材入味，會事先醃漬肉品及沾烤肉醬食用，容易產生過多鹽分，腎臟病患者在食用上要格外注意；烏日林新醫院營養科姜秋月主任表示，烤肉醬料可利用天然食材來自製DIY，選擇薑、蔥、蒜搭配奇異果等食材，就可以降低鹹度，增添自然風味。另外，蔬菜須燙過再食用，未洗腎病患須限制肉類攝取量。\n",
    "\n",
    "●《痛風族群》\n",
    "現在許多燒烤店都會提供精心熬製的雞湯或大骨湯，如果熬煮的時間越久、湯頭濃郁，代表普林的含量也很高，痛風患者最好避免！烤肉方面如果有帶殼海鮮、肉類也要注意攝取量。另外攝取糖分也會引起痛風，建議烤肉時避免喝含糖飲料、汽水或可樂，如果仍想喝飲料可以喝無糖茶飲或檸檬水。\n",
    "\n",
    "●《甲狀腺亢進的年輕男性族群》　\n",
    "烏日林新醫院新陳代謝科林瑋涵醫師表示，曾遇過甲狀腺亢進的年輕男性族群，因為平常沒有好好吃藥控制，碰到前一天晚上無節制地吃大餐，又喝太多高糖分的飲料，因受到電解質影響，早上起來竟發現自己像被鬼壓床，手腳癱軟使不上力，原來是甲狀腺毒性周期麻痺引起，好發於20～40歲的男性，必須坐救護車來醫院，為了吃得不償失。（資料來源：烏日林新醫院新陳代謝科醫師林瑋涵）\n",
    "\n",
    "更多「 養生寶典」內容，請點此：http://bit.ly/2vrMGNZ\n",
    "\n",
    "\n",
    " \n",
    "\n",
    "\n",
    "烏日林新醫院新陳代謝科醫師林瑋涵，針對五大族群患者，在中秋節烤肉應注意事項，希望民眾開心健康過中秋。翻攝畫面'''"
   ]
  },
  {
   "cell_type": "code",
   "execution_count": 48,
   "metadata": {},
   "outputs": [
    {
     "name": "stdout",
     "output_type": "stream",
     "text": [
      "烤肉 13\n",
      "族群 9\n",
      "醫院 6\n",
      "注意 6\n",
      "烏日 5\n",
      "林新 5\n",
      "如果 5\n",
      "中秋 4\n",
      "膽固醇 4\n",
      "痛風 4\n",
      "建議 4\n",
      "食用 4\n",
      "搭配 4\n",
      "患者 4\n",
      "健康 3\n",
      "表示 3\n",
      "糖尿病 3\n",
      "另外 3\n",
      "容易 3\n",
      "腎臟 3\n",
      "食材 3\n",
      "飲料 3\n",
      "男性 3\n",
      "佳節 2\n",
      "運動 2\n",
      "時間 2\n",
      "出現 2\n",
      "血糖 2\n",
      "尤其 2\n",
      "營養科 2\n",
      "秋月 2\n",
      "主任 2\n",
      "大餐 2\n",
      "家人 2\n",
      "中秋節 2\n",
      "發現 2\n",
      "新陳代謝 2\n",
      "五大 2\n",
      "沒有 2\n",
      "攝取 2\n",
      "造成 2\n",
      "方面 2\n",
      "海鮮 2\n",
      "含量 2\n",
      "選擇 2\n",
      "病患者 2\n",
      "可以 2\n",
      "肉類 2\n",
      "避免 2\n",
      "糖分 2\n",
      "引起 2\n",
      "新陳代 2\n",
      "謝科 2\n",
      "醫師 2\n"
     ]
    }
   ],
   "source": [
    "import jieba\n",
    "from collections import Counter\n",
    "jieba.load_userdict('userdict.txt')\n",
    "words = list(jieba.cut(article))\n",
    "c = Counter(words)\n",
    "for k,v in c.most_common(100):\n",
    "    if len(k) >=2:\n",
    "        print(k,v)"
   ]
  },
  {
   "cell_type": "markdown",
   "metadata": {},
   "source": [
    "### tfidf"
   ]
  },
  {
   "cell_type": "code",
   "execution_count": 59,
   "metadata": {},
   "outputs": [],
   "source": [
    "a,abb,abc = ['a'], ['a','b', 'b'], ['a', 'b', 'c'] \n",
    "D = [a,abb,abc]"
   ]
  },
  {
   "cell_type": "code",
   "execution_count": 60,
   "metadata": {},
   "outputs": [
    {
     "data": {
      "text/plain": [
       "0.0"
      ]
     },
     "execution_count": 60,
     "metadata": {},
     "output_type": "execute_result"
    }
   ],
   "source": [
    "import math\n",
    "#tfidf('a', a, D)\n",
    "tf  = 1/1\n",
    "idf = math.log(3/3)\n",
    "tf * idf "
   ]
  },
  {
   "cell_type": "code",
   "execution_count": 61,
   "metadata": {},
   "outputs": [
    {
     "data": {
      "text/plain": [
       "0.0"
      ]
     },
     "execution_count": 61,
     "metadata": {},
     "output_type": "execute_result"
    }
   ],
   "source": [
    "import math\n",
    "#tfidf('a', abb, D)\n",
    "tf  = 1/3\n",
    "idf = math.log(3/3)\n",
    "tf * idf "
   ]
  },
  {
   "cell_type": "code",
   "execution_count": 62,
   "metadata": {},
   "outputs": [
    {
     "data": {
      "text/plain": [
       "0.0"
      ]
     },
     "execution_count": 62,
     "metadata": {},
     "output_type": "execute_result"
    }
   ],
   "source": [
    "#tfidf('a', abc, D)\n",
    "tf  = 1/3\n",
    "idf = math.log(3/3)\n",
    "tf * idf "
   ]
  },
  {
   "cell_type": "code",
   "execution_count": 63,
   "metadata": {},
   "outputs": [
    {
     "data": {
      "text/plain": [
       "0.27031007207210955"
      ]
     },
     "execution_count": 63,
     "metadata": {},
     "output_type": "execute_result"
    }
   ],
   "source": [
    "#tfidf('b', abb, D)\n",
    "tf  = 2/3\n",
    "idf = math.log(3/2)\n",
    "tf * idf "
   ]
  },
  {
   "cell_type": "code",
   "execution_count": 64,
   "metadata": {},
   "outputs": [
    {
     "data": {
      "text/plain": [
       "0.13515503603605478"
      ]
     },
     "execution_count": 64,
     "metadata": {},
     "output_type": "execute_result"
    }
   ],
   "source": [
    "#tfidf('b', abc, D)\n",
    "tf  = 1/3\n",
    "idf = math.log(3/2)\n",
    "tf * idf "
   ]
  },
  {
   "cell_type": "code",
   "execution_count": 65,
   "metadata": {},
   "outputs": [
    {
     "data": {
      "text/plain": [
       "0.3662040962227032"
      ]
     },
     "execution_count": 65,
     "metadata": {},
     "output_type": "execute_result"
    }
   ],
   "source": [
    "#tfidf('c', abc, D)\n",
    "tf  = 1/3\n",
    "idf = math.log(3/1)\n",
    "tf * idf "
   ]
  },
  {
   "cell_type": "code",
   "execution_count": 74,
   "metadata": {},
   "outputs": [
    {
     "data": {
      "text/plain": [
       "1"
      ]
     },
     "execution_count": 74,
     "metadata": {},
     "output_type": "execute_result"
    }
   ],
   "source": [
    "D\n",
    "ary = []\n",
    "for doc in D:\n",
    "    if 'c' in doc:\n",
    "        ary.append(doc)\n",
    "len(ary)"
   ]
  },
  {
   "cell_type": "code",
   "execution_count": 76,
   "metadata": {},
   "outputs": [
    {
     "data": {
      "text/plain": [
       "[['a', 'b', 'c']]"
      ]
     },
     "execution_count": 76,
     "metadata": {},
     "output_type": "execute_result"
    }
   ],
   "source": [
    "[doc for doc in D if 'c' in doc]"
   ]
  },
  {
   "cell_type": "code",
   "execution_count": 69,
   "metadata": {},
   "outputs": [],
   "source": [
    "def tfidf(t, d, D):\n",
    "    tf  = d.count(t) / len(d)\n",
    "    idf = math.log(len(D)/ len([doc for doc in D if t in doc]))\n",
    "    return tf * idf"
   ]
  },
  {
   "cell_type": "code",
   "execution_count": 70,
   "metadata": {},
   "outputs": [
    {
     "data": {
      "text/plain": [
       "0.3662040962227032"
      ]
     },
     "execution_count": 70,
     "metadata": {},
     "output_type": "execute_result"
    }
   ],
   "source": [
    "tfidf('c', abc, D)"
   ]
  },
  {
   "cell_type": "markdown",
   "metadata": {},
   "source": [
    "## 詞頻矩陣"
   ]
  },
  {
   "cell_type": "code",
   "execution_count": 88,
   "metadata": {},
   "outputs": [],
   "source": [
    "import jieba\n",
    "jieba.load_userdict('userdict.txt')\n",
    "ary = ['【更新】柯P：洪智坤洩漏公文案還沒看到公文　今處理',\n",
    "       '留洪智坤 柯：殘障求職不易',\n",
    "       '人事處議處洪智坤　柯P：不清楚議處結果']\n",
    "\n",
    "corpus = []\n",
    "for title in ary:\n",
    "    corpus.append(' '.join(jieba.cut(title)))\n",
    "\n"
   ]
  },
  {
   "cell_type": "code",
   "execution_count": 89,
   "metadata": {},
   "outputs": [
    {
     "data": {
      "text/plain": [
       "['【 更新 】 柯P ： 洪智坤 洩漏 公文 案還 沒 看到 公文 \\u3000 今處理',\n",
       " '留 洪智坤   柯 ： 殘障 求職 不易',\n",
       " '人事 處議 處 洪智坤 \\u3000 柯P ： 不 清楚 議處 結果']"
      ]
     },
     "execution_count": 89,
     "metadata": {},
     "output_type": "execute_result"
    }
   ],
   "source": [
    "corpus"
   ]
  },
  {
   "cell_type": "code",
   "execution_count": 90,
   "metadata": {},
   "outputs": [],
   "source": [
    "from sklearn.feature_extraction.text import CountVectorizer\n",
    "vectorizer = CountVectorizer()\n",
    "X = vectorizer.fit_transform(corpus)"
   ]
  },
  {
   "cell_type": "code",
   "execution_count": 91,
   "metadata": {},
   "outputs": [
    {
     "name": "stdout",
     "output_type": "stream",
     "text": [
      "['不易', '人事', '今處理', '公文', '更新', '柯p', '案還', '殘障', '求職', '洩漏', '洪智坤', '清楚', '看到', '結果', '處議', '議處']\n"
     ]
    },
    {
     "data": {
      "text/plain": [
       "array([[0, 0, 1, 2, 1, 1, 1, 0, 0, 1, 1, 0, 1, 0, 0, 0],\n",
       "       [1, 0, 0, 0, 0, 0, 0, 1, 1, 0, 1, 0, 0, 0, 0, 0],\n",
       "       [0, 1, 0, 0, 0, 1, 0, 0, 0, 0, 1, 1, 0, 1, 1, 1]], dtype=int64)"
      ]
     },
     "execution_count": 91,
     "metadata": {},
     "output_type": "execute_result"
    }
   ],
   "source": [
    "print(vectorizer.get_feature_names())\n",
    "X.toarray()"
   ]
  },
  {
   "cell_type": "code",
   "execution_count": 92,
   "metadata": {},
   "outputs": [
    {
     "data": {
      "text/plain": [
       "array([[0.        , 3.60555128, 3.74165739],\n",
       "       [3.60555128, 0.        , 3.        ],\n",
       "       [3.74165739, 3.        , 0.        ]])"
      ]
     },
     "execution_count": 92,
     "metadata": {},
     "output_type": "execute_result"
    }
   ],
   "source": [
    "from sklearn.metrics.pairwise import euclidean_distances\n",
    "euclidean_distances(X)"
   ]
  },
  {
   "cell_type": "code",
   "execution_count": 106,
   "metadata": {},
   "outputs": [],
   "source": [
    "import jieba\n",
    "jieba.load_userdict('userdict.txt')\n",
    "synonym = {\n",
    "  '柯P': '柯文哲'  \n",
    "}\n",
    "\n",
    "ary = ['【更新】柯P：洪智坤洩漏公文案還沒看到公文　今處理',\n",
    "       '留洪智坤 柯文哲：殘障求職不易',\n",
    "       '人事處議處洪智坤　柯P：不清楚議處結果']\n",
    "\n",
    "corpus = []\n",
    "for title in ary:\n",
    "    corpus.append(' '.join([synonym.get(e, e) for e in jieba.cut(title)]))"
   ]
  },
  {
   "cell_type": "code",
   "execution_count": 107,
   "metadata": {},
   "outputs": [],
   "source": [
    "from sklearn.feature_extraction.text import CountVectorizer\n",
    "vectorizer = CountVectorizer()\n",
    "X = vectorizer.fit_transform(corpus)"
   ]
  },
  {
   "cell_type": "code",
   "execution_count": 108,
   "metadata": {},
   "outputs": [
    {
     "name": "stdout",
     "output_type": "stream",
     "text": [
      "['不易', '人事', '今處理', '公文', '更新', '柯文哲', '案還', '殘障', '求職', '洩漏', '洪智坤', '清楚', '看到', '結果', '處議', '議處']\n"
     ]
    },
    {
     "data": {
      "text/plain": [
       "array([[0, 0, 1, 2, 1, 1, 1, 0, 0, 1, 1, 0, 1, 0, 0, 0],\n",
       "       [1, 0, 0, 0, 0, 1, 0, 1, 1, 0, 1, 0, 0, 0, 0, 0],\n",
       "       [0, 1, 0, 0, 0, 1, 0, 0, 0, 0, 1, 1, 0, 1, 1, 1]], dtype=int64)"
      ]
     },
     "execution_count": 108,
     "metadata": {},
     "output_type": "execute_result"
    }
   ],
   "source": [
    "print(vectorizer.get_feature_names())\n",
    "X.toarray()"
   ]
  },
  {
   "cell_type": "code",
   "execution_count": 109,
   "metadata": {},
   "outputs": [],
   "source": [
    "from sklearn.feature_extraction.text import TfidfVectorizer\n",
    "vectorizer = TfidfVectorizer()\n",
    "X = vectorizer.fit_transform(corpus)"
   ]
  },
  {
   "cell_type": "code",
   "execution_count": 111,
   "metadata": {},
   "outputs": [
    {
     "name": "stdout",
     "output_type": "stream",
     "text": [
      "['不易', '人事', '今處理', '公文', '更新', '柯文哲', '案還', '殘障', '求職', '洩漏', '洪智坤', '清楚', '看到', '結果', '處議', '議處']\n"
     ]
    },
    {
     "data": {
      "text/plain": [
       "array([[0.        , 0.        , 0.32111947, 0.64223894, 0.32111947,\n",
       "        0.18965833, 0.32111947, 0.        , 0.        , 0.32111947,\n",
       "        0.18965833, 0.        , 0.32111947, 0.        , 0.        ,\n",
       "        0.        ],\n",
       "       [0.52004008, 0.        , 0.        , 0.        , 0.        ,\n",
       "        0.30714405, 0.        , 0.52004008, 0.52004008, 0.        ,\n",
       "        0.30714405, 0.        , 0.        , 0.        , 0.        ,\n",
       "        0.        ],\n",
       "       [0.        , 0.4189401 , 0.        , 0.        , 0.        ,\n",
       "        0.24743277, 0.        , 0.        , 0.        , 0.        ,\n",
       "        0.24743277, 0.4189401 , 0.        , 0.4189401 , 0.4189401 ,\n",
       "        0.4189401 ]])"
      ]
     },
     "execution_count": 111,
     "metadata": {},
     "output_type": "execute_result"
    }
   ],
   "source": [
    "print(vectorizer.get_feature_names())\n",
    "X.toarray()"
   ]
  },
  {
   "cell_type": "code",
   "execution_count": 118,
   "metadata": {},
   "outputs": [],
   "source": [
    "ary = [\n",
    "    '陳松勇酸她老公「考古學家」　周遊氣得想告',\n",
    "    '''周遊與老公李朝永將在10月8日補辦婚禮，前天一同出席關懷演藝人員中秋節餐會，同場的「勇伯」陳松勇卻大酸這對愛侶，周遊夫婦氣得想提告。\n",
    "\n",
    "《聯合報》報導，陳松勇直批周遊「她厚臉皮的故事，可以寫成一本書，不是『厚黑學』，叫『厚臉皮』！」還語出驚人表示，「她現在要結婚的這個人是考古學家，每天抱著殭屍在考古。」\n",
    "\n",
    "《壹電親》報導，周遊夫婦氣得大罵陳松勇，周遊說，「怎麼會這麼沒有水平」，「白冰冰也很生氣，替我生氣」、「我的律師說可以告他」。周遊老公李朝永不滿，說我是「考古學家」、「我覺得他這是人身攻擊」、「怎麼可以這樣子講話」、「我覺得一個人要留有口德」。'''\n",
    "]\n",
    "\n",
    "corpus = []\n",
    "for title in ary:\n",
    "    corpus.append(' '.join([synonym.get(e, e) for e in jieba.cut(title)]))"
   ]
  },
  {
   "cell_type": "code",
   "execution_count": 119,
   "metadata": {},
   "outputs": [],
   "source": [
    "from sklearn.feature_extraction.text import CountVectorizer\n",
    "vectorizer = CountVectorizer()\n",
    "X = vectorizer.fit_transform(corpus)"
   ]
  },
  {
   "cell_type": "code",
   "execution_count": 120,
   "metadata": {},
   "outputs": [
    {
     "name": "stdout",
     "output_type": "stream",
     "text": [
      "['10', '一個', '一同', '一本', '不是', '不滿', '中秋節', '人員', '人要', '人身', '出席', '出驚人', '前天', '勇伯', '卻大酸', '厚臉皮', '可以', '同場', '周遊', '報導', '壹電親', '夫婦', '她現', '婚禮', '學家', '寫成', '將在', '律師', '怎麼', '想告', '愛侶', '我覺', '抱著', '提告', '攻擊', '故事', '李朝永', '殭屍', '每天', '氣得', '水平', '沒有', '演藝', '生氣', '留有', '白冰冰', '直批', '結婚', '老公', '考古', '聯合報', '表示', '補辦', '講話', '這個', '這對', '這是', '這樣子', '這麼', '還語', '關懷', '陳松勇', '餐會', '黑學']\n"
     ]
    },
    {
     "data": {
      "text/plain": [
       "array([[0, 0, 0, 0, 0, 0, 0, 0, 0, 0, 0, 0, 0, 0, 0, 0, 0, 0, 1, 0, 0, 0,\n",
       "        0, 0, 1, 0, 0, 0, 0, 1, 0, 0, 0, 0, 0, 0, 0, 0, 0, 1, 0, 0, 0, 0,\n",
       "        0, 0, 0, 0, 1, 1, 0, 0, 0, 0, 0, 0, 0, 0, 0, 0, 0, 1, 0, 0],\n",
       "       [1, 1, 1, 1, 1, 1, 1, 1, 1, 1, 1, 1, 1, 1, 1, 2, 3, 1, 6, 2, 1, 2,\n",
       "        1, 1, 2, 1, 1, 1, 2, 0, 1, 2, 1, 1, 1, 1, 2, 1, 1, 2, 1, 1, 1, 2,\n",
       "        1, 1, 1, 1, 2, 3, 1, 1, 1, 1, 1, 1, 1, 1, 1, 1, 1, 3, 1, 1]],\n",
       "      dtype=int64)"
      ]
     },
     "execution_count": 120,
     "metadata": {},
     "output_type": "execute_result"
    }
   ],
   "source": [
    "print(vectorizer.get_feature_names())\n",
    "X.toarray()"
   ]
  },
  {
   "cell_type": "code",
   "execution_count": 121,
   "metadata": {},
   "outputs": [
    {
     "data": {
      "text/plain": [
       "array([[1.        , 0.55182541],\n",
       "       [0.55182541, 1.        ]])"
      ]
     },
     "execution_count": 121,
     "metadata": {},
     "output_type": "execute_result"
    }
   ],
   "source": [
    "from sklearn.metrics.pairwise import cosine_similarity\n",
    "cosine_similarity(X)"
   ]
  },
  {
   "cell_type": "code",
   "execution_count": 122,
   "metadata": {},
   "outputs": [
    {
     "data": {
      "text/plain": [
       "array([[0.        , 0.44817459],\n",
       "       [0.44817459, 0.        ]])"
      ]
     },
     "execution_count": 122,
     "metadata": {},
     "output_type": "execute_result"
    }
   ],
   "source": [
    "from sklearn.metrics.pairwise import cosine_distances\n",
    "cosine_distances(X)"
   ]
  },
  {
   "cell_type": "markdown",
   "metadata": {},
   "source": [
    "## 文章推薦引擎"
   ]
  },
  {
   "cell_type": "code",
   "execution_count": 123,
   "metadata": {},
   "outputs": [],
   "source": [
    "import pandas\n",
    "news = pandas.read_excel('data/appledaily20171214.xlsx')"
   ]
  },
  {
   "cell_type": "code",
   "execution_count": 124,
   "metadata": {},
   "outputs": [
    {
     "data": {
      "text/html": [
       "<div>\n",
       "<style>\n",
       "    .dataframe thead tr:only-child th {\n",
       "        text-align: right;\n",
       "    }\n",
       "\n",
       "    .dataframe thead th {\n",
       "        text-align: left;\n",
       "    }\n",
       "\n",
       "    .dataframe tbody tr th {\n",
       "        vertical-align: top;\n",
       "    }\n",
       "</style>\n",
       "<table border=\"1\" class=\"dataframe\">\n",
       "  <thead>\n",
       "    <tr style=\"text-align: right;\">\n",
       "      <th></th>\n",
       "      <th>category</th>\n",
       "      <th>content</th>\n",
       "      <th>link</th>\n",
       "      <th>title</th>\n",
       "    </tr>\n",
       "  </thead>\n",
       "  <tbody>\n",
       "    <tr>\n",
       "      <th>0</th>\n",
       "      <td>政治</td>\n",
       "      <td>新增：立委說法民進黨立法院黨團預計在明天的院會中，讓改制農田水利會的《農田水利會組織通則》修...</td>\n",
       "      <td>https://tw.news.appledaily.com/politics/realti...</td>\n",
       "      <td>【更新】水利會改官派明闖關　綠委24小時前顧議場大門防藍突襲</td>\n",
       "    </tr>\n",
       "    <tr>\n",
       "      <th>1</th>\n",
       "      <td>論壇</td>\n",
       "      <td>邱俊棠／台中市民、見習醫師；曾任台灣醫學生聯合會對外副會長對於公民參與公眾事務而能得到單位首...</td>\n",
       "      <td>https://tw.news.appledaily.com/forum/realtime/...</td>\n",
       "      <td>請中市府為所當為 加速中火燃煤限制</td>\n",
       "    </tr>\n",
       "    <tr>\n",
       "      <th>2</th>\n",
       "      <td>社會</td>\n",
       "      <td>被控來台涉發展情報組織的中國學生周泓旭，因接觸我方外交部官員而露餡落網，今年9月被台北地院一...</td>\n",
       "      <td>https://tw.news.appledaily.com/local/realtime/...</td>\n",
       "      <td>陸生共諜嗆台司法　「不敢公開審理我」</td>\n",
       "    </tr>\n",
       "    <tr>\n",
       "      <th>3</th>\n",
       "      <td>生活</td>\n",
       "      <td>【廣編特輯】 對於全能神教會在中國所遭受的迫害與在韓國、香港及臺灣所面對的反面宣傳，非政府組...</td>\n",
       "      <td>https://tw.news.appledaily.com/life/realtime/2...</td>\n",
       "      <td>【特企】NGO聯名譴責中共迫害宗教信仰</td>\n",
       "    </tr>\n",
       "    <tr>\n",
       "      <th>4</th>\n",
       "      <td>生活</td>\n",
       "      <td>立法院交通委員會今審查《道路交通管理處罰條例》，通過營業大客車駕駛人行駛一般道路未繫安全帶，...</td>\n",
       "      <td>https://tw.news.appledaily.com/life/realtime/2...</td>\n",
       "      <td>乘客搭大客車不配合繫安全帶　立院初審通過可罰6千元</td>\n",
       "    </tr>\n",
       "  </tbody>\n",
       "</table>\n",
       "</div>"
      ],
      "text/plain": [
       "  category                                            content  \\\n",
       "0       政治  新增：立委說法民進黨立法院黨團預計在明天的院會中，讓改制農田水利會的《農田水利會組織通則》修...   \n",
       "1       論壇  邱俊棠／台中市民、見習醫師；曾任台灣醫學生聯合會對外副會長對於公民參與公眾事務而能得到單位首...   \n",
       "2       社會  被控來台涉發展情報組織的中國學生周泓旭，因接觸我方外交部官員而露餡落網，今年9月被台北地院一...   \n",
       "3       生活  【廣編特輯】 對於全能神教會在中國所遭受的迫害與在韓國、香港及臺灣所面對的反面宣傳，非政府組...   \n",
       "4       生活  立法院交通委員會今審查《道路交通管理處罰條例》，通過營業大客車駕駛人行駛一般道路未繫安全帶，...   \n",
       "\n",
       "                                                link  \\\n",
       "0  https://tw.news.appledaily.com/politics/realti...   \n",
       "1  https://tw.news.appledaily.com/forum/realtime/...   \n",
       "2  https://tw.news.appledaily.com/local/realtime/...   \n",
       "3  https://tw.news.appledaily.com/life/realtime/2...   \n",
       "4  https://tw.news.appledaily.com/life/realtime/2...   \n",
       "\n",
       "                            title  \n",
       "0  【更新】水利會改官派明闖關　綠委24小時前顧議場大門防藍突襲  \n",
       "1               請中市府為所當為 加速中火燃煤限制  \n",
       "2              陸生共諜嗆台司法　「不敢公開審理我」  \n",
       "3             【特企】NGO聯名譴責中共迫害宗教信仰  \n",
       "4       乘客搭大客車不配合繫安全帶　立院初審通過可罰6千元  "
      ]
     },
     "execution_count": 124,
     "metadata": {},
     "output_type": "execute_result"
    }
   ],
   "source": [
    "news.head()"
   ]
  },
  {
   "cell_type": "code",
   "execution_count": 125,
   "metadata": {},
   "outputs": [],
   "source": [
    "corpus = []\n",
    "titles = []\n",
    "\n",
    "for rec in news.iterrows():\n",
    "    corpus.append(' '.join(jieba.cut(rec[1].content) ))\n",
    "    titles.append(rec[1].title)"
   ]
  },
  {
   "cell_type": "code",
   "execution_count": 127,
   "metadata": {},
   "outputs": [],
   "source": [
    "#corpus[0]"
   ]
  },
  {
   "cell_type": "code",
   "execution_count": 128,
   "metadata": {},
   "outputs": [],
   "source": [
    "from sklearn.feature_extraction.text import CountVectorizer\n",
    "vectorizer = CountVectorizer()\n",
    "X = vectorizer.fit_transform(corpus)"
   ]
  },
  {
   "cell_type": "code",
   "execution_count": 129,
   "metadata": {},
   "outputs": [
    {
     "data": {
      "text/plain": [
       "<899x38654 sparse matrix of type '<class 'numpy.int64'>'\n",
       "\twith 128156 stored elements in Compressed Sparse Row format>"
      ]
     },
     "execution_count": 129,
     "metadata": {},
     "output_type": "execute_result"
    }
   ],
   "source": [
    "X"
   ]
  },
  {
   "cell_type": "code",
   "execution_count": 130,
   "metadata": {},
   "outputs": [],
   "source": [
    "from sklearn.metrics.pairwise import cosine_distances\n",
    "cs = cosine_distances(X)"
   ]
  },
  {
   "cell_type": "code",
   "execution_count": 132,
   "metadata": {},
   "outputs": [
    {
     "data": {
      "text/plain": [
       "(899, 899)"
      ]
     },
     "execution_count": 132,
     "metadata": {},
     "output_type": "execute_result"
    }
   ],
   "source": [
    "cs.shape"
   ]
  },
  {
   "cell_type": "code",
   "execution_count": 136,
   "metadata": {},
   "outputs": [
    {
     "data": {
      "text/plain": [
       "[30, 56, 70, 80, 90]"
      ]
     },
     "execution_count": 136,
     "metadata": {},
     "output_type": "execute_result"
    }
   ],
   "source": [
    "a= [80,56,70,30,90]\n",
    "a.sort()\n",
    "a"
   ]
  },
  {
   "cell_type": "code",
   "execution_count": 137,
   "metadata": {},
   "outputs": [
    {
     "data": {
      "text/plain": [
       "array([3, 1, 2, 0, 4])"
      ]
     },
     "execution_count": 137,
     "metadata": {},
     "output_type": "execute_result"
    }
   ],
   "source": [
    "import numpy\n",
    "a= numpy.array([80,56,70,30,90])\n",
    "a.argsort()"
   ]
  },
  {
   "cell_type": "code",
   "execution_count": 140,
   "metadata": {},
   "outputs": [
    {
     "name": "stdout",
     "output_type": "stream",
     "text": [
      "【更新】水利會改官派明闖關　綠委24小時前顧議場大門防藍突襲\n",
      "【更新】水利會改官派明闖關　綠委24小時前顧議場大門防藍突襲 0.0\n",
      "反對水利會改制　吳敦義下令：藍委做好夜宿立院抗爭準備 0.6321547504275353\n",
      "農田水利會改公務機關　蔡英文：這不是綁樁 0.6724128474406619\n"
     ]
    }
   ],
   "source": [
    "print(titles[0])\n",
    "for idx in cs[0].argsort()[0:10]:\n",
    "    if cs[0][idx] < 0.7:\n",
    "        print(titles[idx], cs[0][idx])"
   ]
  },
  {
   "cell_type": "code",
   "execution_count": 175,
   "metadata": {},
   "outputs": [],
   "source": [
    "def getSimilarArticle(article_id):\n",
    "    print('查詢文章:',titles[article_id])\n",
    "    for idx in cs[article_id].argsort()[1:10]:\n",
    "        if cs[article_id][idx] < 0.75:\n",
    "            print('相關文章:',titles[idx], cs[article_id][idx])"
   ]
  },
  {
   "cell_type": "code",
   "execution_count": 176,
   "metadata": {},
   "outputs": [
    {
     "name": "stdout",
     "output_type": "stream",
     "text": [
      "查詢文章: 「想抱孫要看天！」　他批小嫻婆婆殘忍強逼\n",
      "相關文章: 何守正姐姐神護航！遭網友酸：全台最討人厭大姑 0.6378562180887475\n",
      "相關文章: 何守正兩個姊姊護航扯婆媳　「他」戳破媽寶特色 0.6521880507152198\n",
      "相關文章: 大姑出面護弟！轟小嫻不能生「媽媽是全台最沒有尊嚴的婆婆」 0.6885153247006959\n",
      "相關文章: 【動畫解盤】毒菇跳火線譙seafood　小嫻難瘦香菇 0.6907806777035135\n",
      "相關文章: 【毒菇護弟】何守正姊姊不是華岡七仙女　美法連線批小嫻 0.7139857980600609\n",
      "相關文章: 小嫻離婚導火線　拉何守正信妙禪 0.7413065239718836\n"
     ]
    }
   ],
   "source": [
    "getSimilarArticle(42)"
   ]
  },
  {
   "cell_type": "markdown",
   "metadata": {},
   "source": [
    "## 文章分群"
   ]
  },
  {
   "cell_type": "code",
   "execution_count": 182,
   "metadata": {},
   "outputs": [],
   "source": [
    "from sklearn import cluster\n",
    "km = cluster.KMeans(n_clusters=10, init='k-means++', random_state=42)\n",
    "c = km.fit_predict(cs)"
   ]
  },
  {
   "cell_type": "code",
   "execution_count": 185,
   "metadata": {},
   "outputs": [
    {
     "data": {
      "text/plain": [
       "array([1, 1, 1, 1])"
      ]
     },
     "execution_count": 185,
     "metadata": {},
     "output_type": "execute_result"
    }
   ],
   "source": [
    "a = [1,1,2,1,3,3,2,1]\n",
    "\n",
    "import numpy as np\n",
    "na = np.array(a)\n",
    "na == 1\n",
    "na[na==1]"
   ]
  },
  {
   "cell_type": "code",
   "execution_count": 198,
   "metadata": {},
   "outputs": [
    {
     "name": "stdout",
     "output_type": "stream",
     "text": [
      "【好聚不好散】離婚掏出6千萬　這女星比小嫻還慘\n",
      "【狗仔偷拍】小嫻搬離何守正家租66坪房　月租6萬元\n",
      "許聖梅心疼小嫻被當空氣　爆何守正「有兩個女學員」\n",
      "【動畫解盤】毒菇跳火線譙seafood　小嫻難瘦香菇\n",
      "十二月十四日各報頭條搶先報\n",
      "不捨善良小嫻慘遭婚變　乃哥「命運捉弄人」\n",
      "【獨家】小嫻賣房求子　婆婆竟拒入籍何家\n",
      "小嫻離婚導火線　拉何守正信妙禪\n",
      "【狗仔偷拍】何守正現身！「全台最沒尊嚴的婆婆」也出來了\n",
      "小嫻中分手魔咒！ 同公司4女星全都婚變\n",
      "小嫻別傻傻被欺負！女律師說「姐寶」就要這樣對付\n",
      "教友小嫻婚姻觸礁　曾之喬談情避不開Seafood\n",
      "小嫻守正結婚在台沒登記　想離婚只有兩條路\n",
      "胡瓜2個月前耳聞小嫻婚變　震驚之餘好心疼\n",
      "昔日搭檔談小嫻婚變　曾國城這樣說\n",
      "大姑出面護弟！轟小嫻不能生「媽媽是全台最沒有尊嚴的婆婆」\n",
      "小嫻信奉妙禪　關鍵原因與何守正有關！\n",
      "小嫻何守正想離婚　必須先做這件事！\n",
      "「小嫻不快樂！」　許聖梅：何守正虧欠她\n",
      "【內幕動畫】小嫻婚變何守正姊反擊　不滿媽煮飯侍奉星媳婦\n",
      "小嫻多信妙禪？　曾見證「師父帶我跳舞」\n",
      "【話當年】被拍和她上賓館　何守正掰了阿妹\n",
      "小嫻婚變無徵兆　男星嘆：兩人向來出雙入對\n",
      "【獨家內幕】太傷！小嫻被分手　何守正當小三面前攤牌\n",
      "【小嫻離婚】何守正稱沒有遺憾　人妻女星超火「一嘴屁話」\n",
      "【小嫻離婚】3大退讓人財兩失　求子花光430萬積蓄\n"
     ]
    }
   ],
   "source": [
    "na_title = np.array(titles)\n",
    "for ele in na_title[c == 2]:\n",
    "    print(ele)"
   ]
  },
  {
   "cell_type": "code",
   "execution_count": 202,
   "metadata": {},
   "outputs": [
    {
     "data": {
      "text/plain": [
       "(899, 899)"
      ]
     },
     "execution_count": 202,
     "metadata": {},
     "output_type": "execute_result"
    }
   ],
   "source": [
    "(cs < 0.75).astype(int).shape"
   ]
  },
  {
   "cell_type": "code",
   "execution_count": 203,
   "metadata": {},
   "outputs": [
    {
     "data": {
      "text/plain": [
       "3527"
      ]
     },
     "execution_count": 203,
     "metadata": {},
     "output_type": "execute_result"
    }
   ],
   "source": [
    "(cs < 0.75).astype(int).sum()"
   ]
  },
  {
   "cell_type": "code",
   "execution_count": 204,
   "metadata": {},
   "outputs": [],
   "source": [
    "m = (cs < 0.75).astype(int)"
   ]
  },
  {
   "cell_type": "code",
   "execution_count": 205,
   "metadata": {},
   "outputs": [
    {
     "data": {
      "text/plain": [
       "(899, 899)"
      ]
     },
     "execution_count": 205,
     "metadata": {},
     "output_type": "execute_result"
    }
   ],
   "source": [
    "m.shape"
   ]
  },
  {
   "cell_type": "code",
   "execution_count": 206,
   "metadata": {},
   "outputs": [],
   "source": [
    "import networkx as nx\n",
    "G = nx.from_numpy_matrix(m)"
   ]
  },
  {
   "cell_type": "code",
   "execution_count": 209,
   "metadata": {},
   "outputs": [
    {
     "name": "stdout",
     "output_type": "stream",
     "text": [
      "Populating the interactive namespace from numpy and matplotlib\n"
     ]
    }
   ],
   "source": [
    "%pylab inline\n",
    "#nx.draw(G)"
   ]
  },
  {
   "attachments": {},
   "cell_type": "markdown",
   "metadata": {},
   "source": [
    "## 安裝 Python Louvain\n",
    "- pip install python-louvain\n",
    "- https://files.pythonhosted.org/packages/c2/15/0d0e3ace40e9462ce14e0a848b3bd60c2f58296b3505b0aad75486b04cdf/python-louvain-0.11.tar.gz"
   ]
  },
  {
   "cell_type": "code",
   "execution_count": 210,
   "metadata": {},
   "outputs": [
    {
     "name": "stdout",
     "output_type": "stream",
     "text": [
      "Processing /Users/davidchiu/Downloads/python-louvain-0.11.tar.gz\n",
      "Requirement already satisfied: networkx in /Users/davidchiu/.pyenv/versions/3.6.2/lib/python3.6/site-packages (from python-louvain==0.11)\n",
      "Requirement already satisfied: decorator>=4.1.0 in /Users/davidchiu/.pyenv/versions/3.6.2/lib/python3.6/site-packages (from networkx->python-louvain==0.11)\n",
      "Building wheels for collected packages: python-louvain\n",
      "  Running setup.py bdist_wheel for python-louvain ... \u001b[?25ldone\n",
      "\u001b[?25h  Stored in directory: /Users/davidchiu/Library/Caches/pip/wheels/4f/ae/da/03a011e8d17687347738ec518290bd9bd3ba13fd7a4ab83574\n",
      "Successfully built python-louvain\n",
      "Installing collected packages: python-louvain\n",
      "Successfully installed python-louvain-0.11\n",
      "\u001b[33mYou are using pip version 9.0.1, however version 18.0 is available.\n",
      "You should consider upgrading via the 'pip install --upgrade pip' command.\u001b[0m\n"
     ]
    }
   ],
   "source": [
    "! pip install /Users/davidchiu/Downloads/python-louvain-0.11.tar.gz"
   ]
  },
  {
   "cell_type": "code",
   "execution_count": 211,
   "metadata": {},
   "outputs": [],
   "source": [
    "import community\n",
    "comm = community.best_partition(G)"
   ]
  },
  {
   "cell_type": "code",
   "execution_count": 215,
   "metadata": {},
   "outputs": [
    {
     "data": {
      "text/plain": [
       "[(15, 38),\n",
       " (10, 34),\n",
       " (3, 30),\n",
       " (12, 24),\n",
       " (132, 22),\n",
       " (5, 15),\n",
       " (53, 13),\n",
       " (8, 12),\n",
       " (87, 12),\n",
       " (13, 11)]"
      ]
     },
     "execution_count": 215,
     "metadata": {},
     "output_type": "execute_result"
    }
   ],
   "source": [
    "from collections import Counter\n",
    "c = Counter(comm.values())\n",
    "c.most_common(10)"
   ]
  },
  {
   "cell_type": "code",
   "execution_count": 216,
   "metadata": {},
   "outputs": [
    {
     "data": {
      "text/plain": [
       "495"
      ]
     },
     "execution_count": 216,
     "metadata": {},
     "output_type": "execute_result"
    }
   ],
   "source": [
    "max(comm.values())"
   ]
  },
  {
   "cell_type": "code",
   "execution_count": 217,
   "metadata": {},
   "outputs": [],
   "source": [
    "cluster_ary = np.array(list(comm.values()) )\n"
   ]
  },
  {
   "cell_type": "code",
   "execution_count": 225,
   "metadata": {},
   "outputs": [
    {
     "name": "stdout",
     "output_type": "stream",
     "text": [
      "Fed升息美元走軟　台幣今再升破30元大關\n",
      "【Fed告別秀】葉倫談比特幣　以7個字總結\n",
      "Fed宣布升息1碼　台股早盤大漲逾百點\n",
      "Fed升息符合預期　經濟學家：大家可過個平安聖誕節\n",
      "【Fed有鴿味】美元軟了黃金硬了　美股道指創新高\n",
      "這家供應商獲蘋果投資117億　股價暴漲31%\n",
      "川普不給力美元軟趴趴　歐元料再升逾10%\n",
      "【撈很大片】國際制裁沒有用　金正恩靠比特幣賺翻了\n",
      "權威市調媒體訪客數及觸及率  《蘋果日報》全台灣第一\n",
      "蘋果寫傳奇！上市37周年股價飆436倍\n",
      "蘋果與台灣經濟多密切　《金融時報》這張圖表讓你秒懂\n",
      "強總裁、弱台灣　央行年繳1800億造成4大後遺症\n",
      "靜候FOMC結論　台幣平盤整理午盤小貶0.5分\n",
      "這個國家全民瘋比特幣　政府要開緊急會議控管了\n",
      "北韓高仿假鈔流入南韓　專家驚：近乎完美\n"
     ]
    }
   ],
   "source": [
    "for news in na_title[cluster_ary == 5]:\n",
    "    print(news)"
   ]
  },
  {
   "cell_type": "code",
   "execution_count": null,
   "metadata": {},
   "outputs": [],
   "source": []
  }
 ],
 "metadata": {
  "kernelspec": {
   "display_name": "Python 3",
   "language": "python",
   "name": "python3"
  },
  "language_info": {
   "codemirror_mode": {
    "name": "ipython",
    "version": 3
   },
   "file_extension": ".py",
   "mimetype": "text/x-python",
   "name": "python",
   "nbconvert_exporter": "python",
   "pygments_lexer": "ipython3",
   "version": "3.6.2"
  }
 },
 "nbformat": 4,
 "nbformat_minor": 2
}
