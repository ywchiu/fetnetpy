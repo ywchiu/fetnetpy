{
 "cells": [
  {
   "cell_type": "code",
   "execution_count": 1,
   "metadata": {},
   "outputs": [
    {
     "data": {
      "text/plain": [
       "['this', 'is', 'a', 'book']"
      ]
     },
     "execution_count": 1,
     "metadata": {},
     "output_type": "execute_result"
    }
   ],
   "source": [
    "a = 'this is a book'\n",
    "a.split()"
   ]
  },
  {
   "cell_type": "code",
   "execution_count": 3,
   "metadata": {},
   "outputs": [],
   "source": [
    "a = '那酸民婉君也可以報名嗎?'"
   ]
  },
  {
   "cell_type": "code",
   "execution_count": 4,
   "metadata": {},
   "outputs": [
    {
     "name": "stdout",
     "output_type": "stream",
     "text": [
      "Requirement already satisfied: jieba in /Users/davidchiu/.pyenv/versions/3.6.2/lib/python3.6/site-packages\n",
      "\u001b[33mYou are using pip version 9.0.1, however version 18.0 is available.\n",
      "You should consider upgrading via the 'pip install --upgrade pip' command.\u001b[0m\n"
     ]
    }
   ],
   "source": [
    "! pip install jieba"
   ]
  },
  {
   "cell_type": "code",
   "execution_count": 6,
   "metadata": {},
   "outputs": [
    {
     "name": "stderr",
     "output_type": "stream",
     "text": [
      "Building prefix dict from the default dictionary ...\n",
      "Dumping model to file cache /var/folders/46/b7dzk4mn6g54qzptv608w7d00000gn/T/jieba.cache\n",
      "Loading model cost 0.966 seconds.\n",
      "Prefix dict has been built succesfully.\n"
     ]
    },
    {
     "data": {
      "text/plain": [
       "['那酸民婉君', '也', '可以', '報名', '嗎', '?']"
      ]
     },
     "execution_count": 6,
     "metadata": {},
     "output_type": "execute_result"
    }
   ],
   "source": [
    "import jieba\n",
    "list(jieba.cut(a))"
   ]
  },
  {
   "cell_type": "code",
   "execution_count": 8,
   "metadata": {},
   "outputs": [
    {
     "data": {
      "text/plain": [
       "['\\n貿易戰升溫對中國經濟的衝擊可能大於美國',\n",
       " '原因是出口對中國經濟的影響遠大於美國',\n",
       " '經濟學家預測',\n",
       " '如果美國祭出的關稅明年元旦升至25%',\n",
       " '2019年中國經濟成長率將下滑0.5%至0.6個百分點',\n",
       " '\\n']"
      ]
     },
     "execution_count": 8,
     "metadata": {},
     "output_type": "execute_result"
    }
   ],
   "source": [
    "article = '''\n",
    "貿易戰升溫對中國經濟的衝擊可能大於美國，原因是出口對中國經濟的影響遠大於美國。經濟學家預測，如果美國祭出的關稅明年元旦升至25%，2019年中國經濟成長率將下滑0.5%至0.6個百分點。\n",
    "'''\n",
    "\n",
    "import re\n",
    "re.split('，|。', article)"
   ]
  },
  {
   "cell_type": "code",
   "execution_count": 10,
   "metadata": {},
   "outputs": [
    {
     "data": {
      "text/plain": [
       "'大/巨蛋/案/對/市府/同仁/下/封口/封口令/口令////柯/P/否/認'"
      ]
     },
     "execution_count": 10,
     "metadata": {},
     "output_type": "execute_result"
    }
   ],
   "source": [
    "seg_list = jieba.cut(\"大巨蛋案對市府同仁下封口令？　柯P否認\", cut_all=True)\n",
    "#for w in seg_list:\n",
    "#    print(w)\n",
    "'/'.join(seg_list)"
   ]
  },
  {
   "cell_type": "code",
   "execution_count": 12,
   "metadata": {},
   "outputs": [
    {
     "data": {
      "text/plain": [
       "'大/巨蛋/案對/市府/同仁/下/封口令/？/\\u3000/柯/P/否認'"
      ]
     },
     "execution_count": 12,
     "metadata": {},
     "output_type": "execute_result"
    }
   ],
   "source": [
    "seg_list = jieba.cut(\"大巨蛋案對市府同仁下封口令？　柯P否認\")\n",
    "'/'.join(seg_list)"
   ]
  },
  {
   "cell_type": "code",
   "execution_count": 16,
   "metadata": {},
   "outputs": [
    {
     "data": {
      "text/plain": [
       "'大巨蛋/案對/市府/同仁/下/封口令/？/\\u3000/柯P/否認'"
      ]
     },
     "execution_count": 16,
     "metadata": {},
     "output_type": "execute_result"
    }
   ],
   "source": [
    "import jieba\n",
    "jieba.load_userdict('userdict.txt')\n",
    "seg_list = jieba.cut(\"大巨蛋案對市府同仁下封口令？　柯P否認\")\n",
    "'/'.join(seg_list)"
   ]
  },
  {
   "cell_type": "markdown",
   "metadata": {},
   "source": [
    "## Jieba Zh_TW\n",
    "- https://github.com/ldkrsi/jieba-zh_TW"
   ]
  },
  {
   "cell_type": "code",
   "execution_count": 17,
   "metadata": {},
   "outputs": [
    {
     "name": "stdout",
     "output_type": "stream",
     "text": [
      "大巨蛋 n\n",
      "案 ng\n",
      "對 p\n",
      "市府 n\n",
      "同仁 nr\n",
      "下 f\n",
      "封口令 n\n",
      "？ x\n",
      "　 x\n",
      "柯P n\n",
      "否認 v\n"
     ]
    }
   ],
   "source": [
    "import jieba.posseg as pseg\n",
    "words = pseg.cut(\"大巨蛋案對市府同仁下封口令？　柯P否認\")\n",
    "for w in words:\n",
    "    print(w.word, w.flag)"
   ]
  },
  {
   "cell_type": "markdown",
   "metadata": {},
   "source": [
    "## Download Jieba\n",
    "- https://pypi.org/project/jieba/#files\n",
    "- https://files.pythonhosted.org/packages/71/46/c6f9179f73b818d5827202ad1c4a94e371a29473b7f043b736b4dab6b8cd/jieba-0.39.zip\n",
    "- pip install ~/Downloads/jieba-0.39.zip"
   ]
  },
  {
   "cell_type": "code",
   "execution_count": 1,
   "metadata": {},
   "outputs": [
    {
     "name": "stdout",
     "output_type": "stream",
     "text": [
      "Processing /Users/davidchiu/Downloads/jieba-0.39.zip\n",
      "  Requirement already satisfied (use --upgrade to upgrade): jieba==0.39 from file:///Users/davidchiu/Downloads/jieba-0.39.zip in /Users/davidchiu/.pyenv/versions/3.6.2/lib/python3.6/site-packages\n",
      "Building wheels for collected packages: jieba\n",
      "  Running setup.py bdist_wheel for jieba ... \u001b[?25ldone\n",
      "\u001b[?25h  Stored in directory: /Users/davidchiu/Library/Caches/pip/wheels/95/48/ad/38e439c6d8ac8ff0a1a03a9ba7e9cb07d28cc408f4ff3eb20e\n",
      "Successfully built jieba\n",
      "\u001b[33mYou are using pip version 9.0.1, however version 18.0 is available.\n",
      "You should consider upgrading via the 'pip install --upgrade pip' command.\u001b[0m\n"
     ]
    }
   ],
   "source": [
    "! pip install /Users/davidchiu/Downloads/jieba-0.39.zip"
   ]
  },
  {
   "cell_type": "markdown",
   "metadata": {},
   "source": [
    "## 取得同義詞"
   ]
  },
  {
   "cell_type": "code",
   "execution_count": 6,
   "metadata": {},
   "outputs": [
    {
     "data": {
      "text/plain": [
       "[<b>賴清德</b>, <b>William Lai Ching-te</b>]"
      ]
     },
     "execution_count": 6,
     "metadata": {},
     "output_type": "execute_result"
    }
   ],
   "source": [
    "import requests\n",
    "from bs4 import BeautifulSoup\n",
    "res = requests.get('https://zh.wikipedia.org/wiki/{}'.format('賴清德'))\n",
    "soup = BeautifulSoup(res.text, 'lxml')\n",
    "soup.select_one('#bodyContent p').select('b')"
   ]
  },
  {
   "cell_type": "code",
   "execution_count": 12,
   "metadata": {},
   "outputs": [],
   "source": [
    "import requests\n",
    "res = requests.get('http://ec.ltn.com.tw/article/breakingnews/2556711')\n",
    "\n",
    "from bs4 import BeautifulSoup\n",
    "soup = BeautifulSoup(res.text, 'lxml')\n",
    "with open('userdict.txt', 'a') as f:\n",
    "    for w in soup.select('.keyword .boxText'):\n",
    "        f.write(w.text.strip()+'\\n')"
   ]
  },
  {
   "cell_type": "markdown",
   "metadata": {},
   "source": [
    "## 量化分析"
   ]
  },
  {
   "cell_type": "markdown",
   "metadata": {},
   "source": [
    "### 詞頻"
   ]
  },
  {
   "cell_type": "code",
   "execution_count": 24,
   "metadata": {},
   "outputs": [],
   "source": [
    "article = '''\n",
    "周遊與老公李朝永將在10月8日補辦婚禮，前天一同出席關懷演藝人員中秋節餐會，同場的「勇伯」陳松勇卻大酸這對愛侶，周遊夫婦氣得想提告。\n",
    "\n",
    "《聯合報》報導，陳松勇直批周遊「她厚臉皮的故事，可以寫成一本書，不是『厚黑學』，叫『厚臉皮』！」還語出驚人表示，「她現在要結婚的這個人是考古學家，每天抱著殭屍在考古。」\n",
    "\n",
    "《壹電親》報導，周遊夫婦氣得大罵陳松勇，周遊說，「怎麼會這麼沒有水平」，「白冰冰也很生氣，替我生氣」、「我的律師說可以告他」。周遊老公李朝永不滿，說我是「考古學家」、「我覺得他這是人身攻擊」、「怎麼可以這樣子講話」、「我覺得一個人要留有口德」。（即時新聞中心／綜合報導）\n",
    "'''"
   ]
  },
  {
   "cell_type": "code",
   "execution_count": 29,
   "metadata": {},
   "outputs": [],
   "source": [
    "import jieba\n",
    "jieba.load_userdict('userdict.txt')\n",
    "words = list(jieba.cut(article))"
   ]
  },
  {
   "cell_type": "code",
   "execution_count": 31,
   "metadata": {},
   "outputs": [],
   "source": [
    "dic = {}\n",
    "for w in words:\n",
    "    if w not in dic:\n",
    "        dic[w] = 1\n",
    "    else:\n",
    "        dic[w] = dic[w] + 1"
   ]
  },
  {
   "cell_type": "code",
   "execution_count": 38,
   "metadata": {},
   "outputs": [
    {
     "name": "stdout",
     "output_type": "stream",
     "text": [
      "周遊 6\n",
      "陳松勇 3\n",
      "報導 3\n",
      "可以 3\n",
      "考古 3\n",
      "老公 2\n",
      "李朝永 2\n",
      "夫婦 2\n",
      "氣得 2\n"
     ]
    }
   ],
   "source": [
    "import operator\n",
    "dic.items()\n",
    "swd=sorted(dic.items(), key = operator.itemgetter(1), reverse=True)\n",
    "for k, v in swd[0:20]:\n",
    "    if len(k) >=2:\n",
    "        print(k,v)"
   ]
  },
  {
   "cell_type": "code",
   "execution_count": 42,
   "metadata": {},
   "outputs": [
    {
     "name": "stdout",
     "output_type": "stream",
     "text": [
      "周遊 6\n",
      "陳松勇 3\n",
      "報導 3\n",
      "可以 3\n",
      "考古 3\n",
      "老公 2\n",
      "李朝永 2\n",
      "夫婦 2\n",
      "氣得 2\n",
      "厚臉皮 2\n",
      "學家 2\n",
      "怎麼 2\n",
      "生氣 2\n",
      "我覺 2\n",
      "將在 1\n",
      "10 1\n",
      "補辦 1\n",
      "婚禮 1\n",
      "前天 1\n",
      "一同 1\n",
      "出席 1\n",
      "關懷 1\n",
      "演藝 1\n",
      "人員 1\n",
      "中秋節 1\n",
      "餐會 1\n",
      "同場 1\n",
      "勇伯 1\n",
      "卻大酸 1\n",
      "這對 1\n",
      "愛侶 1\n",
      "提告 1\n",
      "聯合報 1\n",
      "直批 1\n",
      "故事 1\n",
      "寫成 1\n",
      "一本 1\n",
      "不是 1\n",
      "黑學 1\n",
      "還語 1\n",
      "出驚人 1\n",
      "表示 1\n",
      "她現 1\n",
      "結婚 1\n",
      "這個 1\n",
      "每天 1\n",
      "抱著 1\n",
      "殭屍 1\n",
      "壹電親 1\n",
      "這麼 1\n",
      "沒有 1\n",
      "水平 1\n",
      "白冰冰 1\n",
      "律師 1\n",
      "不滿 1\n",
      "這是 1\n",
      "人身 1\n",
      "攻擊 1\n",
      "這樣子 1\n",
      "講話 1\n",
      "一個 1\n",
      "人要 1\n",
      "留有 1\n"
     ]
    }
   ],
   "source": [
    "import jieba\n",
    "from collections import Counter\n",
    "jieba.load_userdict('userdict.txt')\n",
    "words = list(jieba.cut(article))\n",
    "c = Counter(words)\n",
    "for k,v in c.most_common(100):\n",
    "    if len(k) >=2:\n",
    "        print(k,v)"
   ]
  },
  {
   "cell_type": "code",
   "execution_count": 45,
   "metadata": {},
   "outputs": [],
   "source": [
    "article = '''中秋佳節烤肉幾乎已成「全民運動」，但醫界多項研究證實，食物在高溫長時間燒烤下會產生致癌物質有害健康，醫生表示，中秋過後門診常出現，大吃大喝導致血糖升高、膽固醇失控就診病人，尤其患有糖尿病、高膽固醇、腎臟病、痛風、甲狀腺亢進族群居多。\n",
    "\n",
    "烏日林新醫院營養科姜秋月主任建議，中秋佳節烤肉、食用月餅需淺嚐即可，更別忘了要搭配高纖蔬果，吃完大餐後可與家人一起運動散步，不僅能顧到健康更能增進家人間的感情。如果在過完中秋節後，以上族群若發現身體出現不適，建議可盡快至新陳代謝科門診，以免延誤病情。（王煌忠／台中報導）\n",
    "\n",
    "烤肉應注意五大族群\n",
    "●《糖尿病族群》\n",
    "中秋月餅與烤肉時搭配的吐司、白飯，充滿高糖精緻澱粉，如果沒有注意攝取份量，恐怕會造成血糖飆高！另外，糖尿病患者容易有眼睛和腎臟方面的問題，有時在戶外烤肉天色昏暗，容易吃到沒有烤熟的肉，尤其有糖尿病足的患者更要小心，烤肉時要注意不要被燙到，恐會造成傷口潰瘍惡化。\n",
    "\n",
    "●《高膽固醇族群》\n",
    "由於烤肉時會搭配烤蝦子、花枝或其他海鮮，或是油脂含量高的三層肉，甚至是食品加工物如：培根、貢丸等等，無形中都會讓膽固醇爆表！建議在食材上可均衡選擇新鮮低脂食材，如：雞胸肉、去皮的雞腿或豬里肌肉片等瘦肉。\n",
    "\n",
    "●《腎臟病患者》\n",
    "烤肉時為了讓鮮肉食材入味，會事先醃漬肉品及沾烤肉醬食用，容易產生過多鹽分，腎臟病患者在食用上要格外注意；烏日林新醫院營養科姜秋月主任表示，烤肉醬料可利用天然食材來自製DIY，選擇薑、蔥、蒜搭配奇異果等食材，就可以降低鹹度，增添自然風味。另外，蔬菜須燙過再食用，未洗腎病患須限制肉類攝取量。\n",
    "\n",
    "●《痛風族群》\n",
    "現在許多燒烤店都會提供精心熬製的雞湯或大骨湯，如果熬煮的時間越久、湯頭濃郁，代表普林的含量也很高，痛風患者最好避免！烤肉方面如果有帶殼海鮮、肉類也要注意攝取量。另外攝取糖分也會引起痛風，建議烤肉時避免喝含糖飲料、汽水或可樂，如果仍想喝飲料可以喝無糖茶飲或檸檬水。\n",
    "\n",
    "●《甲狀腺亢進的年輕男性族群》　\n",
    "烏日林新醫院新陳代謝科林瑋涵醫師表示，曾遇過甲狀腺亢進的年輕男性族群，因為平常沒有好好吃藥控制，碰到前一天晚上無節制地吃大餐，又喝太多高糖分的飲料，因受到電解質影響，早上起來竟發現自己像被鬼壓床，手腳癱軟使不上力，原來是甲狀腺毒性周期麻痺引起，好發於20～40歲的男性，必須坐救護車來醫院，為了吃得不償失。（資料來源：烏日林新醫院新陳代謝科醫師林瑋涵）\n",
    "\n",
    "更多「 養生寶典」內容，請點此：http://bit.ly/2vrMGNZ\n",
    "\n",
    "\n",
    " \n",
    "\n",
    "\n",
    "烏日林新醫院新陳代謝科醫師林瑋涵，針對五大族群患者，在中秋節烤肉應注意事項，希望民眾開心健康過中秋。翻攝畫面'''"
   ]
  },
  {
   "cell_type": "code",
   "execution_count": 48,
   "metadata": {},
   "outputs": [
    {
     "name": "stdout",
     "output_type": "stream",
     "text": [
      "烤肉 13\n",
      "族群 9\n",
      "醫院 6\n",
      "注意 6\n",
      "烏日 5\n",
      "林新 5\n",
      "如果 5\n",
      "中秋 4\n",
      "膽固醇 4\n",
      "痛風 4\n",
      "建議 4\n",
      "食用 4\n",
      "搭配 4\n",
      "患者 4\n",
      "健康 3\n",
      "表示 3\n",
      "糖尿病 3\n",
      "另外 3\n",
      "容易 3\n",
      "腎臟 3\n",
      "食材 3\n",
      "飲料 3\n",
      "男性 3\n",
      "佳節 2\n",
      "運動 2\n",
      "時間 2\n",
      "出現 2\n",
      "血糖 2\n",
      "尤其 2\n",
      "營養科 2\n",
      "秋月 2\n",
      "主任 2\n",
      "大餐 2\n",
      "家人 2\n",
      "中秋節 2\n",
      "發現 2\n",
      "新陳代謝 2\n",
      "五大 2\n",
      "沒有 2\n",
      "攝取 2\n",
      "造成 2\n",
      "方面 2\n",
      "海鮮 2\n",
      "含量 2\n",
      "選擇 2\n",
      "病患者 2\n",
      "可以 2\n",
      "肉類 2\n",
      "避免 2\n",
      "糖分 2\n",
      "引起 2\n",
      "新陳代 2\n",
      "謝科 2\n",
      "醫師 2\n"
     ]
    }
   ],
   "source": [
    "import jieba\n",
    "from collections import Counter\n",
    "jieba.load_userdict('userdict.txt')\n",
    "words = list(jieba.cut(article))\n",
    "c = Counter(words)\n",
    "for k,v in c.most_common(100):\n",
    "    if len(k) >=2:\n",
    "        print(k,v)"
   ]
  },
  {
   "cell_type": "markdown",
   "metadata": {},
   "source": [
    "### tfidf"
   ]
  },
  {
   "cell_type": "code",
   "execution_count": 59,
   "metadata": {},
   "outputs": [],
   "source": [
    "a,abb,abc = ['a'], ['a','b', 'b'], ['a', 'b', 'c'] \n",
    "D = [a,abb,abc]"
   ]
  },
  {
   "cell_type": "code",
   "execution_count": 60,
   "metadata": {},
   "outputs": [
    {
     "data": {
      "text/plain": [
       "0.0"
      ]
     },
     "execution_count": 60,
     "metadata": {},
     "output_type": "execute_result"
    }
   ],
   "source": [
    "import math\n",
    "#tfidf('a', a, D)\n",
    "tf  = 1/1\n",
    "idf = math.log(3/3)\n",
    "tf * idf "
   ]
  },
  {
   "cell_type": "code",
   "execution_count": 61,
   "metadata": {},
   "outputs": [
    {
     "data": {
      "text/plain": [
       "0.0"
      ]
     },
     "execution_count": 61,
     "metadata": {},
     "output_type": "execute_result"
    }
   ],
   "source": [
    "import math\n",
    "#tfidf('a', abb, D)\n",
    "tf  = 1/3\n",
    "idf = math.log(3/3)\n",
    "tf * idf "
   ]
  },
  {
   "cell_type": "code",
   "execution_count": 62,
   "metadata": {},
   "outputs": [
    {
     "data": {
      "text/plain": [
       "0.0"
      ]
     },
     "execution_count": 62,
     "metadata": {},
     "output_type": "execute_result"
    }
   ],
   "source": [
    "#tfidf('a', abc, D)\n",
    "tf  = 1/3\n",
    "idf = math.log(3/3)\n",
    "tf * idf "
   ]
  },
  {
   "cell_type": "code",
   "execution_count": 63,
   "metadata": {},
   "outputs": [
    {
     "data": {
      "text/plain": [
       "0.27031007207210955"
      ]
     },
     "execution_count": 63,
     "metadata": {},
     "output_type": "execute_result"
    }
   ],
   "source": [
    "#tfidf('b', abb, D)\n",
    "tf  = 2/3\n",
    "idf = math.log(3/2)\n",
    "tf * idf "
   ]
  },
  {
   "cell_type": "code",
   "execution_count": 64,
   "metadata": {},
   "outputs": [
    {
     "data": {
      "text/plain": [
       "0.13515503603605478"
      ]
     },
     "execution_count": 64,
     "metadata": {},
     "output_type": "execute_result"
    }
   ],
   "source": [
    "#tfidf('b', abc, D)\n",
    "tf  = 1/3\n",
    "idf = math.log(3/2)\n",
    "tf * idf "
   ]
  },
  {
   "cell_type": "code",
   "execution_count": 65,
   "metadata": {},
   "outputs": [
    {
     "data": {
      "text/plain": [
       "0.3662040962227032"
      ]
     },
     "execution_count": 65,
     "metadata": {},
     "output_type": "execute_result"
    }
   ],
   "source": [
    "#tfidf('c', abc, D)\n",
    "tf  = 1/3\n",
    "idf = math.log(3/1)\n",
    "tf * idf "
   ]
  },
  {
   "cell_type": "code",
   "execution_count": 74,
   "metadata": {},
   "outputs": [
    {
     "data": {
      "text/plain": [
       "1"
      ]
     },
     "execution_count": 74,
     "metadata": {},
     "output_type": "execute_result"
    }
   ],
   "source": [
    "D\n",
    "ary = []\n",
    "for doc in D:\n",
    "    if 'c' in doc:\n",
    "        ary.append(doc)\n",
    "len(ary)"
   ]
  },
  {
   "cell_type": "code",
   "execution_count": 76,
   "metadata": {},
   "outputs": [
    {
     "data": {
      "text/plain": [
       "[['a', 'b', 'c']]"
      ]
     },
     "execution_count": 76,
     "metadata": {},
     "output_type": "execute_result"
    }
   ],
   "source": [
    "[doc for doc in D if 'c' in doc]"
   ]
  },
  {
   "cell_type": "code",
   "execution_count": 69,
   "metadata": {},
   "outputs": [],
   "source": [
    "def tfidf(t, d, D):\n",
    "    tf  = d.count(t) / len(d)\n",
    "    idf = math.log(len(D)/ len([doc for doc in D if t in doc]))\n",
    "    return tf * idf"
   ]
  },
  {
   "cell_type": "code",
   "execution_count": 70,
   "metadata": {},
   "outputs": [
    {
     "data": {
      "text/plain": [
       "0.3662040962227032"
      ]
     },
     "execution_count": 70,
     "metadata": {},
     "output_type": "execute_result"
    }
   ],
   "source": [
    "tfidf('c', abc, D)"
   ]
  },
  {
   "cell_type": "markdown",
   "metadata": {},
   "source": [
    "## 詞頻矩陣"
   ]
  },
  {
   "cell_type": "code",
   "execution_count": 88,
   "metadata": {},
   "outputs": [],
   "source": [
    "import jieba\n",
    "jieba.load_userdict('userdict.txt')\n",
    "ary = ['【更新】柯P：洪智坤洩漏公文案還沒看到公文　今處理',\n",
    "       '留洪智坤 柯：殘障求職不易',\n",
    "       '人事處議處洪智坤　柯P：不清楚議處結果']\n",
    "\n",
    "corpus = []\n",
    "for title in ary:\n",
    "    corpus.append(' '.join(jieba.cut(title)))\n",
    "\n"
   ]
  },
  {
   "cell_type": "code",
   "execution_count": 89,
   "metadata": {},
   "outputs": [
    {
     "data": {
      "text/plain": [
       "['【 更新 】 柯P ： 洪智坤 洩漏 公文 案還 沒 看到 公文 \\u3000 今處理',\n",
       " '留 洪智坤   柯 ： 殘障 求職 不易',\n",
       " '人事 處議 處 洪智坤 \\u3000 柯P ： 不 清楚 議處 結果']"
      ]
     },
     "execution_count": 89,
     "metadata": {},
     "output_type": "execute_result"
    }
   ],
   "source": [
    "corpus"
   ]
  },
  {
   "cell_type": "code",
   "execution_count": 90,
   "metadata": {},
   "outputs": [],
   "source": [
    "from sklearn.feature_extraction.text import CountVectorizer\n",
    "vectorizer = CountVectorizer()\n",
    "X = vectorizer.fit_transform(corpus)"
   ]
  },
  {
   "cell_type": "code",
   "execution_count": 91,
   "metadata": {},
   "outputs": [
    {
     "name": "stdout",
     "output_type": "stream",
     "text": [
      "['不易', '人事', '今處理', '公文', '更新', '柯p', '案還', '殘障', '求職', '洩漏', '洪智坤', '清楚', '看到', '結果', '處議', '議處']\n"
     ]
    },
    {
     "data": {
      "text/plain": [
       "array([[0, 0, 1, 2, 1, 1, 1, 0, 0, 1, 1, 0, 1, 0, 0, 0],\n",
       "       [1, 0, 0, 0, 0, 0, 0, 1, 1, 0, 1, 0, 0, 0, 0, 0],\n",
       "       [0, 1, 0, 0, 0, 1, 0, 0, 0, 0, 1, 1, 0, 1, 1, 1]], dtype=int64)"
      ]
     },
     "execution_count": 91,
     "metadata": {},
     "output_type": "execute_result"
    }
   ],
   "source": [
    "print(vectorizer.get_feature_names())\n",
    "X.toarray()"
   ]
  },
  {
   "cell_type": "code",
   "execution_count": 92,
   "metadata": {},
   "outputs": [
    {
     "data": {
      "text/plain": [
       "array([[0.        , 3.60555128, 3.74165739],\n",
       "       [3.60555128, 0.        , 3.        ],\n",
       "       [3.74165739, 3.        , 0.        ]])"
      ]
     },
     "execution_count": 92,
     "metadata": {},
     "output_type": "execute_result"
    }
   ],
   "source": [
    "from sklearn.metrics.pairwise import euclidean_distances\n",
    "euclidean_distances(X)"
   ]
  },
  {
   "cell_type": "code",
   "execution_count": 106,
   "metadata": {},
   "outputs": [],
   "source": [
    "import jieba\n",
    "jieba.load_userdict('userdict.txt')\n",
    "synonym = {\n",
    "  '柯P': '柯文哲'  \n",
    "}\n",
    "\n",
    "ary = ['【更新】柯P：洪智坤洩漏公文案還沒看到公文　今處理',\n",
    "       '留洪智坤 柯文哲：殘障求職不易',\n",
    "       '人事處議處洪智坤　柯P：不清楚議處結果']\n",
    "\n",
    "corpus = []\n",
    "for title in ary:\n",
    "    corpus.append(' '.join([synonym.get(e, e) for e in jieba.cut(title)]))"
   ]
  },
  {
   "cell_type": "code",
   "execution_count": 107,
   "metadata": {},
   "outputs": [],
   "source": [
    "from sklearn.feature_extraction.text import CountVectorizer\n",
    "vectorizer = CountVectorizer()\n",
    "X = vectorizer.fit_transform(corpus)"
   ]
  },
  {
   "cell_type": "code",
   "execution_count": 108,
   "metadata": {},
   "outputs": [
    {
     "name": "stdout",
     "output_type": "stream",
     "text": [
      "['不易', '人事', '今處理', '公文', '更新', '柯文哲', '案還', '殘障', '求職', '洩漏', '洪智坤', '清楚', '看到', '結果', '處議', '議處']\n"
     ]
    },
    {
     "data": {
      "text/plain": [
       "array([[0, 0, 1, 2, 1, 1, 1, 0, 0, 1, 1, 0, 1, 0, 0, 0],\n",
       "       [1, 0, 0, 0, 0, 1, 0, 1, 1, 0, 1, 0, 0, 0, 0, 0],\n",
       "       [0, 1, 0, 0, 0, 1, 0, 0, 0, 0, 1, 1, 0, 1, 1, 1]], dtype=int64)"
      ]
     },
     "execution_count": 108,
     "metadata": {},
     "output_type": "execute_result"
    }
   ],
   "source": [
    "print(vectorizer.get_feature_names())\n",
    "X.toarray()"
   ]
  },
  {
   "cell_type": "code",
   "execution_count": 109,
   "metadata": {},
   "outputs": [],
   "source": [
    "from sklearn.feature_extraction.text import TfidfVectorizer\n",
    "vectorizer = TfidfVectorizer()\n",
    "X = vectorizer.fit_transform(corpus)"
   ]
  },
  {
   "cell_type": "code",
   "execution_count": 111,
   "metadata": {},
   "outputs": [
    {
     "name": "stdout",
     "output_type": "stream",
     "text": [
      "['不易', '人事', '今處理', '公文', '更新', '柯文哲', '案還', '殘障', '求職', '洩漏', '洪智坤', '清楚', '看到', '結果', '處議', '議處']\n"
     ]
    },
    {
     "data": {
      "text/plain": [
       "array([[0.        , 0.        , 0.32111947, 0.64223894, 0.32111947,\n",
       "        0.18965833, 0.32111947, 0.        , 0.        , 0.32111947,\n",
       "        0.18965833, 0.        , 0.32111947, 0.        , 0.        ,\n",
       "        0.        ],\n",
       "       [0.52004008, 0.        , 0.        , 0.        , 0.        ,\n",
       "        0.30714405, 0.        , 0.52004008, 0.52004008, 0.        ,\n",
       "        0.30714405, 0.        , 0.        , 0.        , 0.        ,\n",
       "        0.        ],\n",
       "       [0.        , 0.4189401 , 0.        , 0.        , 0.        ,\n",
       "        0.24743277, 0.        , 0.        , 0.        , 0.        ,\n",
       "        0.24743277, 0.4189401 , 0.        , 0.4189401 , 0.4189401 ,\n",
       "        0.4189401 ]])"
      ]
     },
     "execution_count": 111,
     "metadata": {},
     "output_type": "execute_result"
    }
   ],
   "source": [
    "print(vectorizer.get_feature_names())\n",
    "X.toarray()"
   ]
  },
  {
   "cell_type": "code",
   "execution_count": 118,
   "metadata": {},
   "outputs": [],
   "source": [
    "ary = [\n",
    "    '陳松勇酸她老公「考古學家」　周遊氣得想告',\n",
    "    '''周遊與老公李朝永將在10月8日補辦婚禮，前天一同出席關懷演藝人員中秋節餐會，同場的「勇伯」陳松勇卻大酸這對愛侶，周遊夫婦氣得想提告。\n",
    "\n",
    "《聯合報》報導，陳松勇直批周遊「她厚臉皮的故事，可以寫成一本書，不是『厚黑學』，叫『厚臉皮』！」還語出驚人表示，「她現在要結婚的這個人是考古學家，每天抱著殭屍在考古。」\n",
    "\n",
    "《壹電親》報導，周遊夫婦氣得大罵陳松勇，周遊說，「怎麼會這麼沒有水平」，「白冰冰也很生氣，替我生氣」、「我的律師說可以告他」。周遊老公李朝永不滿，說我是「考古學家」、「我覺得他這是人身攻擊」、「怎麼可以這樣子講話」、「我覺得一個人要留有口德」。'''\n",
    "]\n",
    "\n",
    "corpus = []\n",
    "for title in ary:\n",
    "    corpus.append(' '.join([synonym.get(e, e) for e in jieba.cut(title)]))"
   ]
  },
  {
   "cell_type": "code",
   "execution_count": 119,
   "metadata": {},
   "outputs": [],
   "source": [
    "from sklearn.feature_extraction.text import CountVectorizer\n",
    "vectorizer = CountVectorizer()\n",
    "X = vectorizer.fit_transform(corpus)"
   ]
  },
  {
   "cell_type": "code",
   "execution_count": 120,
   "metadata": {},
   "outputs": [
    {
     "name": "stdout",
     "output_type": "stream",
     "text": [
      "['10', '一個', '一同', '一本', '不是', '不滿', '中秋節', '人員', '人要', '人身', '出席', '出驚人', '前天', '勇伯', '卻大酸', '厚臉皮', '可以', '同場', '周遊', '報導', '壹電親', '夫婦', '她現', '婚禮', '學家', '寫成', '將在', '律師', '怎麼', '想告', '愛侶', '我覺', '抱著', '提告', '攻擊', '故事', '李朝永', '殭屍', '每天', '氣得', '水平', '沒有', '演藝', '生氣', '留有', '白冰冰', '直批', '結婚', '老公', '考古', '聯合報', '表示', '補辦', '講話', '這個', '這對', '這是', '這樣子', '這麼', '還語', '關懷', '陳松勇', '餐會', '黑學']\n"
     ]
    },
    {
     "data": {
      "text/plain": [
       "array([[0, 0, 0, 0, 0, 0, 0, 0, 0, 0, 0, 0, 0, 0, 0, 0, 0, 0, 1, 0, 0, 0,\n",
       "        0, 0, 1, 0, 0, 0, 0, 1, 0, 0, 0, 0, 0, 0, 0, 0, 0, 1, 0, 0, 0, 0,\n",
       "        0, 0, 0, 0, 1, 1, 0, 0, 0, 0, 0, 0, 0, 0, 0, 0, 0, 1, 0, 0],\n",
       "       [1, 1, 1, 1, 1, 1, 1, 1, 1, 1, 1, 1, 1, 1, 1, 2, 3, 1, 6, 2, 1, 2,\n",
       "        1, 1, 2, 1, 1, 1, 2, 0, 1, 2, 1, 1, 1, 1, 2, 1, 1, 2, 1, 1, 1, 2,\n",
       "        1, 1, 1, 1, 2, 3, 1, 1, 1, 1, 1, 1, 1, 1, 1, 1, 1, 3, 1, 1]],\n",
       "      dtype=int64)"
      ]
     },
     "execution_count": 120,
     "metadata": {},
     "output_type": "execute_result"
    }
   ],
   "source": [
    "print(vectorizer.get_feature_names())\n",
    "X.toarray()"
   ]
  },
  {
   "cell_type": "code",
   "execution_count": 121,
   "metadata": {},
   "outputs": [
    {
     "data": {
      "text/plain": [
       "array([[1.        , 0.55182541],\n",
       "       [0.55182541, 1.        ]])"
      ]
     },
     "execution_count": 121,
     "metadata": {},
     "output_type": "execute_result"
    }
   ],
   "source": [
    "from sklearn.metrics.pairwise import cosine_similarity\n",
    "cosine_similarity(X)"
   ]
  },
  {
   "cell_type": "code",
   "execution_count": 122,
   "metadata": {},
   "outputs": [
    {
     "data": {
      "text/plain": [
       "array([[0.        , 0.44817459],\n",
       "       [0.44817459, 0.        ]])"
      ]
     },
     "execution_count": 122,
     "metadata": {},
     "output_type": "execute_result"
    }
   ],
   "source": [
    "from sklearn.metrics.pairwise import cosine_distances\n",
    "cosine_distances(X)"
   ]
  },
  {
   "cell_type": "code",
   "execution_count": null,
   "metadata": {},
   "outputs": [],
   "source": []
  }
 ],
 "metadata": {
  "kernelspec": {
   "display_name": "Python 3",
   "language": "python",
   "name": "python3"
  },
  "language_info": {
   "codemirror_mode": {
    "name": "ipython",
    "version": 3
   },
   "file_extension": ".py",
   "mimetype": "text/x-python",
   "name": "python",
   "nbconvert_exporter": "python",
   "pygments_lexer": "ipython3",
   "version": "3.6.2"
  }
 },
 "nbformat": 4,
 "nbformat_minor": 2
}
